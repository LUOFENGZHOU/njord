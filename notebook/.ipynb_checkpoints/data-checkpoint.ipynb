{
 "cells": [
  {
   "cell_type": "markdown",
   "metadata": {},
   "source": [
    "# Test\n",
    "\n",
    "Import usefull packages + the njord library. For installations details please refer to README file. "
   ]
  },
  {
   "cell_type": "code",
   "execution_count": 1,
   "metadata": {},
   "outputs": [],
   "source": [
    "import njord as nj\n",
    "import numpy as np\n",
    "import pandas as pd\n",
    "import matplotlib.pyplot as plt"
   ]
  },
  {
   "cell_type": "markdown",
   "metadata": {},
   "source": [
    "## Hyper parameters"
   ]
  },
  {
   "cell_type": "code",
   "execution_count": 2,
   "metadata": {},
   "outputs": [],
   "source": [
    "PATH = \"../dataset\"\n",
    "SYMBOL = \"btcusdt\"\n",
    "FILENAME = \"dataset_binance_{}_period_600.csv\".format(SYMBOL)\n",
    "LOOKBACK = 8\n",
    "LOOKUP = 1"
   ]
  },
  {
   "cell_type": "markdown",
   "metadata": {},
   "source": [
    "## Dataset\n",
    "\n",
    "Load the dataset from .csv file to a pandas dataframe."
   ]
  },
  {
   "cell_type": "code",
   "execution_count": 3,
   "metadata": {},
   "outputs": [],
   "source": [
    "dataset = pd.read_csv(PATH + \"/\" + FILENAME)\n",
    "dataset = dataset.set_index(\"time\")\n",
    "dataset.index = pd.to_datetime(dataset.index)"
   ]
  },
  {
   "cell_type": "code",
   "execution_count": 4,
   "metadata": {},
   "outputs": [
    {
     "name": "stdout",
     "output_type": "stream",
     "text": [
      "Dataset size = \n",
      "11748\n",
      "Dataset head = \n",
      "                     open_price_#t  high_price_#t  low_price_#t  \\\n",
      "time                                                              \n",
      "2018-10-01 00:10:00        6626.57        6649.00       6622.13   \n",
      "2018-10-01 00:20:00        6645.21        6648.00       6632.59   \n",
      "2018-10-01 00:30:00        6640.03        6655.00       6638.98   \n",
      "2018-10-01 00:40:00        6643.43        6653.33       6638.78   \n",
      "2018-10-01 00:50:00        6650.00        6653.70       6641.30   \n",
      "\n",
      "                     close_price_#t  avg_price_#t  sum_qty_diff_norm_#n  \n",
      "time                                                                     \n",
      "2018-10-01 00:10:00         6645.20   6639.074520              0.270180  \n",
      "2018-10-01 00:20:00         6640.03   6639.989762              0.216486  \n",
      "2018-10-01 00:30:00         6643.41   6648.777817              0.536584  \n",
      "2018-10-01 00:40:00         6648.80   6644.145194             -0.020611  \n",
      "2018-10-01 00:50:00         6645.02   6646.068371              0.174034  \n"
     ]
    }
   ],
   "source": [
    "print(\"Dataset size = \\n{}\".format(dataset.size))\n",
    "print(\"Dataset head = \\n{}\".format(dataset.head()))"
   ]
  },
  {
   "cell_type": "markdown",
   "metadata": {},
   "source": [
    "## Batch\n",
    "\n",
    "We now have to build the batch, i.e. a feature array X with its associated targets Y. "
   ]
  },
  {
   "cell_type": "code",
   "execution_count": 5,
   "metadata": {},
   "outputs": [],
   "source": [
    "batch = nj.Batch(dataset, 8, 1)"
   ]
  },
  {
   "cell_type": "code",
   "execution_count": 6,
   "metadata": {
    "scrolled": false
   },
   "outputs": [
    {
     "name": "stdout",
     "output_type": "stream",
     "text": [
      "X shape = (1950, 8, 6)\n",
      "Y shape = (1950, 1, 6)\n"
     ]
    }
   ],
   "source": [
    "X, Y = batch.build(center=True)\n",
    "print(\"X shape = {}\".format(X.shape))\n",
    "print(\"Y shape = {}\".format(Y.shape))"
   ]
  },
  {
   "cell_type": "code",
   "execution_count": 7,
   "metadata": {},
   "outputs": [
    {
     "data": {
      "image/png": "[encoded data removed]",
      "text/plain": [
       "<Figure size 432x288 with 1 Axes>"
      ]
     },
     "metadata": {},
     "output_type": "display_data"
    }
   ],
   "source": [
    "fig = plt.figure()\n",
    "plt.plot(X[0,:,1], color=\"b\")\n",
    "plt.plot(X[0,:,1], color=\"r\")\n",
    "plt.plot(X[0,:,2], color=\"g\")\n",
    "plt.plot(X[0,:,3], color=\"c\")\n",
    "plt.plot(X[0,:,4], color=\"k\")\n",
    "plt.xlabel(\"time\")\n",
    "plt.ylabel(\"price {}\".format(SYMBOL))\n",
    "plt.show()"
   ]
  },
  {
   "cell_type": "markdown",
   "metadata": {},
   "source": [
    "## Normalise the data\n",
    "\n",
    "We now have the normalise the timeseries data before enterrring the training loop."
   ]
  },
  {
   "cell_type": "markdown",
   "metadata": {},
   "source": [
    "### 1. Mean and Std normalisation\n",
    "\n",
    "Compute the mean $\\mu$ and standard deviation $\\sigma$ of the batch.\n",
    "\n",
    "Rescale the dataset as:\n",
    "\n",
    "$$ X_{norm} = \\frac{X - \\mu}{\\sigma} $$"
   ]
  },
  {
   "cell_type": "code",
   "execution_count": 20,
   "metadata": {},
   "outputs": [
    {
     "name": "stdout",
     "output_type": "stream",
     "text": [
      "(8, 6)\n"
     ]
    }
   ],
   "source": [
    "# Compute the mean.\n",
    "mean = X.mean(axis=0)\n",
    "# Compute the standard deviation.\n",
    "std = X.mean(axis=0)\n",
    "# Normalise the data.\n",
    "X_norm = ( X - mean ) / ( std + 1.0E-8 )"
   ]
  },
  {
   "cell_type": "code",
   "execution_count": 19,
   "metadata": {},
   "outputs": [
    {
     "data": {
      "image/png": "[encoded data removed]",
      "text/plain": [
       "<Figure size 432x288 with 1 Axes>"
      ]
     },
     "metadata": {},
     "output_type": "display_data"
    }
   ],
   "source": [
    "# Histogram.\n",
    "hist1 = plt.hist(X_norm[:,:,0].reshape(-1, 1), 50, density=True, facecolor=\"b\", alpha=0.75)"
   ]
  },
  {
   "cell_type": "markdown",
   "metadata": {},
   "source": [
    "### 2. Uniform normalisation\n",
    "\n",
    "Compute the minimum and maximum for each timeseries sample.\n",
    "\n",
    "Rescale the dataset as:\n",
    "\n",
    "$$ X_{norm} = \\frac{ (X - \\max(X) + X - \\min(X)}{\\max(X) - \\min(X)} $$"
   ]
  },
  {
   "cell_type": "code",
   "execution_count": 41,
   "metadata": {},
   "outputs": [
    {
     "name": "stdout",
     "output_type": "stream",
     "text": [
      "X_norm shape = (1950, 8, 6)\n",
      "X_max shape  = (1950, 1, 6)\n",
      "X_min shape  = (1950, 1, 6)\n",
      "X_max = [[0.         0.         0.         0.         0.         0.22414271]]\n",
      "X_min = [[-25.4        -16.05       -27.89       -17.64       -16.92128743\n",
      "   -0.38430703]]\n"
     ]
    }
   ],
   "source": [
    "# Compute the maximum and minimum.\n",
    "X_max = np.max(X, axis=1, keepdims=True)\n",
    "X_min = np.min(X, axis=1, keepdims=True)\n",
    "\n",
    "# Normalise the data.\n",
    "X_norm = ( X - X_min ) / ( X_max - X_min )\n",
    "\n",
    "# Display shapes.\n",
    "print(\"X_norm shape = {}\".format(X_norm.shape))\n",
    "print(\"X_max shape  = {}\".format(X_max.shape))\n",
    "print(\"X_min shape  = {}\".format(X_min.shape))\n",
    "\n",
    "# Display the max and mins.\n",
    "print(\"X_max = {}\".format(X_max[0]))\n",
    "print(\"X_min = {}\".format(X_min[0]))"
   ]
  },
  {
   "cell_type": "code",
   "execution_count": 39,
   "metadata": {},
   "outputs": [
    {
     "data": {
      "image/png": "[encoded data removed]",
      "text/plain": [
       "<Figure size 432x288 with 1 Axes>"
      ]
     },
     "metadata": {},
     "output_type": "display_data"
    }
   ],
   "source": [
    "# Histogram.\n",
    "hist1 = plt.hist(X_norm[:,:,0:4].reshape(-1, 1), 50, density=True, facecolor=\"b\", alpha=0.75)"
   ]
  },
  {
   "cell_type": "code",
   "execution_count": null,
   "metadata": {},
   "outputs": [],
   "source": []
  }
 ],
 "metadata": {
  "kernelspec": {
   "display_name": "Python 3",
   "language": "python",
   "name": "python3"
  },
  "language_info": {
   "codemirror_mode": {
    "name": "ipython",
    "version": 3
   },
   "file_extension": ".py",
   "mimetype": "text/x-python",
   "name": "python",
   "nbconvert_exporter": "python",
   "pygments_lexer": "ipython3",
   "version": "3.6.6"
  }
 },
 "nbformat": 4,
 "nbformat_minor": 2
}
