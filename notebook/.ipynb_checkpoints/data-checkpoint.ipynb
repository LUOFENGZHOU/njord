{
 "cells": [
  {
   "cell_type": "markdown",
   "metadata": {},
   "source": [
    "# Test\n",
    "\n",
    "Import usefull packages + the njord library. For installations details please refer to README file. "
   ]
  },
  {
   "cell_type": "code",
   "execution_count": 63,
   "metadata": {},
   "outputs": [],
   "source": [
    "import njord as nj\n",
    "import numpy as np\n",
    "import pandas as pd\n",
    "import matplotlib.pyplot as plt"
   ]
  },
  {
   "cell_type": "markdown",
   "metadata": {},
   "source": [
    "## Hyper parameters"
   ]
  },
  {
   "cell_type": "code",
   "execution_count": 64,
   "metadata": {},
   "outputs": [],
   "source": [
    "# Dataset parameters.\n",
    "PATH = \"dataset\"\n",
    "SYMBOL = \"btcusdt\"\n",
    "DATASET = \"ohlc\"\n",
    "PERIOD = 600\n",
    "FILENAME_TR = \"binance_{}_{}_period_{}_{}.csv\".format(SYMBOL, DATASET, PERIOD, \"train\")\n",
    "FILENAME_TE = \"binance_{}_{}_period_{}_{}.csv\".format(SYMBOL, DATASET, PERIOD, \"test\")\n",
    "\n",
    "# Batch parameters.\n",
    "LOOKBACK = 16\n",
    "LOOKAHEAD = 1\n",
    "TARGET = \"close\""
   ]
  },
  {
   "cell_type": "markdown",
   "metadata": {},
   "source": [
    "## Dataset\n",
    "\n",
    "Load the dataset from .csv file to a pandas dataframe."
   ]
  },
  {
   "cell_type": "code",
   "execution_count": 65,
   "metadata": {},
   "outputs": [],
   "source": [
    "# Load the training dataset.\n",
    "data_tr = pd.read_csv(PATH + \"/\" + FILENAME_TR)\n",
    "data_tr = data_tr.set_index(\"time\")\n",
    "data_tr.index = pd.to_datetime(data_tr.index)\n",
    "\n",
    "# Load the test dataset.\n",
    "data_te = pd.read_csv(PATH + \"/\" + FILENAME_TE)\n",
    "data_te = data_te.set_index(\"time\")\n",
    "data_te.index = pd.to_datetime(data_te.index)"
   ]
  },
  {
   "cell_type": "code",
   "execution_count": 66,
   "metadata": {},
   "outputs": [
    {
     "name": "stdout",
     "output_type": "stream",
     "text": [
      "Number of samples train = (8784, 5)\n",
      "Number of samples test = (2736, 5)\n",
      "\n",
      "3. training head: \n",
      "                        open     high      low    close          avg\n",
      "time                                                                \n",
      "2018-09-01 00:10:00  7011.21  7044.35  7010.00  7041.65  7029.350052\n",
      "2018-09-01 00:20:00  7041.87  7041.87  7031.82  7038.41  7037.445636\n",
      "2018-09-01 00:30:00  7038.41  7046.00  7034.72  7046.00  7041.031830\n",
      "2018-09-01 00:40:00  7046.00  7049.00  7036.28  7043.81  7044.063838\n",
      "2018-09-01 00:50:00  7045.42  7046.33  7030.05  7030.05  7038.251102\n",
      "\n",
      "3. test head: \n",
      "                        open     high      low    close          avg\n",
      "time                                                                \n",
      "2018-11-01 00:10:00  6371.93  6376.99  6369.57  6375.15  6374.240114\n",
      "2018-11-01 00:20:00  6375.19  6376.98  6372.19  6374.48  6374.350265\n",
      "2018-11-01 00:30:00  6373.21  6375.00  6360.77  6366.25  6368.364441\n",
      "2018-11-01 00:40:00  6366.56  6366.80  6355.00  6355.17  6361.868075\n",
      "2018-11-01 00:50:00  6360.69  6364.26  6355.37  6363.84  6361.195457\n"
     ]
    }
   ],
   "source": [
    "# Display the number of samples for the datasets.\n",
    "print(\"Number of samples train = {}\".format(data_tr.shape))\n",
    "print(\"Number of samples test = {}\".format(data_te.shape))\n",
    "\n",
    "# Display the head of the dataset.\n",
    "print(\"\\n3. training head: \\n{}\".format(data_tr.head()))\n",
    "print(\"\\n3. test head: \\n{}\".format(data_te.head()))"
   ]
  },
  {
   "cell_type": "markdown",
   "metadata": {},
   "source": [
    "## Batch and data normalisation\n",
    "\n",
    "We now have to build the batch, i.e. a feature array X with its associated targets Y. \n",
    "\n",
    "- The timeseries X are normalise with the pivot method.\n",
    "\n",
    "- The targets are casted:\n",
    "    1. Y > 0 = 1, rise\n",
    "    2. Y < 0 = 0, drop"
   ]
  },
  {
   "cell_type": "code",
   "execution_count": 67,
   "metadata": {
    "scrolled": false
   },
   "outputs": [],
   "source": [
    "# Load the training and test batch.\n",
    "batch_tr = nj.Batch(data_tr, LOOKBACK, LOOKAHEAD)\n",
    "batch_te = nj.Batch(data_te, LOOKBACK, LOOKAHEAD)\n",
    "\n",
    "# Build the training and test batch to get the features and the targets.\n",
    "X_tr, Y_tr = batch_tr.build(target=\"avg\", method=\"pvt\")\n",
    "X_te, Y_te = batch_te.build(target=\"avg\", method=\"pvt\")\n",
    "\n",
    "# Cast the targets.\n",
    "Y_tr = 1.0 * ( Y_tr > 0.0 ).reshape(-1,1)\n",
    "Y_te = 1.0 * ( Y_te > 0.0 ).reshape(-1,1)"
   ]
  },
  {
   "cell_type": "code",
   "execution_count": 68,
   "metadata": {},
   "outputs": [
    {
     "name": "stdout",
     "output_type": "stream",
     "text": [
      "\n",
      "Features info:\n",
      "X_tr shape = (8751, 16, 5)\n",
      "X_tr mean  = 0.010660262377854819\n",
      "X_tr std   = 0.5791731304359717\n",
      "X_te shape = (2669, 16, 5)\n",
      "X_te mean  = 0.07223071167349669\n",
      "X_te std   = 0.5865227771674386\n"
     ]
    }
   ],
   "source": [
    "# Display features information.\n",
    "print(\"\\nFeatures info:\")\n",
    "print(\"X_tr shape = {}\".format(X_tr.shape))\n",
    "print(\"X_tr mean  = {}\".format(X_tr.mean()))\n",
    "print(\"X_tr std   = {}\".format(X_tr.std()))\n",
    "print(\"X_te shape = {}\".format(X_te.shape))\n",
    "print(\"X_te mean  = {}\".format(X_te.mean()))\n",
    "print(\"X_te std   = {}\".format(X_te.std()))"
   ]
  },
  {
   "cell_type": "code",
   "execution_count": 69,
   "metadata": {},
   "outputs": [
    {
     "name": "stdout",
     "output_type": "stream",
     "text": [
      "\n",
      "Targets info:\n",
      "Y_tr shape = (8751, 1)\n",
      "Y_tr mean  = 0.5069134956005028\n",
      "Y_tr std   = 0.4999522012938655\n",
      "Y_tr samples = \n",
      "[0. 0. 0. 1. 1. 1. 1. 1. 1. 0.]\n",
      "Y_te shape = (2669, 1)\n",
      "Y_te mean  = 0.49044585987261147\n",
      "Y_te std   = 0.4999087100725754\n",
      "Y_te samples = \n",
      "[1. 1. 0. 0. 1. 1. 1. 0. 0. 1.]\n"
     ]
    }
   ],
   "source": [
    "# Display targets information.\n",
    "print(\"\\nTargets info:\")\n",
    "print(\"Y_tr shape = {}\".format(Y_tr.shape))\n",
    "print(\"Y_tr mean  = {}\".format(Y_tr.mean()))\n",
    "print(\"Y_tr std   = {}\".format(Y_tr.std()))\n",
    "print(\"Y_tr samples = \\n{}\".format(Y_tr[0:10,0]))\n",
    "print(\"Y_te shape = {}\".format(Y_te.shape))\n",
    "print(\"Y_te mean  = {}\".format(Y_te.mean()))\n",
    "print(\"Y_te std   = {}\".format(Y_te.std()))\n",
    "print(\"Y_te samples = \\n{}\".format(Y_te[0:10,0]))"
   ]
  },
  {
   "cell_type": "code",
   "execution_count": 80,
   "metadata": {},
   "outputs": [
    {
     "data": {
      "image/png": "[encoded data removed]",
      "text/plain": [
       "<Figure size 432x288 with 1 Axes>"
      ]
     },
     "metadata": {},
     "output_type": "display_data"
    }
   ],
   "source": [
    "# Histogram: Features.\n",
    "histX = plt.hist(X_tr.reshape(-1, 1), 1000, density=True, facecolor=\"b\", alpha=0.75)\n",
    "histX = plt.hist(X_te.reshape(-1, 1), 1000, density=True, facecolor=\"g\", alpha=0.75)"
   ]
  },
  {
   "cell_type": "code",
   "execution_count": 81,
   "metadata": {},
   "outputs": [
    {
     "name": "stdout",
     "output_type": "stream",
     "text": [
      "Number of drops tr = 4315\n",
      "Number of rises tr = 4436\n",
      "Number of drops te = 1360\n",
      "Number of rises te = 1309\n"
     ]
    },
    {
     "data": {
      "image/png": "[encoded data removed]",
      "text/plain": [
       "<Figure size 432x288 with 1 Axes>"
      ]
     },
     "metadata": {},
     "output_type": "display_data"
    }
   ],
   "source": [
    "# Histogram: Targets.\n",
    "histY = plt.hist(Y_tr, 5, density=True, facecolor=\"b\", alpha=0.50)\n",
    "histY = plt.hist(Y_te, 5, density=True, facecolor=\"g\", alpha=0.50)\n",
    "\n",
    "# Evalute the number of rise and drops for the training set.\n",
    "print(\"Number of drops tr = {}\".format(np.sum(Y_tr == 0)))\n",
    "print(\"Number of rises tr = {}\".format(np.sum(Y_tr == 1)))\n",
    "\n",
    "# Evaluate the number of rise and drops for the test set.\n",
    "print(\"Number of drops te = {}\".format(np.sum(Y_te == 0)))\n",
    "print(\"Number of rises te = {}\".format(np.sum(Y_te == 1)))"
   ]
  },
  {
   "cell_type": "markdown",
   "metadata": {},
   "source": [
    "## Training\n",
    "\n",
    "Train a model with keras."
   ]
  },
  {
   "cell_type": "code",
   "execution_count": 91,
   "metadata": {},
   "outputs": [],
   "source": [
    "# Import usefull packages.\n",
    "from keras.models import Sequential\n",
    "from keras.layers import Dense\n",
    "from keras.layers import Dropout\n",
    "from keras import optimizers"
   ]
  },
  {
   "cell_type": "code",
   "execution_count": 92,
   "metadata": {},
   "outputs": [],
   "source": [
    "# Reshape the training dataset.\n",
    "X_train = X_tr.reshape(X_tr.shape[0], -1)\n",
    "Y_train = Y_tr.reshape(X_tr.shape[0], -1)\n",
    "\n",
    "# Reshape the test dataset.\n",
    "X_test = X_te.reshape(X_te.shape[0], -1)\n",
    "Y_test = Y_te.reshape(X_te.shape[0], -1)"
   ]
  },
  {
   "cell_type": "code",
   "execution_count": 93,
   "metadata": {},
   "outputs": [],
   "source": [
    "# Build the model.\n",
    "model = Sequential()\n",
    "model.add(Dense(units=64, activation=\"relu\", input_dim=X_train.shape[1]))\n",
    "model.add(Dropout(0.5))\n",
    "model.add(Dense(units=64, activation=\"relu\"))\n",
    "model.add(Dropout(0.5))\n",
    "model.add(Dense(units=64, activation=\"relu\"))\n",
    "model.add(Dropout(0.5))\n",
    "model.add(Dense(units=1, activation=\"sigmoid\"))"
   ]
  },
  {
   "cell_type": "code",
   "execution_count": 94,
   "metadata": {},
   "outputs": [],
   "source": [
    "# Set the optimizer.\n",
    "optimizer = optimizers.RMSprop(lr=0.00025, rho=0.95, epsilon=1.0E-6, decay=0.0)"
   ]
  },
  {
   "cell_type": "code",
   "execution_count": 95,
   "metadata": {},
   "outputs": [],
   "source": [
    "# Compile the model.\n",
    "model.compile(loss=\"binary_crossentropy\", optimizer=optimizer, metrics=[\"accuracy\"])"
   ]
  },
  {
   "cell_type": "code",
   "execution_count": 96,
   "metadata": {},
   "outputs": [
    {
     "name": "stdout",
     "output_type": "stream",
     "text": [
      "Train on 8751 samples, validate on 2669 samples\n",
      "Epoch 1/100\n",
      "8751/8751 [==============================] - 1s 72us/step - loss: 0.7071 - acc: 0.5313 - val_loss: 0.6755 - val_acc: 0.6253\n",
      "Epoch 2/100\n",
      "8751/8751 [==============================] - 0s 16us/step - loss: 0.6857 - acc: 0.5763 - val_loss: 0.6593 - val_acc: 0.6486\n",
      "Epoch 3/100\n",
      "8751/8751 [==============================] - 0s 15us/step - loss: 0.6681 - acc: 0.6160 - val_loss: 0.6391 - val_acc: 0.6583\n",
      "Epoch 4/100\n",
      "8751/8751 [==============================] - 0s 15us/step - loss: 0.6498 - acc: 0.6387 - val_loss: 0.6181 - val_acc: 0.6729\n",
      "Epoch 5/100\n",
      "8751/8751 [==============================] - 0s 16us/step - loss: 0.6340 - acc: 0.6540 - val_loss: 0.6019 - val_acc: 0.6842\n",
      "Epoch 6/100\n",
      "8751/8751 [==============================] - 0s 15us/step - loss: 0.6190 - acc: 0.6716 - val_loss: 0.5886 - val_acc: 0.6909\n",
      "Epoch 7/100\n",
      "8751/8751 [==============================] - 0s 15us/step - loss: 0.6104 - acc: 0.6803 - val_loss: 0.5847 - val_acc: 0.6924\n",
      "Epoch 8/100\n",
      "8751/8751 [==============================] - 0s 16us/step - loss: 0.6103 - acc: 0.6840 - val_loss: 0.5776 - val_acc: 0.6984\n",
      "Epoch 9/100\n",
      "8751/8751 [==============================] - 0s 17us/step - loss: 0.6048 - acc: 0.6929 - val_loss: 0.5741 - val_acc: 0.6995\n",
      "Epoch 10/100\n",
      "8751/8751 [==============================] - 0s 16us/step - loss: 0.5982 - acc: 0.6907 - val_loss: 0.5693 - val_acc: 0.7018\n",
      "Epoch 11/100\n",
      "8751/8751 [==============================] - 0s 26us/step - loss: 0.5949 - acc: 0.6927 - val_loss: 0.5662 - val_acc: 0.7036\n",
      "Epoch 12/100\n",
      "8751/8751 [==============================] - 0s 17us/step - loss: 0.5885 - acc: 0.6950 - val_loss: 0.5638 - val_acc: 0.7021\n",
      "Epoch 13/100\n",
      "8751/8751 [==============================] - 0s 18us/step - loss: 0.5879 - acc: 0.6967 - val_loss: 0.5733 - val_acc: 0.6928\n",
      "Epoch 14/100\n",
      "8751/8751 [==============================] - 0s 16us/step - loss: 0.5827 - acc: 0.6981 - val_loss: 0.5586 - val_acc: 0.7156\n",
      "Epoch 15/100\n",
      "8751/8751 [==============================] - 0s 18us/step - loss: 0.5800 - acc: 0.7064 - val_loss: 0.5584 - val_acc: 0.7040\n",
      "Epoch 16/100\n",
      "8751/8751 [==============================] - 0s 18us/step - loss: 0.5843 - acc: 0.7064 - val_loss: 0.5570 - val_acc: 0.7179\n",
      "Epoch 17/100\n",
      "8751/8751 [==============================] - 0s 15us/step - loss: 0.5816 - acc: 0.7054 - val_loss: 0.5682 - val_acc: 0.7010\n",
      "Epoch 18/100\n",
      "8751/8751 [==============================] - 0s 15us/step - loss: 0.5738 - acc: 0.7048 - val_loss: 0.5529 - val_acc: 0.7044\n",
      "Epoch 19/100\n",
      "8751/8751 [==============================] - 0s 17us/step - loss: 0.5738 - acc: 0.7112 - val_loss: 0.5544 - val_acc: 0.7040\n",
      "Epoch 20/100\n",
      "8751/8751 [==============================] - 0s 17us/step - loss: 0.5708 - acc: 0.7051 - val_loss: 0.5553 - val_acc: 0.7152\n",
      "Epoch 21/100\n",
      "8751/8751 [==============================] - 0s 18us/step - loss: 0.5766 - acc: 0.7117 - val_loss: 0.5510 - val_acc: 0.7111\n",
      "Epoch 22/100\n",
      "8751/8751 [==============================] - 0s 17us/step - loss: 0.5749 - acc: 0.7103 - val_loss: 0.5487 - val_acc: 0.7216\n",
      "Epoch 23/100\n",
      "8751/8751 [==============================] - 0s 24us/step - loss: 0.5711 - acc: 0.7173 - val_loss: 0.5488 - val_acc: 0.7224\n",
      "Epoch 24/100\n",
      "8751/8751 [==============================] - 0s 16us/step - loss: 0.5691 - acc: 0.7134 - val_loss: 0.5520 - val_acc: 0.7051\n",
      "Epoch 25/100\n",
      "8751/8751 [==============================] - 0s 16us/step - loss: 0.5644 - acc: 0.7141 - val_loss: 0.5453 - val_acc: 0.7197\n",
      "Epoch 26/100\n",
      "8751/8751 [==============================] - 0s 16us/step - loss: 0.5666 - acc: 0.7102 - val_loss: 0.5467 - val_acc: 0.7216\n",
      "Epoch 27/100\n",
      "8751/8751 [==============================] - 0s 18us/step - loss: 0.5691 - acc: 0.7109 - val_loss: 0.5469 - val_acc: 0.7235\n",
      "Epoch 28/100\n",
      "8751/8751 [==============================] - 0s 24us/step - loss: 0.5646 - acc: 0.7124 - val_loss: 0.5493 - val_acc: 0.7164\n",
      "Epoch 29/100\n",
      "8751/8751 [==============================] - 0s 16us/step - loss: 0.5627 - acc: 0.7141 - val_loss: 0.5464 - val_acc: 0.7179\n",
      "Epoch 30/100\n",
      "8751/8751 [==============================] - 0s 16us/step - loss: 0.5663 - acc: 0.7159 - val_loss: 0.5483 - val_acc: 0.7197\n",
      "Epoch 31/100\n",
      "8751/8751 [==============================] - 0s 16us/step - loss: 0.5587 - acc: 0.7139 - val_loss: 0.5503 - val_acc: 0.7070\n",
      "Epoch 32/100\n",
      "8751/8751 [==============================] - 0s 26us/step - loss: 0.5671 - acc: 0.7110 - val_loss: 0.5529 - val_acc: 0.7040\n",
      "Epoch 33/100\n",
      "8751/8751 [==============================] - 0s 16us/step - loss: 0.5629 - acc: 0.7134 - val_loss: 0.5441 - val_acc: 0.7254\n",
      "Epoch 34/100\n",
      "8751/8751 [==============================] - 0s 16us/step - loss: 0.5620 - acc: 0.7176 - val_loss: 0.5483 - val_acc: 0.7123\n",
      "Epoch 35/100\n",
      "8751/8751 [==============================] - 0s 16us/step - loss: 0.5603 - acc: 0.7167 - val_loss: 0.5449 - val_acc: 0.7119\n",
      "Epoch 36/100\n",
      "8751/8751 [==============================] - 0s 16us/step - loss: 0.5639 - acc: 0.7149 - val_loss: 0.5477 - val_acc: 0.7093\n",
      "Epoch 37/100\n",
      "8751/8751 [==============================] - 0s 13us/step - loss: 0.5593 - acc: 0.7116 - val_loss: 0.5425 - val_acc: 0.7227\n",
      "Epoch 38/100\n",
      "8751/8751 [==============================] - 0s 13us/step - loss: 0.5562 - acc: 0.7169 - val_loss: 0.5461 - val_acc: 0.7074\n",
      "Epoch 39/100\n",
      "8751/8751 [==============================] - 0s 13us/step - loss: 0.5611 - acc: 0.7161 - val_loss: 0.5404 - val_acc: 0.7194\n",
      "Epoch 40/100\n",
      "8751/8751 [==============================] - 0s 16us/step - loss: 0.5573 - acc: 0.7152 - val_loss: 0.5422 - val_acc: 0.7246\n",
      "Epoch 41/100\n",
      "8751/8751 [==============================] - 0s 16us/step - loss: 0.5593 - acc: 0.7188 - val_loss: 0.5428 - val_acc: 0.7265\n",
      "Epoch 42/100\n",
      "8751/8751 [==============================] - 0s 26us/step - loss: 0.5565 - acc: 0.7189 - val_loss: 0.5450 - val_acc: 0.7250\n",
      "Epoch 43/100\n",
      "8751/8751 [==============================] - 0s 27us/step - loss: 0.5584 - acc: 0.7139 - val_loss: 0.5444 - val_acc: 0.7096\n",
      "Epoch 44/100\n",
      "8751/8751 [==============================] - 0s 16us/step - loss: 0.5579 - acc: 0.7156 - val_loss: 0.5401 - val_acc: 0.7250\n",
      "Epoch 45/100\n",
      "8751/8751 [==============================] - 0s 15us/step - loss: 0.5576 - acc: 0.7175 - val_loss: 0.5472 - val_acc: 0.7220\n",
      "Epoch 46/100\n",
      "8751/8751 [==============================] - 0s 16us/step - loss: 0.5600 - acc: 0.7179 - val_loss: 0.5441 - val_acc: 0.7235\n",
      "Epoch 47/100\n",
      "8751/8751 [==============================] - 0s 21us/step - loss: 0.5538 - acc: 0.7209 - val_loss: 0.5452 - val_acc: 0.7081\n",
      "Epoch 48/100\n",
      "8751/8751 [==============================] - 0s 24us/step - loss: 0.5540 - acc: 0.7220 - val_loss: 0.5493 - val_acc: 0.7029\n",
      "Epoch 49/100\n",
      "8751/8751 [==============================] - 0s 18us/step - loss: 0.5558 - acc: 0.7240 - val_loss: 0.5426 - val_acc: 0.7059\n",
      "Epoch 50/100\n",
      "8751/8751 [==============================] - 0s 16us/step - loss: 0.5506 - acc: 0.7223 - val_loss: 0.5400 - val_acc: 0.7201\n",
      "Epoch 51/100\n",
      "8751/8751 [==============================] - 0s 22us/step - loss: 0.5554 - acc: 0.7207 - val_loss: 0.5412 - val_acc: 0.7167\n",
      "Epoch 52/100\n",
      "8751/8751 [==============================] - 0s 24us/step - loss: 0.5532 - acc: 0.7231 - val_loss: 0.5449 - val_acc: 0.7093\n",
      "Epoch 53/100\n",
      "8751/8751 [==============================] - 0s 26us/step - loss: 0.5540 - acc: 0.7231 - val_loss: 0.5411 - val_acc: 0.7235\n",
      "Epoch 54/100\n",
      "8751/8751 [==============================] - 0s 30us/step - loss: 0.5520 - acc: 0.7217 - val_loss: 0.5398 - val_acc: 0.7269\n",
      "Epoch 55/100\n",
      "8751/8751 [==============================] - 0s 23us/step - loss: 0.5521 - acc: 0.7213 - val_loss: 0.5404 - val_acc: 0.7179\n",
      "Epoch 56/100\n",
      "8751/8751 [==============================] - 0s 18us/step - loss: 0.5509 - acc: 0.7201 - val_loss: 0.5390 - val_acc: 0.7231\n",
      "Epoch 57/100\n",
      "8751/8751 [==============================] - 0s 17us/step - loss: 0.5568 - acc: 0.7176 - val_loss: 0.5432 - val_acc: 0.7100\n",
      "Epoch 58/100\n",
      "8751/8751 [==============================] - 0s 31us/step - loss: 0.5522 - acc: 0.7221 - val_loss: 0.5398 - val_acc: 0.7231\n",
      "Epoch 59/100\n",
      "8751/8751 [==============================] - 0s 17us/step - loss: 0.5507 - acc: 0.7227 - val_loss: 0.5375 - val_acc: 0.7284\n",
      "Epoch 60/100\n"
     ]
    },
    {
     "name": "stdout",
     "output_type": "stream",
     "text": [
      "8751/8751 [==============================] - 0s 22us/step - loss: 0.5493 - acc: 0.7236 - val_loss: 0.5399 - val_acc: 0.7224\n",
      "Epoch 61/100\n",
      "8751/8751 [==============================] - 0s 20us/step - loss: 0.5476 - acc: 0.7265 - val_loss: 0.5385 - val_acc: 0.7220\n",
      "Epoch 62/100\n",
      "8751/8751 [==============================] - 0s 23us/step - loss: 0.5509 - acc: 0.7259 - val_loss: 0.5425 - val_acc: 0.7269\n",
      "Epoch 63/100\n",
      "8751/8751 [==============================] - 0s 23us/step - loss: 0.5504 - acc: 0.7287 - val_loss: 0.5405 - val_acc: 0.7182\n",
      "Epoch 64/100\n",
      "8751/8751 [==============================] - 0s 19us/step - loss: 0.5439 - acc: 0.7286 - val_loss: 0.5432 - val_acc: 0.7089\n",
      "Epoch 65/100\n",
      "8751/8751 [==============================] - 0s 15us/step - loss: 0.5411 - acc: 0.7225 - val_loss: 0.5375 - val_acc: 0.7209\n",
      "Epoch 66/100\n",
      "8751/8751 [==============================] - 0s 15us/step - loss: 0.5479 - acc: 0.7269 - val_loss: 0.5427 - val_acc: 0.7216\n",
      "Epoch 67/100\n",
      "8751/8751 [==============================] - 0s 19us/step - loss: 0.5512 - acc: 0.7221 - val_loss: 0.5426 - val_acc: 0.7190\n",
      "Epoch 68/100\n",
      "8751/8751 [==============================] - 0s 22us/step - loss: 0.5463 - acc: 0.7272 - val_loss: 0.5376 - val_acc: 0.7239\n",
      "Epoch 69/100\n",
      "8751/8751 [==============================] - 0s 23us/step - loss: 0.5496 - acc: 0.7221 - val_loss: 0.5392 - val_acc: 0.7167\n",
      "Epoch 70/100\n",
      "8751/8751 [==============================] - 0s 17us/step - loss: 0.5489 - acc: 0.7262 - val_loss: 0.5425 - val_acc: 0.7175\n",
      "Epoch 71/100\n",
      "8751/8751 [==============================] - 0s 16us/step - loss: 0.5446 - acc: 0.7331 - val_loss: 0.5364 - val_acc: 0.7220\n",
      "Epoch 72/100\n",
      "8751/8751 [==============================] - 0s 26us/step - loss: 0.5432 - acc: 0.7280 - val_loss: 0.5365 - val_acc: 0.7205\n",
      "Epoch 73/100\n",
      "8751/8751 [==============================] - 0s 29us/step - loss: 0.5472 - acc: 0.7255 - val_loss: 0.5380 - val_acc: 0.7227\n",
      "Epoch 74/100\n",
      "8751/8751 [==============================] - 0s 24us/step - loss: 0.5456 - acc: 0.7246 - val_loss: 0.5393 - val_acc: 0.7265\n",
      "Epoch 75/100\n",
      "8751/8751 [==============================] - 0s 16us/step - loss: 0.5428 - acc: 0.7317 - val_loss: 0.5430 - val_acc: 0.7160\n",
      "Epoch 76/100\n",
      "8751/8751 [==============================] - 0s 18us/step - loss: 0.5493 - acc: 0.7251 - val_loss: 0.5409 - val_acc: 0.7197\n",
      "Epoch 77/100\n",
      "8751/8751 [==============================] - 0s 29us/step - loss: 0.5461 - acc: 0.7268 - val_loss: 0.5384 - val_acc: 0.7231\n",
      "Epoch 78/100\n",
      "8751/8751 [==============================] - 0s 18us/step - loss: 0.5428 - acc: 0.7312 - val_loss: 0.5399 - val_acc: 0.7235\n",
      "Epoch 79/100\n",
      "8751/8751 [==============================] - 0s 17us/step - loss: 0.5435 - acc: 0.7281 - val_loss: 0.5415 - val_acc: 0.7149\n",
      "Epoch 80/100\n",
      "8751/8751 [==============================] - 0s 16us/step - loss: 0.5463 - acc: 0.7271 - val_loss: 0.5367 - val_acc: 0.7239\n",
      "Epoch 81/100\n",
      "8751/8751 [==============================] - 0s 22us/step - loss: 0.5439 - acc: 0.7284 - val_loss: 0.5487 - val_acc: 0.7134\n",
      "Epoch 82/100\n",
      "8751/8751 [==============================] - 0s 22us/step - loss: 0.5386 - acc: 0.7308 - val_loss: 0.5425 - val_acc: 0.7212\n",
      "Epoch 83/100\n",
      "8751/8751 [==============================] - 0s 20us/step - loss: 0.5468 - acc: 0.7267 - val_loss: 0.5380 - val_acc: 0.7205\n",
      "Epoch 84/100\n",
      "8751/8751 [==============================] - 0s 22us/step - loss: 0.5444 - acc: 0.7279 - val_loss: 0.5397 - val_acc: 0.7197\n",
      "Epoch 85/100\n",
      "8751/8751 [==============================] - 0s 25us/step - loss: 0.5416 - acc: 0.7271 - val_loss: 0.5420 - val_acc: 0.7209\n",
      "Epoch 86/100\n",
      "8751/8751 [==============================] - 0s 28us/step - loss: 0.5436 - acc: 0.7259 - val_loss: 0.5391 - val_acc: 0.7194\n",
      "Epoch 87/100\n",
      "8751/8751 [==============================] - 0s 21us/step - loss: 0.5439 - acc: 0.7280 - val_loss: 0.5421 - val_acc: 0.7175\n",
      "Epoch 88/100\n",
      "8751/8751 [==============================] - 0s 15us/step - loss: 0.5415 - acc: 0.7263 - val_loss: 0.5380 - val_acc: 0.7239\n",
      "Epoch 89/100\n",
      "8751/8751 [==============================] - 0s 31us/step - loss: 0.5453 - acc: 0.7261 - val_loss: 0.5389 - val_acc: 0.7194\n",
      "Epoch 90/100\n",
      "8751/8751 [==============================] - 0s 33us/step - loss: 0.5393 - acc: 0.7313 - val_loss: 0.5383 - val_acc: 0.7179\n",
      "Epoch 91/100\n",
      "8751/8751 [==============================] - 0s 26us/step - loss: 0.5443 - acc: 0.7327 - val_loss: 0.5373 - val_acc: 0.7246\n",
      "Epoch 92/100\n",
      "8751/8751 [==============================] - 0s 22us/step - loss: 0.5449 - acc: 0.7317 - val_loss: 0.5388 - val_acc: 0.7224\n",
      "Epoch 93/100\n",
      "8751/8751 [==============================] - 0s 24us/step - loss: 0.5435 - acc: 0.7281 - val_loss: 0.5382 - val_acc: 0.7250\n",
      "Epoch 94/100\n",
      "8751/8751 [==============================] - 0s 22us/step - loss: 0.5429 - acc: 0.7261 - val_loss: 0.5438 - val_acc: 0.7209\n",
      "Epoch 95/100\n",
      "8751/8751 [==============================] - 0s 27us/step - loss: 0.5417 - acc: 0.7228 - val_loss: 0.5431 - val_acc: 0.7197\n",
      "Epoch 96/100\n",
      "8751/8751 [==============================] - 0s 27us/step - loss: 0.5451 - acc: 0.7255 - val_loss: 0.5392 - val_acc: 0.7257\n",
      "Epoch 97/100\n",
      "8751/8751 [==============================] - 0s 26us/step - loss: 0.5481 - acc: 0.7292 - val_loss: 0.5388 - val_acc: 0.7212\n",
      "Epoch 98/100\n",
      "8751/8751 [==============================] - 0s 31us/step - loss: 0.5395 - acc: 0.7285 - val_loss: 0.5367 - val_acc: 0.7269\n",
      "Epoch 99/100\n",
      "8751/8751 [==============================] - 0s 20us/step - loss: 0.5403 - acc: 0.7275 - val_loss: 0.5365 - val_acc: 0.7209\n",
      "Epoch 100/100\n",
      "8751/8751 [==============================] - 0s 20us/step - loss: 0.5404 - acc: 0.7297 - val_loss: 0.5404 - val_acc: 0.7239\n"
     ]
    }
   ],
   "source": [
    "# Set the training parameters.\n",
    "params = {\n",
    "    \"epochs\": 200,\n",
    "    \"batch_size\": 256,\n",
    "    \"validation_data\": (X_test, Y_test)\n",
    "}\n",
    "\n",
    "# Train the model.\n",
    "history = model.fit(X_train, Y_train, **params)\n"
   ]
  },
  {
   "cell_type": "code",
   "execution_count": 97,
   "metadata": {},
   "outputs": [
    {
     "data": {
      "image/png": "[encoded data removed]",
      "text/plain": [
       "<Figure size 432x288 with 1 Axes>"
      ]
     },
     "metadata": {},
     "output_type": "display_data"
    }
   ],
   "source": [
    "# Figure: loss vs epochs.\n",
    "plt.figure()\n",
    "plt.plot(history.history[\"loss\"], label=\"tr\", color=\"r\")\n",
    "plt.plot(history.history[\"val_loss\"], label=\"te\", color=\"b\")\n",
    "plt.xlabel(\"epochs\")\n",
    "plt.ylabel(\"loss\")\n",
    "plt.legend()\n",
    "plt.show()"
   ]
  },
  {
   "cell_type": "code",
   "execution_count": 98,
   "metadata": {},
   "outputs": [
    {
     "data": {
      "image/png": "[encoded data removed]",
      "text/plain": [
       "<Figure size 432x288 with 1 Axes>"
      ]
     },
     "metadata": {},
     "output_type": "display_data"
    }
   ],
   "source": [
    "# Figure: accuracy vs. epochs.\n",
    "plt.figure()\n",
    "plt.plot(history.history[\"acc\"], label=\"tr\", color=\"r\")\n",
    "plt.plot(history.history[\"val_acc\"], label=\"te\", color=\"b\")\n",
    "plt.xlabel(\"epochs\")\n",
    "plt.ylabel(\"loss\")\n",
    "plt.legend()\n",
    "plt.show()"
   ]
  },
  {
   "cell_type": "code",
   "execution_count": null,
   "metadata": {},
   "outputs": [],
   "source": []
  },
  {
   "cell_type": "code",
   "execution_count": null,
   "metadata": {},
   "outputs": [],
   "source": []
  }
 ],
 "metadata": {
  "kernelspec": {
   "display_name": "Python 3",
   "language": "python",
   "name": "python3"
  },
  "language_info": {
   "codemirror_mode": {
    "name": "ipython",
    "version": 3
   },
   "file_extension": ".py",
   "mimetype": "text/x-python",
   "name": "python",
   "nbconvert_exporter": "python",
   "pygments_lexer": "ipython3",
   "version": "3.6.6"
  }
 },
 "nbformat": 4,
 "nbformat_minor": 2
}
