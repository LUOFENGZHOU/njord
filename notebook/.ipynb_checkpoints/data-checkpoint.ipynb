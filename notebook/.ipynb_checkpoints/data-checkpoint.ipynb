{
 "cells": [
  {
   "cell_type": "markdown",
   "metadata": {},
   "source": [
    "# Test\n",
    "\n",
    "Import usefull packages + the njord library. For installations details please refer to README file. "
   ]
  },
  {
   "cell_type": "code",
   "execution_count": 116,
   "metadata": {},
   "outputs": [],
   "source": [
    "import njord as nj\n",
    "import numpy as np\n",
    "import pandas as pd\n",
    "import matplotlib.pyplot as plt"
   ]
  },
  {
   "cell_type": "markdown",
   "metadata": {},
   "source": [
    "## Hyper parameters"
   ]
  },
  {
   "cell_type": "code",
   "execution_count": 118,
   "metadata": {},
   "outputs": [],
   "source": [
    "# Dataset parameters.\n",
    "PATH = \"dataset\"\n",
    "SYMBOL = \"btcusdt\"\n",
    "DATASET = \"ohlc\"\n",
    "PERIOD = 600\n",
    "FILENAME_TR = \"binance_{}_{}_period_{}_{}.csv\".format(SYMBOL, DATASET, PERIOD, \"train\")\n",
    "FILENAME_TE = \"binance_{}_{}_period_{}_{}.csv\".format(SYMBOL, DATASET, PERIOD, \"test\")\n",
    "\n",
    "# Batch parameters.\n",
    "LOOKBACK = 16\n",
    "LOOKAHEAD = 1\n",
    "TARGET = \"close\""
   ]
  },
  {
   "cell_type": "markdown",
   "metadata": {},
   "source": [
    "## Dataset\n",
    "\n",
    "Load the dataset from .csv file to a pandas dataframe."
   ]
  },
  {
   "cell_type": "code",
   "execution_count": 119,
   "metadata": {},
   "outputs": [],
   "source": [
    "# Load the training dataset.\n",
    "data_tr = pd.read_csv(PATH + \"/\" + FILENAME_TR)\n",
    "data_tr = data_tr.set_index(\"time\")\n",
    "data_tr.index = pd.to_datetime(data_tr.index)\n",
    "\n",
    "# Load the test dataset.\n",
    "data_te = pd.read_csv(PATH + \"/\" + FILENAME_TE)\n",
    "data_te = data_te.set_index(\"time\")\n",
    "data_te.index = pd.to_datetime(data_te.index)"
   ]
  },
  {
   "cell_type": "code",
   "execution_count": 123,
   "metadata": {},
   "outputs": [
    {
     "name": "stdout",
     "output_type": "stream",
     "text": [
      "Number of samples train = (8784, 5)\n",
      "Number of samples test = (2736, 5)\n",
      "\n",
      "3. data_tr head: \n",
      "                     open_price_#t  high_price_#t  low_price_#t  \\\n",
      "time                                                              \n",
      "2018-09-01 00:10:00        7011.21        7044.35       7010.00   \n",
      "2018-09-01 00:20:00        7041.87        7041.87       7031.82   \n",
      "2018-09-01 00:30:00        7038.41        7046.00       7034.72   \n",
      "2018-09-01 00:40:00        7046.00        7049.00       7036.28   \n",
      "2018-09-01 00:50:00        7045.42        7046.33       7030.05   \n",
      "\n",
      "                     close_price_#t  avg_price_#t  \n",
      "time                                               \n",
      "2018-09-01 00:10:00         7041.65   7029.350052  \n",
      "2018-09-01 00:20:00         7038.41   7037.445636  \n",
      "2018-09-01 00:30:00         7046.00   7041.031830  \n",
      "2018-09-01 00:40:00         7043.81   7044.063838  \n",
      "2018-09-01 00:50:00         7030.05   7038.251102  \n",
      "\n",
      "3. data_te head: \n",
      "                     open_price_#t  high_price_#t  low_price_#t  \\\n",
      "time                                                              \n",
      "2018-11-01 00:10:00        6371.93        6376.99       6369.57   \n",
      "2018-11-01 00:20:00        6375.19        6376.98       6372.19   \n",
      "2018-11-01 00:30:00        6373.21        6375.00       6360.77   \n",
      "2018-11-01 00:40:00        6366.56        6366.80       6355.00   \n",
      "2018-11-01 00:50:00        6360.69        6364.26       6355.37   \n",
      "\n",
      "                     close_price_#t  avg_price_#t  \n",
      "time                                               \n",
      "2018-11-01 00:10:00         6375.15   6374.240114  \n",
      "2018-11-01 00:20:00         6374.48   6374.350265  \n",
      "2018-11-01 00:30:00         6366.25   6368.364441  \n",
      "2018-11-01 00:40:00         6355.17   6361.868075  \n",
      "2018-11-01 00:50:00         6363.84   6361.195457  \n"
     ]
    }
   ],
   "source": [
    "# Display the number of samples for the datasets.\n",
    "print(\"Number of samples train = {}\".format(data_tr.shape))\n",
    "print(\"Number of samples test = {}\".format(data_te.shape))\n",
    "\n",
    "# Display the head of the dataset.\n",
    "print(\"\\n3. data_tr head: \\n{}\".format(data_tr.head()))\n",
    "print(\"\\n3. data_te head: \\n{}\".format(data_te.head()))"
   ]
  },
  {
   "cell_type": "markdown",
   "metadata": {},
   "source": [
    "## Batch and data normalisation\n",
    "\n",
    "We now have to build the batch, i.e. a feature array X with its associated targets Y. \n",
    "\n",
    "- The timeseries X are normalise with the pivot method.\n",
    "\n",
    "- The targets are casted:\n",
    "    1. Y > 0 = 1, rise\n",
    "    2. Y < 0 = 0, drop"
   ]
  },
  {
   "cell_type": "code",
   "execution_count": 84,
   "metadata": {
    "scrolled": false
   },
   "outputs": [],
   "source": [
    "# Load the batch.\n",
    "batch = nj.Batch(dataset, LOOKBACK, LOOKAHEAD)\n",
    "\n",
    "# Build the batch to get the features and the targets.\n",
    "X, Y = batch.build(target=\"avg\", method=\"pvt\")\n",
    "\n",
    "# Cast the targets.\n",
    "Y = 1.0 * ( Y > 0.0 ).reshape(-1,1)"
   ]
  },
  {
   "cell_type": "code",
   "execution_count": 85,
   "metadata": {},
   "outputs": [
    {
     "name": "stdout",
     "output_type": "stream",
     "text": [
      "\n",
      "Features info:\n",
      "X shape = (1432, 32, 5)\n",
      "X mean  = 0.14922946799737277\n",
      "X std   = 1.9289079231409956\n"
     ]
    }
   ],
   "source": [
    "# Display features information.\n",
    "print(\"\\nFeatures info:\")\n",
    "print(\"X shape = {}\".format(X.shape))\n",
    "print(\"X mean  = {}\".format(X.mean()))\n",
    "print(\"X std   = {}\".format(X.std()))"
   ]
  },
  {
   "cell_type": "code",
   "execution_count": 86,
   "metadata": {},
   "outputs": [
    {
     "name": "stdout",
     "output_type": "stream",
     "text": [
      "\n",
      "Targets info:\n",
      "Y shape = (1432, 1)\n",
      "Y mean  = 0.4972067039106145\n",
      "Y std   = 0.499992197436077\n",
      "Y samples = \n",
      "[1. 1. 0. 0. 0. 0. 0. 1. 1. 1.]\n"
     ]
    }
   ],
   "source": [
    "# Display targets information.\n",
    "print(\"\\nTargets info:\")\n",
    "print(\"Y shape = {}\".format(Y.shape))\n",
    "print(\"Y mean  = {}\".format(Y.mean()))\n",
    "print(\"Y std   = {}\".format(Y.std()))\n",
    "print(\"Y samples = \\n{}\".format(Y[0:10,0]))"
   ]
  },
  {
   "cell_type": "code",
   "execution_count": 87,
   "metadata": {},
   "outputs": [
    {
     "data": {
      "image/png": "[encoded data removed]",
      "text/plain": [
       "<Figure size 432x288 with 1 Axes>"
      ]
     },
     "metadata": {},
     "output_type": "display_data"
    }
   ],
   "source": [
    "# Histogram: Features.\n",
    "histX = plt.hist(X.reshape(-1, 1), 500, density=True, facecolor=\"b\", alpha=0.75)"
   ]
  },
  {
   "cell_type": "code",
   "execution_count": 88,
   "metadata": {},
   "outputs": [
    {
     "name": "stdout",
     "output_type": "stream",
     "text": [
      "Number of drops = 720\n",
      "Number of rises = 712\n"
     ]
    },
    {
     "data": {
      "image/png": "[encoded data removed]",
      "text/plain": [
       "<Figure size 432x288 with 1 Axes>"
      ]
     },
     "metadata": {},
     "output_type": "display_data"
    }
   ],
   "source": [
    "# Histogram: Targets.\n",
    "histY = plt.hist(Y, 10, density=True, facecolor=\"b\", alpha=0.50)\n",
    "\n",
    "# Evalute the number of rise and drops.\n",
    "print(\"Number of drops = {}\".format(np.sum(Y == 0)))\n",
    "print(\"Number of rises = {}\".format(np.sum(Y == 1)))"
   ]
  },
  {
   "cell_type": "code",
   "execution_count": 89,
   "metadata": {},
   "outputs": [
    {
     "data": {
      "image/png": "[encoded data removed]",
      "text/plain": [
       "<Figure size 432x288 with 1 Axes>"
      ]
     },
     "metadata": {},
     "output_type": "display_data"
    }
   ],
   "source": [
    "# Figure.\n",
    "fig = plt.figure()\n",
    "plt.plot(X[0,:,1], color=\"b\")\n",
    "plt.plot(X[0,:,1], color=\"r\")\n",
    "plt.plot(X[0,:,2], color=\"g\")\n",
    "plt.plot(X[0,:,3], color=\"c\")\n",
    "plt.plot(X[0,:,4], color=\"k\")\n",
    "plt.xlabel(\"time\")\n",
    "plt.ylabel(\"price {}\".format(SYMBOL))\n",
    "plt.show()"
   ]
  },
  {
   "cell_type": "markdown",
   "metadata": {},
   "source": [
    "## Training\n",
    "\n",
    "Train a model with keras."
   ]
  },
  {
   "cell_type": "code",
   "execution_count": 110,
   "metadata": {},
   "outputs": [],
   "source": [
    "# Import usefull packages.\n",
    "from keras.models import Sequential\n",
    "from keras.layers import Dense\n",
    "from keras.layers import Dropout"
   ]
  },
  {
   "cell_type": "code",
   "execution_count": 111,
   "metadata": {},
   "outputs": [],
   "source": [
    "# Dataset size.\n",
    "m, t, n = X.shape\n",
    "\n",
    "# Dataset information.\n",
    "X_train = X.reshape(m, -1)\n",
    "Y_train = Y.reshape(m, -1)"
   ]
  },
  {
   "cell_type": "code",
   "execution_count": 112,
   "metadata": {},
   "outputs": [],
   "source": [
    "# Build the model\n",
    "model = Sequential()\n",
    "model.add(Dense(units=64, activation=\"relu\", input_dim=t*n))\n",
    "model.add(Dropout(0.5))\n",
    "model.add(Dense(units=64, activation=\"relu\"))\n",
    "model.add(Dropout(0.5))\n",
    "model.add(Dense(units=1, activation=\"sigmoid\"))"
   ]
  },
  {
   "cell_type": "code",
   "execution_count": 113,
   "metadata": {},
   "outputs": [],
   "source": [
    "model.compile(loss=\"binary_crossentropy\", optimizer=\"Adam\", metrics=[\"accuracy\"])"
   ]
  },
  {
   "cell_type": "code",
   "execution_count": 115,
   "metadata": {},
   "outputs": [
    {
     "name": "stdout",
     "output_type": "stream",
     "text": [
      "Train on 1145 samples, validate on 287 samples\n",
      "Epoch 1/20\n",
      "1145/1145 [==============================] - 0s 55us/step - loss: 0.7011 - acc: 0.5991 - val_loss: 0.6685 - val_acc: 0.6167\n",
      "Epoch 2/20\n",
      "1145/1145 [==============================] - 0s 56us/step - loss: 0.6839 - acc: 0.5974 - val_loss: 0.6655 - val_acc: 0.6202\n",
      "Epoch 3/20\n",
      "1145/1145 [==============================] - 0s 47us/step - loss: 0.6708 - acc: 0.6332 - val_loss: 0.6621 - val_acc: 0.6167\n",
      "Epoch 4/20\n",
      "1145/1145 [==============================] - 0s 46us/step - loss: 0.6653 - acc: 0.6052 - val_loss: 0.6577 - val_acc: 0.6341\n",
      "Epoch 5/20\n",
      "1145/1145 [==============================] - 0s 45us/step - loss: 0.6682 - acc: 0.6175 - val_loss: 0.6545 - val_acc: 0.6202\n",
      "Epoch 6/20\n",
      "1145/1145 [==============================] - 0s 48us/step - loss: 0.6619 - acc: 0.6262 - val_loss: 0.6541 - val_acc: 0.6237\n",
      "Epoch 7/20\n",
      "1145/1145 [==============================] - 0s 46us/step - loss: 0.6441 - acc: 0.6323 - val_loss: 0.6552 - val_acc: 0.6202\n",
      "Epoch 8/20\n",
      "1145/1145 [==============================] - 0s 43us/step - loss: 0.6650 - acc: 0.6157 - val_loss: 0.6527 - val_acc: 0.6272\n",
      "Epoch 9/20\n",
      "1145/1145 [==============================] - 0s 43us/step - loss: 0.6713 - acc: 0.6262 - val_loss: 0.6494 - val_acc: 0.6376\n",
      "Epoch 10/20\n",
      "1145/1145 [==============================] - 0s 51us/step - loss: 0.6338 - acc: 0.6498 - val_loss: 0.6453 - val_acc: 0.6237\n",
      "Epoch 11/20\n",
      "1145/1145 [==============================] - 0s 59us/step - loss: 0.6387 - acc: 0.6533 - val_loss: 0.6435 - val_acc: 0.6341\n",
      "Epoch 12/20\n",
      "1145/1145 [==============================] - 0s 61us/step - loss: 0.6474 - acc: 0.6480 - val_loss: 0.6399 - val_acc: 0.6411\n",
      "Epoch 13/20\n",
      "1145/1145 [==============================] - 0s 51us/step - loss: 0.6373 - acc: 0.6515 - val_loss: 0.6396 - val_acc: 0.6376\n",
      "Epoch 14/20\n",
      "1145/1145 [==============================] - 0s 70us/step - loss: 0.6313 - acc: 0.6769 - val_loss: 0.6361 - val_acc: 0.6516\n",
      "Epoch 15/20\n",
      "1145/1145 [==============================] - 0s 85us/step - loss: 0.6488 - acc: 0.6472 - val_loss: 0.6350 - val_acc: 0.6411\n",
      "Epoch 16/20\n",
      "1145/1145 [==============================] - 0s 74us/step - loss: 0.6295 - acc: 0.6838 - val_loss: 0.6313 - val_acc: 0.6690\n",
      "Epoch 17/20\n",
      "1145/1145 [==============================] - 0s 73us/step - loss: 0.6326 - acc: 0.6576 - val_loss: 0.6277 - val_acc: 0.6411\n",
      "Epoch 18/20\n",
      "1145/1145 [==============================] - 0s 71us/step - loss: 0.6330 - acc: 0.6655 - val_loss: 0.6313 - val_acc: 0.6516\n",
      "Epoch 19/20\n",
      "1145/1145 [==============================] - 0s 72us/step - loss: 0.6180 - acc: 0.6734 - val_loss: 0.6277 - val_acc: 0.6341\n",
      "Epoch 20/20\n",
      "1145/1145 [==============================] - 0s 71us/step - loss: 0.6405 - acc: 0.6594 - val_loss: 0.6296 - val_acc: 0.6516\n"
     ]
    },
    {
     "data": {
      "text/plain": [
       "<keras.callbacks.History at 0x122ad3dd8>"
      ]
     },
     "execution_count": 115,
     "metadata": {},
     "output_type": "execute_result"
    }
   ],
   "source": [
    "# x_train and y_train are Numpy arrays --just like in the Scikit-Learn API.\n",
    "model.fit(X_train, Y_train, epochs=20, batch_size=64, validation_split=0.20)"
   ]
  },
  {
   "cell_type": "code",
   "execution_count": null,
   "metadata": {},
   "outputs": [],
   "source": []
  }
 ],
 "metadata": {
  "kernelspec": {
   "display_name": "Python 3",
   "language": "python",
   "name": "python3"
  },
  "language_info": {
   "codemirror_mode": {
    "name": "ipython",
    "version": 3
   },
   "file_extension": ".py",
   "mimetype": "text/x-python",
   "name": "python",
   "nbconvert_exporter": "python",
   "pygments_lexer": "ipython3",
   "version": "3.6.6"
  }
 },
 "nbformat": 4,
 "nbformat_minor": 2
}
