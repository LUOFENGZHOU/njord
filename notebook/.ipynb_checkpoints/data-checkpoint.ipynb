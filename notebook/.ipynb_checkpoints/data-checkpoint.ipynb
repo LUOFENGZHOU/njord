{
 "cells": [
  {
   "cell_type": "markdown",
   "metadata": {},
   "source": [
    "# Test\n",
    "\n",
    "Import usefull packages + the njord library. For installations details please refer to README file. "
   ]
  },
  {
   "cell_type": "code",
   "execution_count": 125,
   "metadata": {},
   "outputs": [],
   "source": [
    "import njord as nj\n",
    "import numpy as np\n",
    "import pandas as pd\n",
    "import matplotlib.pyplot as plt"
   ]
  },
  {
   "cell_type": "markdown",
   "metadata": {},
   "source": [
    "## Hyper parameters"
   ]
  },
  {
   "cell_type": "code",
   "execution_count": 126,
   "metadata": {},
   "outputs": [],
   "source": [
    "# Dataset parameters.\n",
    "PATH = \"dataset\"\n",
    "SYMBOL = \"btcusdt\"\n",
    "DATASET = \"ohlc\"\n",
    "PERIOD = 600\n",
    "FILENAME_TR = \"binance_{}_{}_period_{}_{}.csv\".format(SYMBOL, DATASET, PERIOD, \"train\")\n",
    "FILENAME_TE = \"binance_{}_{}_period_{}_{}.csv\".format(SYMBOL, DATASET, PERIOD, \"test\")\n",
    "\n",
    "# Batch parameters.\n",
    "LOOKBACK = 16\n",
    "LOOKAHEAD = 1\n",
    "TARGET = \"close\""
   ]
  },
  {
   "cell_type": "markdown",
   "metadata": {},
   "source": [
    "## Dataset\n",
    "\n",
    "Load the dataset from .csv file to a pandas dataframe."
   ]
  },
  {
   "cell_type": "code",
   "execution_count": 127,
   "metadata": {},
   "outputs": [],
   "source": [
    "# Load the training dataset.\n",
    "data_tr = pd.read_csv(PATH + \"/\" + FILENAME_TR)\n",
    "data_tr = data_tr.set_index(\"time\")\n",
    "data_tr.index = pd.to_datetime(data_tr.index)\n",
    "\n",
    "# Load the test dataset.\n",
    "data_te = pd.read_csv(PATH + \"/\" + FILENAME_TE)\n",
    "data_te = data_te.set_index(\"time\")\n",
    "data_te.index = pd.to_datetime(data_te.index)"
   ]
  },
  {
   "cell_type": "code",
   "execution_count": 129,
   "metadata": {},
   "outputs": [
    {
     "name": "stdout",
     "output_type": "stream",
     "text": [
      "Number of samples train = (8784, 5)\n",
      "Number of samples test = (2736, 5)\n",
      "\n",
      "3. training head: \n",
      "                        open     high      low    close          avg\n",
      "time                                                                \n",
      "2018-09-01 00:10:00  7011.21  7044.35  7010.00  7041.65  7029.350052\n",
      "2018-09-01 00:20:00  7041.87  7041.87  7031.82  7038.41  7037.445636\n",
      "2018-09-01 00:30:00  7038.41  7046.00  7034.72  7046.00  7041.031830\n",
      "2018-09-01 00:40:00  7046.00  7049.00  7036.28  7043.81  7044.063838\n",
      "2018-09-01 00:50:00  7045.42  7046.33  7030.05  7030.05  7038.251102\n",
      "\n",
      "3. test head: \n",
      "                        open     high      low    close          avg\n",
      "time                                                                \n",
      "2018-11-01 00:10:00  6371.93  6376.99  6369.57  6375.15  6374.240114\n",
      "2018-11-01 00:20:00  6375.19  6376.98  6372.19  6374.48  6374.350265\n",
      "2018-11-01 00:30:00  6373.21  6375.00  6360.77  6366.25  6368.364441\n",
      "2018-11-01 00:40:00  6366.56  6366.80  6355.00  6355.17  6361.868075\n",
      "2018-11-01 00:50:00  6360.69  6364.26  6355.37  6363.84  6361.195457\n"
     ]
    }
   ],
   "source": [
    "# Display the number of samples for the datasets.\n",
    "print(\"Number of samples train = {}\".format(data_tr.shape))\n",
    "print(\"Number of samples test = {}\".format(data_te.shape))\n",
    "\n",
    "# Display the head of the dataset.\n",
    "print(\"\\n3. training head: \\n{}\".format(data_tr.head()))\n",
    "print(\"\\n3. test head: \\n{}\".format(data_te.head()))"
   ]
  },
  {
   "cell_type": "markdown",
   "metadata": {},
   "source": [
    "## Batch and data normalisation\n",
    "\n",
    "We now have to build the batch, i.e. a feature array X with its associated targets Y. \n",
    "\n",
    "- The timeseries X are normalise with the pivot method.\n",
    "\n",
    "- The targets are casted:\n",
    "    1. Y > 0 = 1, rise\n",
    "    2. Y < 0 = 0, drop"
   ]
  },
  {
   "cell_type": "code",
   "execution_count": 133,
   "metadata": {
    "scrolled": false
   },
   "outputs": [],
   "source": [
    "# Load the training and test batch.\n",
    "batch_tr = nj.Batch(data_tr, LOOKBACK, LOOKAHEAD)\n",
    "batch_te = nj.Batch(data_te, LOOKBACK, LOOKAHEAD)\n",
    "\n",
    "# Build the training and test batch to get the features and the targets.\n",
    "X_tr, Y_tr = batch_tr.build(target=\"avg\", method=\"pvt\")\n",
    "X_te, Y_te = batch_te.build(target=\"avg\", method=\"pvt\")\n",
    "\n",
    "# Cast the targets.\n",
    "Y_tr = 1.0 * ( Y_tr > 0.0 ).reshape(-1,1)\n",
    "Y_te = 1.0 * ( Y_te > 0.0 ).reshape(-1,1)"
   ]
  },
  {
   "cell_type": "code",
   "execution_count": 136,
   "metadata": {},
   "outputs": [
    {
     "name": "stdout",
     "output_type": "stream",
     "text": [
      "\n",
      "Features info:\n",
      "X_tr shape = (8751, 16, 5)\n",
      "X_tr mean  = 0.010660262377854819\n",
      "X_tr std   = 0.5791731304359717\n",
      "X_te shape = (2669, 16, 5)\n",
      "X_te mean  = 0.07223071167349669\n",
      "X_te std   = 0.5865227771674386\n"
     ]
    }
   ],
   "source": [
    "# Display features information.\n",
    "print(\"\\nFeatures info:\")\n",
    "print(\"X_tr shape = {}\".format(X_tr.shape))\n",
    "print(\"X_tr mean  = {}\".format(X_tr.mean()))\n",
    "print(\"X_tr std   = {}\".format(X_tr.std()))\n",
    "print(\"X_te shape = {}\".format(X_te.shape))\n",
    "print(\"X_te mean  = {}\".format(X_te.mean()))\n",
    "print(\"X_te std   = {}\".format(X_te.std()))"
   ]
  },
  {
   "cell_type": "code",
   "execution_count": 137,
   "metadata": {},
   "outputs": [
    {
     "name": "stdout",
     "output_type": "stream",
     "text": [
      "\n",
      "Targets info:\n",
      "Y_tr shape = (8751, 1)\n",
      "Y_tr mean  = 0.5069134956005028\n",
      "Y_tr std   = 0.4999522012938655\n",
      "Y_tr samples = \n",
      "[0. 0. 0. 1. 1. 1. 1. 1. 1. 0.]\n",
      "Y_te shape = (2669, 1)\n",
      "Y_te mean  = 0.49044585987261147\n",
      "Y_te std   = 0.4999087100725754\n",
      "Y_te samples = \n",
      "[1. 1. 0. 0. 1. 1. 1. 0. 0. 1.]\n"
     ]
    }
   ],
   "source": [
    "# Display targets information.\n",
    "print(\"\\nTargets info:\")\n",
    "print(\"Y_tr shape = {}\".format(Y_tr.shape))\n",
    "print(\"Y_tr mean  = {}\".format(Y_tr.mean()))\n",
    "print(\"Y_tr std   = {}\".format(Y_tr.std()))\n",
    "print(\"Y_tr samples = \\n{}\".format(Y_tr[0:10,0]))\n",
    "print(\"Y_te shape = {}\".format(Y_te.shape))\n",
    "print(\"Y_te mean  = {}\".format(Y_te.mean()))\n",
    "print(\"Y_te std   = {}\".format(Y_te.std()))\n",
    "print(\"Y_te samples = \\n{}\".format(Y_te[0:10,0]))"
   ]
  },
  {
   "cell_type": "code",
   "execution_count": 138,
   "metadata": {},
   "outputs": [
    {
     "data": {
      "image/png": "[encoded data removed]",
      "text/plain": [
       "<Figure size 432x288 with 1 Axes>"
      ]
     },
     "metadata": {},
     "output_type": "display_data"
    }
   ],
   "source": [
    "# Histogram: Features.\n",
    "histX = plt.hist(X_tr.reshape(-1, 1), 500, density=True, facecolor=\"b\", alpha=0.75)\n",
    "histX = plt.hist(X_te.reshape(-1, 1), 500, density=True, facecolor=\"g\", alpha=0.75)"
   ]
  },
  {
   "cell_type": "code",
   "execution_count": 142,
   "metadata": {},
   "outputs": [
    {
     "name": "stdout",
     "output_type": "stream",
     "text": [
      "Number of drops tr = 4315\n",
      "Number of rises tr = 4436\n",
      "Number of drops te = 1360\n",
      "Number of rises te = 1309\n"
     ]
    },
    {
     "data": {
      "image/png": "[encoded data removed]",
      "text/plain": [
       "<Figure size 432x288 with 1 Axes>"
      ]
     },
     "metadata": {},
     "output_type": "display_data"
    }
   ],
   "source": [
    "# Histogram: Targets.\n",
    "histY = plt.hist(Y_tr, 5, density=True, facecolor=\"b\", alpha=0.50)\n",
    "histY = plt.hist(Y_te, 5, density=True, facecolor=\"g\", alpha=0.50)\n",
    "\n",
    "# Evalute the number of rise and drops for the training set.\n",
    "print(\"Number of drops tr = {}\".format(np.sum(Y_tr == 0)))\n",
    "print(\"Number of rises tr = {}\".format(np.sum(Y_tr == 1)))\n",
    "\n",
    "# Evaluate the number of rise and drops for the test set.\n",
    "print(\"Number of drops te = {}\".format(np.sum(Y_te == 0)))\n",
    "print(\"Number of rises te = {}\".format(np.sum(Y_te == 1)))"
   ]
  },
  {
   "cell_type": "markdown",
   "metadata": {},
   "source": [
    "## Training\n",
    "\n",
    "Train a model with keras."
   ]
  },
  {
   "cell_type": "code",
   "execution_count": 143,
   "metadata": {},
   "outputs": [],
   "source": [
    "# Import usefull packages.\n",
    "from keras.models import Sequential\n",
    "from keras.layers import Dense\n",
    "from keras.layers import Dropout"
   ]
  },
  {
   "cell_type": "code",
   "execution_count": 150,
   "metadata": {},
   "outputs": [],
   "source": [
    "# Reshape the training dataset.\n",
    "X_train = X_tr.reshape(X_tr.shape[0], -1)\n",
    "Y_train = Y_tr.reshape(X_tr.shape[0], -1)\n",
    "\n",
    "# Reshape the test dataset.\n",
    "X_test = X_te.reshape(X_te.shape[0], -1)\n",
    "Y_test = Y_te.reshape(X_te.shape[0], -1)"
   ]
  },
  {
   "cell_type": "code",
   "execution_count": 174,
   "metadata": {},
   "outputs": [],
   "source": [
    "# Build the model\n",
    "model = Sequential()\n",
    "model.add(Dense(units=64, activation=\"relu\", input_dim=t*n))\n",
    "model.add(Dropout(0.5))\n",
    "model.add(Dense(units=64, activation=\"relu\"))\n",
    "model.add(Dropout(0.5))\n",
    "model.add(Dense(units=1, activation=\"sigmoid\"))"
   ]
  },
  {
   "cell_type": "code",
   "execution_count": 175,
   "metadata": {},
   "outputs": [],
   "source": [
    "model.compile(loss=\"binary_crossentropy\", optimizer=\"Adam\", metrics=[\"accuracy\"])"
   ]
  },
  {
   "cell_type": "code",
   "execution_count": 176,
   "metadata": {},
   "outputs": [
    {
     "name": "stdout",
     "output_type": "stream",
     "text": [
      "Train on 8751 samples, validate on 2669 samples\n",
      "Epoch 1/20\n",
      "8751/8751 [==============================] - 1s 77us/step - loss: 0.7172 - acc: 0.5326 - val_loss: 0.6722 - val_acc: 0.6516\n",
      "Epoch 2/20\n",
      "8751/8751 [==============================] - 0s 13us/step - loss: 0.6804 - acc: 0.5874 - val_loss: 0.6557 - val_acc: 0.6613\n",
      "Epoch 3/20\n",
      "8751/8751 [==============================] - 0s 13us/step - loss: 0.6634 - acc: 0.6263 - val_loss: 0.6371 - val_acc: 0.6673\n",
      "Epoch 4/20\n",
      "8751/8751 [==============================] - 0s 13us/step - loss: 0.6388 - acc: 0.6655 - val_loss: 0.6127 - val_acc: 0.6804\n",
      "Epoch 5/20\n",
      "8751/8751 [==============================] - 0s 14us/step - loss: 0.6170 - acc: 0.6707 - val_loss: 0.5921 - val_acc: 0.6920\n",
      "Epoch 6/20\n",
      "8751/8751 [==============================] - 0s 15us/step - loss: 0.6024 - acc: 0.6874 - val_loss: 0.5843 - val_acc: 0.6886\n",
      "Epoch 7/20\n",
      "8751/8751 [==============================] - 0s 15us/step - loss: 0.6004 - acc: 0.6884 - val_loss: 0.5744 - val_acc: 0.6980\n",
      "Epoch 8/20\n",
      "8751/8751 [==============================] - 0s 16us/step - loss: 0.5936 - acc: 0.6959 - val_loss: 0.5702 - val_acc: 0.7006\n",
      "Epoch 9/20\n",
      "8751/8751 [==============================] - 0s 16us/step - loss: 0.5959 - acc: 0.6908 - val_loss: 0.5688 - val_acc: 0.7003\n",
      "Epoch 10/20\n",
      "8751/8751 [==============================] - 0s 24us/step - loss: 0.5862 - acc: 0.6982 - val_loss: 0.5634 - val_acc: 0.7006\n",
      "Epoch 11/20\n",
      "8751/8751 [==============================] - 0s 15us/step - loss: 0.5822 - acc: 0.6999 - val_loss: 0.5587 - val_acc: 0.7066\n",
      "Epoch 12/20\n",
      "8751/8751 [==============================] - 0s 13us/step - loss: 0.5768 - acc: 0.7056 - val_loss: 0.5586 - val_acc: 0.7033\n",
      "Epoch 13/20\n",
      "8751/8751 [==============================] - 0s 14us/step - loss: 0.5776 - acc: 0.7054 - val_loss: 0.5572 - val_acc: 0.7044\n",
      "Epoch 14/20\n",
      "8751/8751 [==============================] - 0s 14us/step - loss: 0.5746 - acc: 0.7043 - val_loss: 0.5535 - val_acc: 0.7096\n",
      "Epoch 15/20\n",
      "8751/8751 [==============================] - 0s 25us/step - loss: 0.5739 - acc: 0.7003 - val_loss: 0.5533 - val_acc: 0.7093\n",
      "Epoch 16/20\n",
      "8751/8751 [==============================] - 0s 23us/step - loss: 0.5735 - acc: 0.7105 - val_loss: 0.5527 - val_acc: 0.7194\n",
      "Epoch 17/20\n",
      "8751/8751 [==============================] - 0s 20us/step - loss: 0.5741 - acc: 0.7049 - val_loss: 0.5503 - val_acc: 0.7096\n",
      "Epoch 18/20\n",
      "8751/8751 [==============================] - 0s 21us/step - loss: 0.5682 - acc: 0.7107 - val_loss: 0.5506 - val_acc: 0.7108\n",
      "Epoch 19/20\n",
      "8751/8751 [==============================] - 0s 21us/step - loss: 0.5723 - acc: 0.7088 - val_loss: 0.5483 - val_acc: 0.7081\n",
      "Epoch 20/20\n",
      "8751/8751 [==============================] - 0s 15us/step - loss: 0.5683 - acc: 0.7089 - val_loss: 0.5488 - val_acc: 0.7171\n"
     ]
    }
   ],
   "source": [
    "# x_train and y_train are Numpy arrays --just like in the Scikit-Learn API.\n",
    "history = model.fit(X_train, Y_train, validation_data=(X_test, Y_test), epochs=50, batch_size=256)"
   ]
  },
  {
   "cell_type": "code",
   "execution_count": 177,
   "metadata": {},
   "outputs": [
    {
     "name": "stdout",
     "output_type": "stream",
     "text": [
      "{'val_loss': [0.6722411082093749, 0.6557280957453168, 0.6370643482712066, 0.6127099636209373, 0.5920701579191837, 0.5843124382278811, 0.5744389489644831, 0.5702038366011173, 0.5687626613888146, 0.5634128684048887, 0.558746805705574, 0.5586447592932171, 0.5571871089015216, 0.5535155026575026, 0.5532624970754464, 0.5526739546939111, 0.5502937667800407, 0.5506404351768265, 0.54833831781303, 0.5487997053535121], 'val_acc': [0.6515548887124174, 0.6612963667743078, 0.6672911196667946, 0.6804046466047731, 0.6920194830417454, 0.688647432580071, 0.6980142366265304, 0.7006369421838509, 0.7002622694413552, 0.7006369426081627, 0.7066316967735848, 0.7032596468925476, 0.7043836638024346, 0.7096290739121264, 0.7092544013259562, 0.7193705517060304, 0.7096290744927636, 0.7107530914026505, 0.7081303852646929, 0.7171225181542429], 'loss': [0.7172202653386854, 0.680418084633853, 0.6633561137008361, 0.6387984368981204, 0.6170003963203352, 0.6024445939058577, 0.6004493872842276, 0.5935631721050532, 0.5959284276011985, 0.5862456784290854, 0.5821845850465285, 0.5768470077729337, 0.5776240959833342, 0.5745503332680013, 0.573852217363611, 0.5734981598274842, 0.5740511716535984, 0.5682287374852985, 0.5722924657834352, 0.5682872792895542], 'acc': [0.5326248427729323, 0.5873614443314306, 0.6263284196023763, 0.6655239399780942, 0.6706662094193913, 0.6873500171068423, 0.6883784708752249, 0.6959204661575076, 0.6907781966753435, 0.698205919180471, 0.6999200092916583, 0.7056336417400881, 0.7054050967102391, 0.7042623701647014, 0.7002628269760612, 0.7105473661379138, 0.7049480057991432, 0.7106616388060899, 0.7088332763196074, 0.7089475490014058]}\n"
     ]
    }
   ],
   "source": [
    "print(history.history)"
   ]
  },
  {
   "cell_type": "code",
   "execution_count": 178,
   "metadata": {},
   "outputs": [
    {
     "data": {
      "image/png": "[encoded data removed]",
      "text/plain": [
       "<Figure size 432x288 with 1 Axes>"
      ]
     },
     "metadata": {},
     "output_type": "display_data"
    }
   ],
   "source": [
    "plt.figure()\n",
    "plt.plot(history.history[\"loss\"], color=\"r\")\n",
    "plt.plot(history.history[\"val_loss\"], color=\"b\")\n",
    "plt.xlabel(\"epochs\")\n",
    "plt.ylabel(\"loss\")\n",
    "plt.show()"
   ]
  },
  {
   "cell_type": "code",
   "execution_count": null,
   "metadata": {},
   "outputs": [],
   "source": []
  }
 ],
 "metadata": {
  "kernelspec": {
   "display_name": "Python 3",
   "language": "python",
   "name": "python3"
  },
  "language_info": {
   "codemirror_mode": {
    "name": "ipython",
    "version": 3
   },
   "file_extension": ".py",
   "mimetype": "text/x-python",
   "name": "python",
   "nbconvert_exporter": "python",
   "pygments_lexer": "ipython3",
   "version": "3.6.6"
  }
 },
 "nbformat": 4,
 "nbformat_minor": 2
}
