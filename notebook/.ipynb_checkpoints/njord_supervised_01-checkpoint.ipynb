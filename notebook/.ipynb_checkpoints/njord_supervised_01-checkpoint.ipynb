{
 "cells": [
  {
   "cell_type": "markdown",
   "metadata": {},
   "source": [
    "# Test\n",
    "\n",
    "Import usefull packages + the njord library. For installations details please refer to README file. "
   ]
  },
  {
   "cell_type": "code",
   "execution_count": 1,
   "metadata": {},
   "outputs": [],
   "source": [
    "import njord as nj\n",
    "import numpy as np\n",
    "import pandas as pd\n",
    "import matplotlib.pyplot as plt"
   ]
  },
  {
   "cell_type": "markdown",
   "metadata": {},
   "source": [
    "## Hyper parameters"
   ]
  },
  {
   "cell_type": "code",
   "execution_count": 28,
   "metadata": {},
   "outputs": [],
   "source": [
    "# Dataset parameters.\n",
    "PATH = \"dataset\"\n",
    "SYMBOL = \"btcusdt\"\n",
    "DATASET = \"ohlc\"\n",
    "PERIOD = 600\n",
    "FILENAME_TR = \"binance_{}_{}_period_{}_{}.csv\".format(SYMBOL, DATASET, PERIOD, \"train\")\n",
    "FILENAME_TE = \"binance_{}_{}_period_{}_{}.csv\".format(SYMBOL, DATASET, PERIOD, \"test\")\n",
    "\n",
    "# Batch parameters.\n",
    "LOOKBACK = 16\n",
    "LOOKAHEAD = 1\n",
    "TARGET = \"close\"\n",
    "\n",
    "# Training parameters.\n",
    "LR = 0.001\n",
    "EPOCHS = 25\n",
    "MINIBATCH_SIZE = 128"
   ]
  },
  {
   "cell_type": "markdown",
   "metadata": {},
   "source": [
    "## Dataset\n",
    "\n",
    "Load the dataset from .csv file to a pandas dataframe."
   ]
  },
  {
   "cell_type": "code",
   "execution_count": 29,
   "metadata": {},
   "outputs": [],
   "source": [
    "# Load the training dataset.\n",
    "data_tr = pd.read_csv(PATH + \"/\" + FILENAME_TR)\n",
    "data_tr = data_tr.set_index(\"time\")\n",
    "data_tr.index = pd.to_datetime(data_tr.index)\n",
    "\n",
    "# Load the test dataset.\n",
    "data_te = pd.read_csv(PATH + \"/\" + FILENAME_TE)\n",
    "data_te = data_te.set_index(\"time\")\n",
    "data_te.index = pd.to_datetime(data_te.index)"
   ]
  },
  {
   "cell_type": "code",
   "execution_count": 30,
   "metadata": {},
   "outputs": [
    {
     "name": "stdout",
     "output_type": "stream",
     "text": [
      "Number of samples train = (8784, 5)\n",
      "Number of samples test = (2736, 5)\n",
      "\n",
      "3. training head: \n",
      "                        open     high      low    close          avg\n",
      "time                                                                \n",
      "2018-09-01 00:10:00  7011.21  7044.35  7010.00  7041.65  7029.350052\n",
      "2018-09-01 00:20:00  7041.87  7041.87  7031.82  7038.41  7037.445636\n",
      "2018-09-01 00:30:00  7038.41  7046.00  7034.72  7046.00  7041.031830\n",
      "2018-09-01 00:40:00  7046.00  7049.00  7036.28  7043.81  7044.063838\n",
      "2018-09-01 00:50:00  7045.42  7046.33  7030.05  7030.05  7038.251102\n",
      "\n",
      "3. test head: \n",
      "                        open     high      low    close          avg\n",
      "time                                                                \n",
      "2018-11-01 00:10:00  6371.93  6376.99  6369.57  6375.15  6374.240114\n",
      "2018-11-01 00:20:00  6375.19  6376.98  6372.19  6374.48  6374.350265\n",
      "2018-11-01 00:30:00  6373.21  6375.00  6360.77  6366.25  6368.364441\n",
      "2018-11-01 00:40:00  6366.56  6366.80  6355.00  6355.17  6361.868075\n",
      "2018-11-01 00:50:00  6360.69  6364.26  6355.37  6363.84  6361.195457\n"
     ]
    }
   ],
   "source": [
    "# Display the number of samples for the datasets.\n",
    "print(\"Number of samples train = {}\".format(data_tr.shape))\n",
    "print(\"Number of samples test = {}\".format(data_te.shape))\n",
    "\n",
    "# Display the head of the dataset.\n",
    "print(\"\\n3. training head: \\n{}\".format(data_tr.head()))\n",
    "print(\"\\n3. test head: \\n{}\".format(data_te.head()))"
   ]
  },
  {
   "cell_type": "markdown",
   "metadata": {},
   "source": [
    "## Batch and data normalisation\n",
    "\n",
    "We now have to build the batch, i.e. a feature array X with its associated targets Y. \n",
    "\n",
    "- The timeseries X are normalise with the pivot method.\n",
    "\n",
    "- The targets are casted:\n",
    "    1. Y > 0 = 1, rise\n",
    "    2. Y < 0 = 0, drop"
   ]
  },
  {
   "cell_type": "code",
   "execution_count": 31,
   "metadata": {
    "scrolled": false
   },
   "outputs": [],
   "source": [
    "# Load the training and test batch.\n",
    "batch_tr = nj.Batch(data_tr, LOOKBACK, LOOKAHEAD)\n",
    "batch_te = nj.Batch(data_te, LOOKBACK, LOOKAHEAD)\n",
    "\n",
    "# Build the training and test batch to get the features and the targets.\n",
    "X_tr, Y_tr = batch_tr.build(target=\"avg\", method=\"pvt\")\n",
    "X_te, Y_te = batch_te.build(target=\"avg\", method=\"pvt\")\n",
    "\n",
    "# Cast the targets.\n",
    "Y_tr = 1.0 * ( Y_tr > 0.0 ).reshape(-1,1)\n",
    "Y_te = 1.0 * ( Y_te > 0.0 ).reshape(-1,1)"
   ]
  },
  {
   "cell_type": "code",
   "execution_count": 32,
   "metadata": {},
   "outputs": [
    {
     "name": "stdout",
     "output_type": "stream",
     "text": [
      "\n",
      "Training Features info:\n",
      "X_tr shape = (8751, 16, 5)\n",
      "X_tr mean  = 0.010660262377854819\n",
      "X_tr std   = 0.5791731304359717\n",
      "\n",
      "Test Features info:\n",
      "X_te shape = (2669, 16, 5)\n",
      "X_te mean  = 0.07223071167349669\n",
      "X_te std   = 0.5865227771674386\n"
     ]
    }
   ],
   "source": [
    "# Display features information.\n",
    "print(\"\\nTraining Features info:\")\n",
    "print(\"X_tr shape = {}\".format(X_tr.shape))\n",
    "print(\"X_tr mean  = {}\".format(X_tr.mean()))\n",
    "print(\"X_tr std   = {}\".format(X_tr.std()))\n",
    "print(\"\\nTest Features info:\")\n",
    "print(\"X_te shape = {}\".format(X_te.shape))\n",
    "print(\"X_te mean  = {}\".format(X_te.mean()))\n",
    "print(\"X_te std   = {}\".format(X_te.std()))"
   ]
  },
  {
   "cell_type": "code",
   "execution_count": 33,
   "metadata": {},
   "outputs": [
    {
     "name": "stdout",
     "output_type": "stream",
     "text": [
      "\n",
      "Training Targets info:\n",
      "Y_tr shape = (8751, 1)\n",
      "Y_tr mean  = 0.5069134956005028\n",
      "Y_tr std   = 0.4999522012938655\n",
      "Y_tr samples = \n",
      "[0. 0. 0. 1. 1. 1. 1. 1. 1. 0.]\n",
      "\n",
      "Test Targets info:\n",
      "Y_te shape = (2669, 1)\n",
      "Y_te mean  = 0.49044585987261147\n",
      "Y_te std   = 0.4999087100725754\n",
      "Y_te samples = \n",
      "[1. 1. 0. 0. 1. 1. 1. 0. 0. 1.]\n"
     ]
    }
   ],
   "source": [
    "# Display targets information.\n",
    "print(\"\\nTraining Targets info:\")\n",
    "print(\"Y_tr shape = {}\".format(Y_tr.shape))\n",
    "print(\"Y_tr mean  = {}\".format(Y_tr.mean()))\n",
    "print(\"Y_tr std   = {}\".format(Y_tr.std()))\n",
    "print(\"Y_tr samples = \\n{}\".format(Y_tr[0:10,0]))\n",
    "print(\"\\nTest Targets info:\")\n",
    "print(\"Y_te shape = {}\".format(Y_te.shape))\n",
    "print(\"Y_te mean  = {}\".format(Y_te.mean()))\n",
    "print(\"Y_te std   = {}\".format(Y_te.std()))\n",
    "print(\"Y_te samples = \\n{}\".format(Y_te[0:10,0]))"
   ]
  },
  {
   "cell_type": "code",
   "execution_count": 34,
   "metadata": {},
   "outputs": [
    {
     "data": {
      "image/png": "[encoded data removed]",
      "text/plain": [
       "<Figure size 432x288 with 1 Axes>"
      ]
     },
     "metadata": {},
     "output_type": "display_data"
    }
   ],
   "source": [
    "# Histogram: Train and test Features.\n",
    "hist_X_tr = plt.hist(X_tr.reshape(-1, 1), 200, density=True, facecolor=\"b\", alpha=0.75, label=\"tr\")\n",
    "hist_X_te = plt.hist(X_te.reshape(-1, 1), 200, density=True, facecolor=\"g\", alpha=0.75, label=\"te\")\n",
    "plt.xlim([-1, 1])\n",
    "plt.legend()\n",
    "plt.show()"
   ]
  },
  {
   "cell_type": "code",
   "execution_count": 35,
   "metadata": {},
   "outputs": [
    {
     "name": "stdout",
     "output_type": "stream",
     "text": [
      "Number of drops tr = 4315\n",
      "Number of rises tr = 4436\n",
      "Number of drops te = 1360\n",
      "Number of rises te = 1309\n"
     ]
    },
    {
     "data": {
      "image/png": "[encoded data removed]",
      "text/plain": [
       "<Figure size 432x288 with 1 Axes>"
      ]
     },
     "metadata": {},
     "output_type": "display_data"
    }
   ],
   "source": [
    "# Histogram: Targets.\n",
    "histY = plt.hist(Y_tr, 5, density=True, facecolor=\"b\", alpha=0.50)\n",
    "histY = plt.hist(Y_te, 5, density=True, facecolor=\"g\", alpha=0.50)\n",
    "\n",
    "# Evalute the number of rise and drops for the training set.\n",
    "print(\"Number of drops tr = {}\".format(np.sum(Y_tr == 0)))\n",
    "print(\"Number of rises tr = {}\".format(np.sum(Y_tr == 1)))\n",
    "\n",
    "# Evaluate the number of rise and drops for the test set.\n",
    "print(\"Number of drops te = {}\".format(np.sum(Y_te == 0)))\n",
    "print(\"Number of rises te = {}\".format(np.sum(Y_te == 1)))"
   ]
  },
  {
   "cell_type": "markdown",
   "metadata": {},
   "source": [
    "## Training\n",
    "\n",
    "Train a model with keras."
   ]
  },
  {
   "cell_type": "code",
   "execution_count": 43,
   "metadata": {},
   "outputs": [],
   "source": [
    "# Import usefull packages.\n",
    "from keras.models import Sequential\n",
    "from keras.layers import Dense\n",
    "from keras.layers import Dropout\n",
    "from keras import optimizers"
   ]
  },
  {
   "cell_type": "code",
   "execution_count": 44,
   "metadata": {},
   "outputs": [
    {
     "name": "stdout",
     "output_type": "stream",
     "text": [
      "Train on 8751 samples, validate on 2669 samples\n",
      "Epoch 1/25\n",
      " - 1s - loss: 0.6710 - acc: 0.6075 - val_loss: 0.6419 - val_acc: 0.6538\n",
      "Epoch 2/25\n",
      " - 0s - loss: 0.6200 - acc: 0.6766 - val_loss: 0.5882 - val_acc: 0.6864\n",
      "Epoch 3/25\n",
      " - 0s - loss: 0.5935 - acc: 0.6983 - val_loss: 0.5763 - val_acc: 0.6864\n",
      "Epoch 4/25\n",
      " - 0s - loss: 0.5845 - acc: 0.6961 - val_loss: 0.5629 - val_acc: 0.6931\n",
      "Epoch 5/25\n",
      " - 0s - loss: 0.5747 - acc: 0.7049 - val_loss: 0.5559 - val_acc: 0.7025\n",
      "Epoch 6/25\n",
      " - 0s - loss: 0.5684 - acc: 0.7095 - val_loss: 0.5487 - val_acc: 0.7160\n",
      "Epoch 7/25\n",
      " - 0s - loss: 0.5681 - acc: 0.7101 - val_loss: 0.5538 - val_acc: 0.7051\n",
      "Epoch 8/25\n",
      " - 0s - loss: 0.5593 - acc: 0.7182 - val_loss: 0.5516 - val_acc: 0.7036\n",
      "Epoch 9/25\n",
      " - 0s - loss: 0.5613 - acc: 0.7132 - val_loss: 0.5490 - val_acc: 0.7048\n",
      "Epoch 10/25\n",
      " - 0s - loss: 0.5615 - acc: 0.7134 - val_loss: 0.5488 - val_acc: 0.7111\n",
      "Epoch 11/25\n",
      " - 0s - loss: 0.5560 - acc: 0.7169 - val_loss: 0.5445 - val_acc: 0.7141\n",
      "Epoch 12/25\n",
      " - 0s - loss: 0.5561 - acc: 0.7193 - val_loss: 0.5424 - val_acc: 0.7194\n",
      "Epoch 13/25\n",
      " - 0s - loss: 0.5511 - acc: 0.7188 - val_loss: 0.5457 - val_acc: 0.7130\n",
      "Epoch 14/25\n",
      " - 0s - loss: 0.5523 - acc: 0.7163 - val_loss: 0.5553 - val_acc: 0.7018\n",
      "Epoch 15/25\n",
      " - 0s - loss: 0.5507 - acc: 0.7160 - val_loss: 0.5476 - val_acc: 0.7018\n",
      "Epoch 16/25\n",
      " - 0s - loss: 0.5499 - acc: 0.7176 - val_loss: 0.5448 - val_acc: 0.7108\n",
      "Epoch 17/25\n",
      " - 0s - loss: 0.5460 - acc: 0.7195 - val_loss: 0.5392 - val_acc: 0.7152\n",
      "Epoch 18/25\n",
      " - 0s - loss: 0.5451 - acc: 0.7222 - val_loss: 0.5477 - val_acc: 0.7006\n",
      "Epoch 19/25\n",
      " - 0s - loss: 0.5473 - acc: 0.7217 - val_loss: 0.5493 - val_acc: 0.7216\n",
      "Epoch 20/25\n",
      " - 0s - loss: 0.5448 - acc: 0.7211 - val_loss: 0.5464 - val_acc: 0.7100\n",
      "Epoch 21/25\n",
      " - 0s - loss: 0.5436 - acc: 0.7225 - val_loss: 0.5460 - val_acc: 0.7029\n",
      "Epoch 22/25\n",
      " - 0s - loss: 0.5437 - acc: 0.7217 - val_loss: 0.5449 - val_acc: 0.7115\n",
      "Epoch 23/25\n",
      " - 0s - loss: 0.5415 - acc: 0.7264 - val_loss: 0.5568 - val_acc: 0.7063\n",
      "Epoch 24/25\n",
      " - 0s - loss: 0.5427 - acc: 0.7280 - val_loss: 0.5430 - val_acc: 0.7205\n",
      "Epoch 25/25\n",
      " - 0s - loss: 0.5380 - acc: 0.7254 - val_loss: 0.5393 - val_acc: 0.7171\n",
      "Training finished\n"
     ]
    }
   ],
   "source": [
    "# Reshape the training dataset.\n",
    "X_train = X_tr.reshape(X_tr.shape[0], -1)\n",
    "Y_train = Y_tr.reshape(X_tr.shape[0], -1)\n",
    "\n",
    "# Reshape the test dataset.\n",
    "X_test = X_te.reshape(X_te.shape[0], -1)\n",
    "Y_test = Y_te.reshape(X_te.shape[0], -1)\n",
    "\n",
    "# Build the model.\n",
    "model = Sequential()\n",
    "model.add(Dense(units=128, activation=\"relu\", input_dim=X_train.shape[1]))\n",
    "model.add(Dropout(0.3))\n",
    "model.add(Dense(units=128, activation=\"relu\"))\n",
    "model.add(Dropout(0.3))\n",
    "model.add(Dense(units=64, activation=\"relu\"))\n",
    "model.add(Dropout(0.5))\n",
    "model.add(Dense(units=1, activation=\"sigmoid\"))\n",
    "\n",
    "# Set the optimizer.\n",
    "optimizer = optimizers.RMSprop(lr=LR, rho=0.95, epsilon=1.0E-6, decay=0.0)\n",
    "\n",
    "# Compile the model.\n",
    "model.compile(loss=\"binary_crossentropy\", optimizer=optimizer, metrics=[\"accuracy\"])\n",
    "\n",
    "# Set the training parameters.\n",
    "params = {\n",
    "    \"epochs\": EPOCHS,\n",
    "    \"batch_size\": MINIBATCH_SIZE,\n",
    "    \"validation_data\": (X_test, Y_test),\n",
    "    \"verbose\": 2\n",
    "}\n",
    "\n",
    "# Train the model.\n",
    "history = model.fit(X_train, Y_train, **params)\n",
    "\n",
    "# Training finished.\n",
    "print(\"Training finished\")"
   ]
  },
  {
   "cell_type": "code",
   "execution_count": 47,
   "metadata": {
    "scrolled": true
   },
   "outputs": [
    {
     "data": {
      "image/png": "[encoded data removed]",
      "text/plain": [
       "<Figure size 432x288 with 1 Axes>"
      ]
     },
     "metadata": {},
     "output_type": "display_data"
    }
   ],
   "source": [
    "# Figure: loss vs epochs.\n",
    "plt.figure()\n",
    "plt.plot(history.history[\"loss\"], label=\"tr\", color=\"r\")\n",
    "plt.plot(history.history[\"val_loss\"], label=\"te\", color=\"b\")\n",
    "plt.xlabel(\"epochs\")\n",
    "plt.ylabel(\"loss\")\n",
    "plt.legend()\n",
    "plt.grid()\n",
    "plt.show()"
   ]
  },
  {
   "cell_type": "code",
   "execution_count": 48,
   "metadata": {},
   "outputs": [
    {
     "data": {
      "image/png": "[encoded data removed]",
      "text/plain": [
       "<Figure size 432x288 with 1 Axes>"
      ]
     },
     "metadata": {},
     "output_type": "display_data"
    }
   ],
   "source": [
    "# Figure: accuracy vs. epochs.\n",
    "plt.figure()\n",
    "plt.plot(history.history[\"acc\"], label=\"tr\", color=\"r\")\n",
    "plt.plot(history.history[\"val_acc\"], label=\"te\", color=\"b\")\n",
    "plt.xlabel(\"epochs\")\n",
    "plt.ylabel(\"loss\")\n",
    "plt.legend()\n",
    "plt.grid()\n",
    "plt.show()"
   ]
  },
  {
   "cell_type": "code",
   "execution_count": null,
   "metadata": {},
   "outputs": [],
   "source": []
  }
 ],
 "metadata": {
  "kernelspec": {
   "display_name": "Python 3",
   "language": "python",
   "name": "python3"
  },
  "language_info": {
   "codemirror_mode": {
    "name": "ipython",
    "version": 3
   },
   "file_extension": ".py",
   "mimetype": "text/x-python",
   "name": "python",
   "nbconvert_exporter": "python",
   "pygments_lexer": "ipython3",
   "version": "3.6.6"
  }
 },
 "nbformat": 4,
 "nbformat_minor": 2
}
