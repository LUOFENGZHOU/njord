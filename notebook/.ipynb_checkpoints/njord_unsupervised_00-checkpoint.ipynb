{
 "cells": [
  {
   "cell_type": "markdown",
   "metadata": {},
   "source": [
    "# Unsupervised learning\n",
    "\n",
    "Import usefull packages + the njord library. For installations details please refer to README file. "
   ]
  },
  {
   "cell_type": "code",
   "execution_count": 1,
   "metadata": {},
   "outputs": [],
   "source": [
    "import njord as nj\n",
    "import numpy as np\n",
    "import pandas as pd\n",
    "import matplotlib.pyplot as plt"
   ]
  },
  {
   "cell_type": "markdown",
   "metadata": {},
   "source": [
    "## Hyper parameters"
   ]
  },
  {
   "cell_type": "code",
   "execution_count": 2,
   "metadata": {},
   "outputs": [],
   "source": [
    "# Dataset parameters.\n",
    "PATH = \"dataset\"\n",
    "SYMBOL = \"btcusdt\"\n",
    "DATASET = \"ohlc\"\n",
    "PERIOD = 1800\n",
    "FILENAME_TR = \"binance_{}_{}_period_{}_{}.csv\".format(SYMBOL, DATASET, PERIOD, \"train\")\n",
    "FILENAME_TE = \"binance_{}_{}_period_{}_{}.csv\".format(SYMBOL, DATASET, PERIOD, \"test\")\n",
    "\n",
    "# Batch parameters.\n",
    "LOOKBACK = 16\n",
    "LOOKAHEAD = 1\n",
    "TARGET = \"close\"\n",
    "\n",
    "# Training parameters.\n",
    "LR = 0.0001\n",
    "EPOCHS = 100\n",
    "MINIBATCH_SIZE = 128"
   ]
  },
  {
   "cell_type": "markdown",
   "metadata": {},
   "source": [
    "## Dataset\n",
    "\n",
    "Load the dataset from .csv file to a pandas dataframe."
   ]
  },
  {
   "cell_type": "code",
   "execution_count": 3,
   "metadata": {},
   "outputs": [],
   "source": [
    "# Load the training dataset.\n",
    "data_tr = pd.read_csv(PATH + \"/\" + FILENAME_TR)\n",
    "data_tr = data_tr.set_index(\"time\")\n",
    "data_tr.index = pd.to_datetime(data_tr.index)\n",
    "\n",
    "# Load the test dataset.\n",
    "data_te = pd.read_csv(PATH + \"/\" + FILENAME_TE)\n",
    "data_te = data_te.set_index(\"time\")\n",
    "data_te.index = pd.to_datetime(data_te.index)"
   ]
  },
  {
   "cell_type": "code",
   "execution_count": 4,
   "metadata": {},
   "outputs": [
    {
     "name": "stdout",
     "output_type": "stream",
     "text": [
      "Number of samples train = (2928, 5)\n",
      "Number of samples test = (912, 5)\n",
      "\n",
      " training head: \n",
      "                        open     high      low    close          avg\n",
      "time                                                                \n",
      "2018-09-01 00:30:00  7011.21  7046.00  7010.00  7046.00  7035.944180\n",
      "2018-09-01 01:00:00  7046.00  7049.91  7030.00  7044.59  7040.916360\n",
      "2018-09-01 01:30:00  7043.96  7061.01  7041.85  7046.05  7051.093408\n",
      "2018-09-01 02:00:00  7046.12  7052.67  7032.19  7036.00  7043.653567\n",
      "2018-09-01 02:30:00  7037.00  7059.90  7034.32  7054.47  7047.259786\n",
      "\n",
      " test head: \n",
      "                        open     high      low    close          avg\n",
      "time                                                                \n",
      "2018-11-01 00:30:00  6371.93  6376.99  6360.77  6366.25  6372.322671\n",
      "2018-11-01 01:00:00  6366.56  6371.68  6355.00  6366.00  6363.326981\n",
      "2018-11-01 01:30:00  6369.66  6370.17  6361.81  6363.18  6365.797962\n",
      "2018-11-01 02:00:00  6364.99  6365.00  6358.04  6358.24  6362.124753\n",
      "2018-11-01 02:30:00  6361.90  6361.90  6352.54  6356.60  6357.632040\n"
     ]
    }
   ],
   "source": [
    "# Display the number of samples for the datasets.\n",
    "print(\"Number of samples train = {}\".format(data_tr.shape))\n",
    "print(\"Number of samples test = {}\".format(data_te.shape))\n",
    "\n",
    "# Display the head of the dataset.\n",
    "print(\"\\n training head: \\n{}\".format(data_tr.head()))\n",
    "print(\"\\n test head: \\n{}\".format(data_te.head()))"
   ]
  },
  {
   "cell_type": "markdown",
   "metadata": {},
   "source": [
    "## Batch and data normalisation\n",
    "\n",
    "We now have to build the batch, i.e. a feature array X with its associated targets Y. \n",
    "\n",
    "- The timeseries X are normalise with the pivot method."
   ]
  },
  {
   "cell_type": "code",
   "execution_count": 5,
   "metadata": {
    "scrolled": false
   },
   "outputs": [],
   "source": [
    "# Load the training and test batch.\n",
    "batch_tr = nj.Batch(data_tr, LOOKBACK, LOOKAHEAD)\n",
    "batch_te = nj.Batch(data_te, LOOKBACK, LOOKAHEAD)\n",
    "\n",
    "# Build the training and test batch to get the features and the targets.\n",
    "X_tr, _ = batch_tr.build(target=\"avg\", method=\"pct\")\n",
    "X_te, _ = batch_te.build(target=\"avg\", method=\"pct\")\n"
   ]
  },
  {
   "cell_type": "code",
   "execution_count": 6,
   "metadata": {},
   "outputs": [
    {
     "name": "stdout",
     "output_type": "stream",
     "text": [
      "\n",
      "Training Features info:\n",
      "X_tr shape = (2896, 16, 5)\n",
      "X_tr mean  = -0.026140004437851947\n",
      "X_tr std   = 1.0127101900481856\n",
      "\n",
      "Test Features info:\n",
      "X_te shape = (880, 16, 5)\n",
      "X_te mean  = -0.19277473119092509\n",
      "X_te std   = 1.0599736488697409\n"
     ]
    }
   ],
   "source": [
    "# Display features information.\n",
    "print(\"\\nTraining Features info:\")\n",
    "print(\"X_tr shape = {}\".format(X_tr.shape))\n",
    "print(\"X_tr mean  = {}\".format(X_tr.mean()))\n",
    "print(\"X_tr std   = {}\".format(X_tr.std()))\n",
    "print(\"\\nTest Features info:\")\n",
    "print(\"X_te shape = {}\".format(X_te.shape))\n",
    "print(\"X_te mean  = {}\".format(X_te.mean()))\n",
    "print(\"X_te std   = {}\".format(X_te.std()))"
   ]
  },
  {
   "cell_type": "code",
   "execution_count": 7,
   "metadata": {},
   "outputs": [
    {
     "data": {
      "image/png": "[encoded data removed]",
      "text/plain": [
       "<Figure size 432x288 with 1 Axes>"
      ]
     },
     "metadata": {},
     "output_type": "display_data"
    }
   ],
   "source": [
    "# Histogram: Train and test Features.\n",
    "hist_X_tr = plt.hist(X_tr.reshape(-1, 1), 200, density=True, facecolor=\"b\", alpha=0.50, label=\"tr\")\n",
    "hist_X_te = plt.hist(X_te.reshape(-1, 1), 200, density=True, facecolor=\"g\", alpha=0.50, label=\"te\")\n",
    "plt.xlim([-5, 5])\n",
    "plt.legend()\n",
    "plt.show()"
   ]
  },
  {
   "cell_type": "markdown",
   "metadata": {},
   "source": [
    "## Training\n",
    "\n",
    "Train a model with keras."
   ]
  },
  {
   "cell_type": "code",
   "execution_count": 8,
   "metadata": {},
   "outputs": [
    {
     "name": "stderr",
     "output_type": "stream",
     "text": [
      "Using TensorFlow backend.\n"
     ]
    }
   ],
   "source": [
    "# Import usefull packages.\n",
    "from keras.models import Sequential\n",
    "from keras.layers import Dense\n",
    "from keras.layers import Dropout\n",
    "from keras import optimizers\n",
    "import keras.backend as K"
   ]
  },
  {
   "cell_type": "code",
   "execution_count": null,
   "metadata": {},
   "outputs": [
    {
     "name": "stdout",
     "output_type": "stream",
     "text": [
      "Train on 2896 samples, validate on 880 samples\n",
      "Epoch 1/500\n",
      "2896/2896 [==============================] - 2s 637us/step - loss: 1.1598 - val_loss: 1.1074\n",
      "Epoch 2/500\n",
      "2896/2896 [==============================] - 0s 146us/step - loss: 1.0262 - val_loss: 1.0162\n",
      "Epoch 3/500\n",
      "2896/2896 [==============================] - 0s 130us/step - loss: 0.9072 - val_loss: 0.7037\n",
      "Epoch 4/500\n",
      "2896/2896 [==============================] - 0s 136us/step - loss: 0.7789 - val_loss: 0.5534\n",
      "Epoch 5/500\n",
      "2896/2896 [==============================] - 0s 167us/step - loss: 0.6957 - val_loss: 0.5350\n",
      "Epoch 6/500\n",
      "2896/2896 [==============================] - 0s 123us/step - loss: 0.6402 - val_loss: 0.4722\n",
      "Epoch 7/500\n",
      "2896/2896 [==============================] - 0s 146us/step - loss: 0.6082 - val_loss: 0.4757\n",
      "Epoch 8/500\n",
      "2896/2896 [==============================] - 0s 133us/step - loss: 0.5673 - val_loss: 0.4605\n",
      "Epoch 9/500\n",
      "2896/2896 [==============================] - 0s 129us/step - loss: 0.5653 - val_loss: 0.4075\n",
      "Epoch 10/500\n",
      "2896/2896 [==============================] - 0s 136us/step - loss: 0.5400 - val_loss: 0.4328\n",
      "Epoch 11/500\n",
      "2896/2896 [==============================] - 0s 152us/step - loss: 0.5142 - val_loss: 0.3933\n",
      "Epoch 12/500\n",
      "2896/2896 [==============================] - 0s 160us/step - loss: 0.4983 - val_loss: 0.4426\n",
      "Epoch 13/500\n",
      "2896/2896 [==============================] - 0s 157us/step - loss: 0.5281 - val_loss: 0.3985\n",
      "Epoch 14/500\n",
      "2896/2896 [==============================] - 0s 154us/step - loss: 0.4894 - val_loss: 0.4002\n",
      "Epoch 15/500\n",
      "2896/2896 [==============================] - 0s 161us/step - loss: 0.4670 - val_loss: 0.3790\n",
      "Epoch 16/500\n",
      "2896/2896 [==============================] - 0s 147us/step - loss: 0.4646 - val_loss: 0.4516\n",
      "Epoch 17/500\n",
      "2896/2896 [==============================] - 0s 168us/step - loss: 0.4743 - val_loss: 0.4478\n",
      "Epoch 18/500\n",
      "2896/2896 [==============================] - 0s 130us/step - loss: 0.4681 - val_loss: 0.3775\n",
      "Epoch 19/500\n",
      "2896/2896 [==============================] - 0s 132us/step - loss: 0.4563 - val_loss: 0.3789\n",
      "Epoch 20/500\n",
      "2896/2896 [==============================] - 0s 125us/step - loss: 0.4357 - val_loss: 0.3728\n",
      "Epoch 21/500\n",
      "2896/2896 [==============================] - 0s 127us/step - loss: 0.4261 - val_loss: 0.3931\n",
      "Epoch 22/500\n",
      "2896/2896 [==============================] - 0s 134us/step - loss: 0.4297 - val_loss: 0.3844\n",
      "Epoch 23/500\n",
      "2896/2896 [==============================] - 0s 169us/step - loss: 0.4165 - val_loss: 0.3748\n",
      "Epoch 24/500\n",
      "2896/2896 [==============================] - 0s 157us/step - loss: 0.4266 - val_loss: 0.3555\n",
      "Epoch 25/500\n",
      "2896/2896 [==============================] - 0s 147us/step - loss: 0.4115 - val_loss: 0.3662\n",
      "Epoch 26/500\n",
      "2896/2896 [==============================] - 0s 134us/step - loss: 0.4097 - val_loss: 0.3702\n",
      "Epoch 27/500\n",
      "2896/2896 [==============================] - 0s 130us/step - loss: 0.4072 - val_loss: 0.3469\n",
      "Epoch 28/500\n",
      "2896/2896 [==============================] - 0s 129us/step - loss: 0.3897 - val_loss: 0.3397\n",
      "Epoch 29/500\n",
      "2896/2896 [==============================] - 0s 149us/step - loss: 0.3893 - val_loss: 0.3756\n",
      "Epoch 30/500\n",
      "2896/2896 [==============================] - 0s 134us/step - loss: 0.3786 - val_loss: 0.3783\n",
      "Epoch 31/500\n",
      "2896/2896 [==============================] - 0s 133us/step - loss: 0.3868 - val_loss: 0.3848\n",
      "Epoch 32/500\n",
      "2896/2896 [==============================] - 0s 157us/step - loss: 0.3811 - val_loss: 0.3337\n",
      "Epoch 33/500\n",
      "2896/2896 [==============================] - 0s 137us/step - loss: 0.3665 - val_loss: 0.3185\n",
      "Epoch 34/500\n",
      "2896/2896 [==============================] - 0s 142us/step - loss: 0.3784 - val_loss: 0.3497\n",
      "Epoch 35/500\n",
      "2896/2896 [==============================] - 0s 134us/step - loss: 0.3873 - val_loss: 0.3547\n",
      "Epoch 36/500\n",
      "2896/2896 [==============================] - 0s 172us/step - loss: 0.3637 - val_loss: 0.3438\n",
      "Epoch 37/500\n",
      "2896/2896 [==============================] - 0s 137us/step - loss: 0.3707 - val_loss: 0.3229\n",
      "Epoch 38/500\n",
      "2896/2896 [==============================] - 0s 129us/step - loss: 0.3722 - val_loss: 0.3242\n",
      "Epoch 39/500\n",
      "2896/2896 [==============================] - 0s 170us/step - loss: 0.3625 - val_loss: 0.3276\n",
      "Epoch 40/500\n",
      "2896/2896 [==============================] - 0s 134us/step - loss: 0.3721 - val_loss: 0.3281\n",
      "Epoch 41/500\n",
      "2896/2896 [==============================] - 0s 159us/step - loss: 0.3578 - val_loss: 0.3661\n",
      "Epoch 42/500\n",
      "2896/2896 [==============================] - 0s 131us/step - loss: 0.3500 - val_loss: 0.3176\n",
      "Epoch 43/500\n",
      "2896/2896 [==============================] - 0s 163us/step - loss: 0.3440 - val_loss: 0.3436\n",
      "Epoch 44/500\n",
      "2896/2896 [==============================] - 0s 128us/step - loss: 0.3451 - val_loss: 0.3864\n",
      "Epoch 45/500\n",
      "2896/2896 [==============================] - 0s 139us/step - loss: 0.3466 - val_loss: 0.4119\n",
      "Epoch 46/500\n",
      "2896/2896 [==============================] - 0s 139us/step - loss: 0.3347 - val_loss: 0.3339\n",
      "Epoch 47/500\n",
      "2896/2896 [==============================] - 0s 132us/step - loss: 0.3541 - val_loss: 0.3401\n",
      "Epoch 48/500\n",
      "2896/2896 [==============================] - 0s 132us/step - loss: 0.3450 - val_loss: 0.3235\n",
      "Epoch 49/500\n",
      "2896/2896 [==============================] - 0s 135us/step - loss: 0.3470 - val_loss: 0.3198\n",
      "Epoch 50/500\n",
      "2896/2896 [==============================] - 0s 130us/step - loss: 0.3604 - val_loss: 0.3476\n",
      "Epoch 51/500\n",
      "2896/2896 [==============================] - 0s 126us/step - loss: 0.3484 - val_loss: 0.3959\n",
      "Epoch 52/500\n",
      "2896/2896 [==============================] - 0s 126us/step - loss: 0.3587 - val_loss: 0.3602\n",
      "Epoch 53/500\n",
      "2896/2896 [==============================] - 0s 135us/step - loss: 0.3494 - val_loss: 0.3522\n",
      "Epoch 54/500\n",
      "2896/2896 [==============================] - 0s 133us/step - loss: 0.3411 - val_loss: 0.3162\n",
      "Epoch 55/500\n",
      "2896/2896 [==============================] - 0s 132us/step - loss: 0.3294 - val_loss: 0.3341\n",
      "Epoch 56/500\n",
      "2896/2896 [==============================] - 0s 140us/step - loss: 0.3262 - val_loss: 0.2971\n",
      "Epoch 57/500\n",
      "2896/2896 [==============================] - 0s 133us/step - loss: 0.3283 - val_loss: 0.3086\n",
      "Epoch 58/500\n",
      "2896/2896 [==============================] - 0s 138us/step - loss: 0.3152 - val_loss: 0.3067\n",
      "Epoch 59/500\n",
      "2896/2896 [==============================] - 0s 138us/step - loss: 0.3259 - val_loss: 0.3233\n",
      "Epoch 60/500\n",
      "2896/2896 [==============================] - 0s 143us/step - loss: 0.3660 - val_loss: 0.3469\n",
      "Epoch 61/500\n",
      "2896/2896 [==============================] - 0s 137us/step - loss: 0.3357 - val_loss: 0.3254\n",
      "Epoch 62/500\n",
      "2896/2896 [==============================] - 0s 128us/step - loss: 0.3532 - val_loss: 0.3003\n",
      "Epoch 63/500\n",
      "2896/2896 [==============================] - 0s 128us/step - loss: 0.3498 - val_loss: 0.3801\n",
      "Epoch 64/500\n",
      "2896/2896 [==============================] - 0s 153us/step - loss: 0.3177 - val_loss: 0.3129\n",
      "Epoch 65/500\n",
      "2896/2896 [==============================] - 0s 153us/step - loss: 0.3264 - val_loss: 0.3691\n",
      "Epoch 66/500\n",
      "2896/2896 [==============================] - 0s 125us/step - loss: 0.3183 - val_loss: 0.3129\n",
      "Epoch 67/500\n",
      "2896/2896 [==============================] - 0s 126us/step - loss: 0.3361 - val_loss: 0.3211\n",
      "Epoch 68/500\n",
      "2896/2896 [==============================] - 0s 127us/step - loss: 0.3220 - val_loss: 0.3508\n",
      "Epoch 69/500\n",
      "2896/2896 [==============================] - 0s 124us/step - loss: 0.3086 - val_loss: 0.3188\n",
      "Epoch 70/500\n",
      "2896/2896 [==============================] - 0s 134us/step - loss: 0.3252 - val_loss: 0.3135\n",
      "Epoch 71/500\n",
      "2896/2896 [==============================] - 0s 146us/step - loss: 0.3247 - val_loss: 0.3910\n",
      "Epoch 72/500\n",
      "2896/2896 [==============================] - 0s 120us/step - loss: 0.3274 - val_loss: 0.3025\n",
      "Epoch 73/500\n",
      "2896/2896 [==============================] - 0s 161us/step - loss: 0.3300 - val_loss: 0.3170\n",
      "Epoch 74/500\n",
      " 928/2896 [========>.....................] - ETA: 0s - loss: 0.3096"
     ]
    }
   ],
   "source": [
    "# Reshape the training dataset.\n",
    "X_train = X_tr.reshape(X_tr.shape[0], -1)\n",
    "\n",
    "# Reshape the test dataset.\n",
    "X_test = X_te.reshape(X_te.shape[0], -1)\n",
    "\n",
    "# Build the model.\n",
    "model = Sequential()\n",
    "model.add(Dense(units=128, activation=\"relu\", input_dim=X_train.shape[1]))\n",
    "model.add(Dropout(0.5))\n",
    "model.add(Dense(units=128, activation=\"relu\"))\n",
    "model.add(Dropout(0.5))\n",
    "model.add(Dense(units=128, activation=\"linear\"))\n",
    "model.add(Dense(units=128, activation=\"relu\"))\n",
    "model.add(Dropout(0.5))\n",
    "model.add(Dense(units=128, activation=\"relu\"))\n",
    "model.add(Dense(units=X_train.shape[1], activation=\"linear\"))\n",
    "\n",
    "# Set the optimizer.\n",
    "optimizer = optimizers.Adam(lr=0.00025, epsilon=1.0E-6, decay=0.0)\n",
    "\n",
    "# Compile the model.\n",
    "model.compile(loss=\"mean_squared_error\", optimizer=optimizer)\n",
    "\n",
    "# Set the training parameters.\n",
    "params = {\n",
    "    \"epochs\": 500,\n",
    "    \"batch_size\": 32,\n",
    "    \"validation_data\": (X_test, X_test),\n",
    "    \"shuffle\": True,\n",
    "    \"verbose\": 1\n",
    "}\n",
    "\n",
    "# Train the model.\n",
    "history = model.fit(X_train, X_train, **params)\n",
    "\n",
    "# Training finished.\n",
    "print(\"Training finished\")"
   ]
  },
  {
   "cell_type": "code",
   "execution_count": 25,
   "metadata": {},
   "outputs": [
    {
     "data": {
      "image/png": "[encoded data removed]",
      "text/plain": [
       "<Figure size 432x288 with 1 Axes>"
      ]
     },
     "metadata": {},
     "output_type": "display_data"
    }
   ],
   "source": [
    "# Figure: loss vs epochs.\n",
    "plt.figure()\n",
    "plt.plot(history.history[\"loss\"], label=\"tr\", color=\"r\")\n",
    "plt.plot(history.history[\"val_loss\"], label=\"te\", color=\"b\")\n",
    "plt.xlabel(\"epochs\")\n",
    "plt.ylabel(\"loss\")\n",
    "plt.legend()\n",
    "plt.grid()\n",
    "plt.show()"
   ]
  },
  {
   "cell_type": "markdown",
   "metadata": {},
   "source": [
    "## Evaluation of the model"
   ]
  },
  {
   "cell_type": "code",
   "execution_count": null,
   "metadata": {},
   "outputs": [],
   "source": [
    "# Evaluate the model on th train set.\n",
    "eval_tr = model.evaluate(X_train, X_train, verbose=2)\n",
    "\n",
    "# Evaluate the model on th test set.\n",
    "eval_te = model.evaluate(X_test, X_test, verbose=2)\n",
    "\n",
    "# Display the results.\n",
    "print(\"Evaluate model on the training set: \\n {}\".format(eval_tr))\n",
    "print(\"Evaluate model on the test set: \\n {}\".format(eval_te))"
   ]
  },
  {
   "cell_type": "code",
   "execution_count": null,
   "metadata": {},
   "outputs": [],
   "source": [
    "# The number of sequences to display.\n",
    "n = 1\n",
    "\n",
    "# Get the predictions of the model.\n",
    "X_te_p = model.predict(X_test)\n",
    "\n",
    "# Reshape the features and predictions.\n",
    "X_te_s = X_test.reshape(X_test.shape[0], LOOKBACK, -1)\n",
    "X_te_p = X_te_p.reshape(X_test.shape[0], LOOKBACK, -1)"
   ]
  },
  {
   "cell_type": "code",
   "execution_count": null,
   "metadata": {},
   "outputs": [],
   "source": [
    "# Compute the residuals.\n",
    "res = ( X_te_s - X_te_p)\n",
    "\n",
    "# Compute the average error.\n",
    "err = np.sqrt(np.mean( res * res, axis=(1, 2)))\n",
    "\n",
    "# Compute the maximum and minimum error.\n",
    "err_max = err.max()\n",
    "err_min = err.min()\n",
    "err_amax = err.argmax()\n",
    "err_amin = err.argmin()\n",
    "print(\"Maximum error = {}, index = {}\".format(err_max, err_amax))\n",
    "print(\"Minimum error = {}, index = {}\".format(err_min, err_amin))\n",
    "\n",
    "# Figure 1: MSE vs. steps.\n",
    "plt.figure(figsize=(20, 5))\n",
    "plt.plot(err, color=\"b\")\n",
    "plt.xlabel(\"steps\")\n",
    "plt.ylabel(\"MSE\")\n",
    "plt.grid()\n",
    "plt.show()\n",
    "\n",
    "# Figure 2: MSE histograme\n",
    "plt.figure(figsize=(20, 5))\n",
    "histogram = plt.hist(err, 100, density=True, facecolor=\"b\", alpha=0.75, label=\"te\")\n",
    "plt.show()"
   ]
  },
  {
   "cell_type": "code",
   "execution_count": null,
   "metadata": {},
   "outputs": [],
   "source": [
    "# Figure: Worst case.\n",
    "plt.figure(figsize=(12, 4))\n",
    "plt.plot(X_te_s[err_amax,:,4], color=\"b\", label=\"true\")\n",
    "plt.plot(X_te_p[err_amax,:,4], color=\"r\", label=\"pred\")\n",
    "plt.xlabel(\"time\")\n",
    "plt.ylabel(\"scaled price\")\n",
    "plt.title(\"Error = {}, index = {}\".format(round(err_max, 3), err_amax))\n",
    "plt.legend()\n",
    "plt.grid()\n",
    "plt.show()"
   ]
  },
  {
   "cell_type": "code",
   "execution_count": null,
   "metadata": {},
   "outputs": [],
   "source": [
    "# Figure: Best case.\n",
    "n = 4\n",
    "plt.figure(figsize=(12, 20))\n",
    "for i in range(n):\n",
    "    ax = plt.subplot(n, 1, i + 1)\n",
    "    plt.plot(X_te_s[i,:,0], color=\"b\", label=\"true\")\n",
    "    plt.plot(X_te_p[i,:,0], color=\"r\", label=\"pred\")\n",
    "    ax.set_xlabel(\"time\")\n",
    "    ax.set_ylabel(\"price\")\n",
    "    ax.grid()\n",
    "plt.show()"
   ]
  },
  {
   "cell_type": "code",
   "execution_count": null,
   "metadata": {},
   "outputs": [],
   "source": []
  }
 ],
 "metadata": {
  "kernelspec": {
   "display_name": "Python 3",
   "language": "python",
   "name": "python3"
  },
  "language_info": {
   "codemirror_mode": {
    "name": "ipython",
    "version": 3
   },
   "file_extension": ".py",
   "mimetype": "text/x-python",
   "name": "python",
   "nbconvert_exporter": "python",
   "pygments_lexer": "ipython3",
   "version": "3.6.6"
  }
 },
 "nbformat": 4,
 "nbformat_minor": 2
}
