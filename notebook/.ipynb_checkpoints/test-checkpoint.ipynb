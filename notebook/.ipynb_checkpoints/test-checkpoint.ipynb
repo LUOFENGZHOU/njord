{
 "cells": [
  {
   "cell_type": "markdown",
   "metadata": {},
   "source": [
    "# Test\n",
    "\n",
    "Import usefull packages + the njord library. For installations details please refer to README file. "
   ]
  },
  {
   "cell_type": "code",
   "execution_count": 10,
   "metadata": {},
   "outputs": [],
   "source": [
    "import njord as nj\n",
    "import numpy as np\n",
    "import pandas as pd\n",
    "import matplotlib.pyplot as plt"
   ]
  },
  {
   "cell_type": "markdown",
   "metadata": {},
   "source": [
    "## Hyper parameters"
   ]
  },
  {
   "cell_type": "code",
   "execution_count": 15,
   "metadata": {},
   "outputs": [],
   "source": [
    "PATH = \"../dataset\"\n",
    "SYMBOL = \"btcusdt\"\n",
    "FILENAME = \"dataset_binance_{}_period_600.csv\".format(SYMBOL)\n",
    "LOOKBACK = 8\n",
    "LOOKUP = 1"
   ]
  },
  {
   "cell_type": "markdown",
   "metadata": {},
   "source": [
    "## Dataset\n",
    "\n",
    "Load the dataset from .csv file to a pandas dataframe."
   ]
  },
  {
   "cell_type": "code",
   "execution_count": 3,
   "metadata": {},
   "outputs": [],
   "source": [
    "dataset = pd.read_csv(PATH + \"/\" + FILENAME)\n",
    "dataset = dataset.set_index(\"time\")\n",
    "dataset.index = pd.to_datetime(dataset.index)"
   ]
  },
  {
   "cell_type": "code",
   "execution_count": 4,
   "metadata": {},
   "outputs": [
    {
     "name": "stdout",
     "output_type": "stream",
     "text": [
      "Dataset size = \n",
      "11748\n",
      "Dataset head = \n",
      "                     open_price_#t  high_price_#t  low_price_#t  \\\n",
      "time                                                              \n",
      "2018-10-01 00:10:00        6626.57        6649.00       6622.13   \n",
      "2018-10-01 00:20:00        6645.21        6648.00       6632.59   \n",
      "2018-10-01 00:30:00        6640.03        6655.00       6638.98   \n",
      "2018-10-01 00:40:00        6643.43        6653.33       6638.78   \n",
      "2018-10-01 00:50:00        6650.00        6653.70       6641.30   \n",
      "\n",
      "                     close_price_#t  avg_price_#t  sum_qty_diff_norm_#n  \n",
      "time                                                                     \n",
      "2018-10-01 00:10:00         6645.20   6639.074520              0.270180  \n",
      "2018-10-01 00:20:00         6640.03   6639.989762              0.216486  \n",
      "2018-10-01 00:30:00         6643.41   6648.777817              0.536584  \n",
      "2018-10-01 00:40:00         6648.80   6644.145194             -0.020611  \n",
      "2018-10-01 00:50:00         6645.02   6646.068371              0.174034  \n"
     ]
    }
   ],
   "source": [
    "print(\"Dataset size = \\n{}\".format(dataset.size))\n",
    "print(\"Dataset head = \\n{}\".format(dataset.head()))"
   ]
  },
  {
   "cell_type": "markdown",
   "metadata": {},
   "source": [
    "## Batch\n",
    "\n",
    "We now have to build the batch, i.e. a feature array X with its associated targets Y. "
   ]
  },
  {
   "cell_type": "code",
   "execution_count": 5,
   "metadata": {},
   "outputs": [],
   "source": [
    "batch = nj.Batch(dataset, 8, 1)"
   ]
  },
  {
   "cell_type": "code",
   "execution_count": 6,
   "metadata": {},
   "outputs": [
    {
     "name": "stdout",
     "output_type": "stream",
     "text": [
      "Batch(root = 11748, lk = [7, 6, 5, 4, 3, 2, 1, 0], la = [-1], data = None)\n"
     ]
    }
   ],
   "source": [
    "print(batch)"
   ]
  },
  {
   "cell_type": "code",
   "execution_count": 7,
   "metadata": {
    "scrolled": false
   },
   "outputs": [
    {
     "name": "stdout",
     "output_type": "stream",
     "text": [
      "X shape = (1950, 8, 6)\n",
      "Y shape = (1950, 1, 6)\n"
     ]
    }
   ],
   "source": [
    "X, Y = batch.build()\n",
    "print(\"X shape = {}\".format(X.shape))\n",
    "print(\"Y shape = {}\".format(Y.shape))"
   ]
  },
  {
   "cell_type": "code",
   "execution_count": 8,
   "metadata": {},
   "outputs": [
    {
     "name": "stdout",
     "output_type": "stream",
     "text": [
      "[[[ 6.62657000e+03  6.64900000e+03  6.62213000e+03  6.64520000e+03\n",
      "    6.63907452e+03  2.70180270e-01]\n",
      "  [ 6.64521000e+03  6.64800000e+03  6.63259000e+03  6.64003000e+03\n",
      "    6.63998976e+03  2.16486483e-01]\n",
      "  [ 6.64003000e+03  6.65500000e+03  6.63898000e+03  6.64341000e+03\n",
      "    6.64877782e+03  5.36584443e-01]\n",
      "  [ 6.64343000e+03  6.65333000e+03  6.63878000e+03  6.64880000e+03\n",
      "    6.64414519e+03 -2.06106593e-02]\n",
      "  [ 6.65000000e+03  6.65370000e+03  6.64130000e+03  6.64502000e+03\n",
      "    6.64606837e+03  1.74033701e-01]\n",
      "  [ 6.64502000e+03  6.65370000e+03  6.64190000e+03  6.64997000e+03\n",
      "    6.64737748e+03  4.98459187e-01]\n",
      "  [ 6.64788000e+03  6.65866000e+03  6.64700000e+03  6.65197000e+03\n",
      "    6.65287114e+03 -7.18652981e-02]\n",
      "  [ 6.65197000e+03  6.66405000e+03  6.65002000e+03  6.65767000e+03\n",
      "    6.65599581e+03  3.12441732e-01]]]\n"
     ]
    }
   ],
   "source": [
    "print(X[0:1])"
   ]
  },
  {
   "cell_type": "code",
   "execution_count": 21,
   "metadata": {},
   "outputs": [
    {
     "data": {
      "image/png": "[encoded data removed]",
      "text/plain": [
       "<Figure size 432x288 with 1 Axes>"
      ]
     },
     "metadata": {},
     "output_type": "display_data"
    }
   ],
   "source": [
    "fig = plt.figure()\n",
    "plt.plot(X[0,:,1], color=\"b\")\n",
    "plt.plot(X[0,:,1], color=\"r\")\n",
    "plt.plot(X[0,:,2], color=\"g\")\n",
    "plt.plot(X[0,:,3], color=\"c\")\n",
    "plt.plot(X[0,:,4], color=\"k\")\n",
    "plt.xlabel(\"time\")\n",
    "plt.ylabel(\"price {}\".format(SYMBOL))\n",
    "plt.show()"
   ]
  },
  {
   "cell_type": "code",
   "execution_count": null,
   "metadata": {},
   "outputs": [],
   "source": []
  }
 ],
 "metadata": {
  "kernelspec": {
   "display_name": "Python 3",
   "language": "python",
   "name": "python3"
  },
  "language_info": {
   "codemirror_mode": {
    "name": "ipython",
    "version": 3
   },
   "file_extension": ".py",
   "mimetype": "text/x-python",
   "name": "python",
   "nbconvert_exporter": "python",
   "pygments_lexer": "ipython3",
   "version": "3.6.6"
  }
 },
 "nbformat": 4,
 "nbformat_minor": 2
}
