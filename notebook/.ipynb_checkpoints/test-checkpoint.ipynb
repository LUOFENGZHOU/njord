{
 "cells": [
  {
   "cell_type": "markdown",
   "metadata": {},
   "source": [
    "# Test\n",
    "\n",
    "Import usefull packages + the njord library. For installations details please refer to README file. "
   ]
  },
  {
   "cell_type": "code",
   "execution_count": 16,
   "metadata": {},
   "outputs": [],
   "source": [
    "import njord as nj\n",
    "import numpy as np\n",
    "import pandas as pd"
   ]
  },
  {
   "cell_type": "markdown",
   "metadata": {},
   "source": [
    "## Hyper parameters"
   ]
  },
  {
   "cell_type": "code",
   "execution_count": 17,
   "metadata": {},
   "outputs": [],
   "source": [
    "PATH = \"../dataset\"\n",
    "FILENAME = \"dataset_binance_btcusdt_period_600.csv\"\n",
    "LOOKBACK = 8\n",
    "LOOKUP = 1"
   ]
  },
  {
   "cell_type": "markdown",
   "metadata": {},
   "source": [
    "## Dataset"
   ]
  },
  {
   "cell_type": "code",
   "execution_count": 18,
   "metadata": {},
   "outputs": [],
   "source": [
    "dataset = pd.read_csv(PATH + \"/\" + FILENAME)\n",
    "dataset = dataset.set_index(\"time\")"
   ]
  },
  {
   "cell_type": "code",
   "execution_count": 15,
   "metadata": {},
   "outputs": [
    {
     "name": "stdout",
     "output_type": "stream",
     "text": [
      "                     open_price_#t  high_price_#t  low_price_#t  \\\n",
      "time                                                              \n",
      "2018-10-01 00:10:00        6626.57        6649.00       6622.13   \n",
      "2018-10-01 00:20:00        6645.21        6648.00       6632.59   \n",
      "2018-10-01 00:30:00        6640.03        6655.00       6638.98   \n",
      "2018-10-01 00:40:00        6643.43        6653.33       6638.78   \n",
      "2018-10-01 00:50:00        6650.00        6653.70       6641.30   \n",
      "\n",
      "                     close_price_#t  avg_price_#t  sum_qty_diff_norm_#n  \n",
      "time                                                                     \n",
      "2018-10-01 00:10:00         6645.20   6639.074520              0.270180  \n",
      "2018-10-01 00:20:00         6640.03   6639.989762              0.216486  \n",
      "2018-10-01 00:30:00         6643.41   6648.777817              0.536584  \n",
      "2018-10-01 00:40:00         6648.80   6644.145194             -0.020611  \n",
      "2018-10-01 00:50:00         6645.02   6646.068371              0.174034  \n"
     ]
    }
   ],
   "source": [
    "print(dataset.head())"
   ]
  },
  {
   "cell_type": "code",
   "execution_count": null,
   "metadata": {},
   "outputs": [],
   "source": []
  }
 ],
 "metadata": {
  "kernelspec": {
   "display_name": "Python 3",
   "language": "python",
   "name": "python3"
  },
  "language_info": {
   "codemirror_mode": {
    "name": "ipython",
    "version": 3
   },
   "file_extension": ".py",
   "mimetype": "text/x-python",
   "name": "python",
   "nbconvert_exporter": "python",
   "pygments_lexer": "ipython3",
   "version": "3.6.6"
  }
 },
 "nbformat": 4,
 "nbformat_minor": 2
}
