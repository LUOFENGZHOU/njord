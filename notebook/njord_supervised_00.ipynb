{
 "cells": [
  {
   "cell_type": "markdown",
   "metadata": {},
   "source": [
    "# Test\n",
    "\n",
    "Import usefull packages + the njord library. For installations details please refer to README file. "
   ]
  },
  {
   "cell_type": "code",
   "execution_count": 6,
   "metadata": {},
   "outputs": [],
   "source": [
    "import njord as nj\n",
    "import numpy as np\n",
    "import pandas as pd\n",
    "import matplotlib.pyplot as plt"
   ]
  },
  {
   "cell_type": "markdown",
   "metadata": {},
   "source": [
    "## Hyper parameters"
   ]
  },
  {
   "cell_type": "code",
   "execution_count": 60,
   "metadata": {},
   "outputs": [],
   "source": [
    "# Dataset parameters.\n",
    "PATH = \"dataset\"\n",
    "SYMBOL = \"btcusdt\"\n",
    "DATASET = \"ohlc\"\n",
    "PERIOD = 600\n",
    "FILENAME_TR = \"binance_{}_{}_period_{}_{}.csv\".format(SYMBOL, DATASET, PERIOD, \"train\")\n",
    "FILENAME_TE = \"binance_{}_{}_period_{}_{}.csv\".format(SYMBOL, DATASET, PERIOD, \"test\")\n",
    "\n",
    "# Batch parameters.\n",
    "LOOKBACK = 16\n",
    "LOOKAHEAD = 1\n",
    "TARGET = \"close\"\n",
    "\n",
    "# Training parameters.\n",
    "LR = 0.0001\n",
    "EPOCHS = 100\n",
    "MINIBATCH_SIZE = 128"
   ]
  },
  {
   "cell_type": "markdown",
   "metadata": {},
   "source": [
    "## Dataset\n",
    "\n",
    "Load the dataset from .csv file to a pandas dataframe."
   ]
  },
  {
   "cell_type": "code",
   "execution_count": 61,
   "metadata": {},
   "outputs": [],
   "source": [
    "# Load the training dataset.\n",
    "data_tr = pd.read_csv(PATH + \"/\" + FILENAME_TR)\n",
    "data_tr = data_tr.set_index(\"time\")\n",
    "data_tr.index = pd.to_datetime(data_tr.index)\n",
    "\n",
    "# Load the test dataset.\n",
    "data_te = pd.read_csv(PATH + \"/\" + FILENAME_TE)\n",
    "data_te = data_te.set_index(\"time\")\n",
    "data_te.index = pd.to_datetime(data_te.index)"
   ]
  },
  {
   "cell_type": "code",
   "execution_count": 62,
   "metadata": {},
   "outputs": [
    {
     "name": "stdout",
     "output_type": "stream",
     "text": [
      "Number of samples train = (8784, 5)\n",
      "Number of samples test = (2736, 5)\n",
      "\n",
      "3. training head: \n",
      "                        open     high      low    close          avg\n",
      "time                                                                \n",
      "2018-09-01 00:10:00  7011.21  7044.35  7010.00  7041.65  7029.350052\n",
      "2018-09-01 00:20:00  7041.87  7041.87  7031.82  7038.41  7037.445636\n",
      "2018-09-01 00:30:00  7038.41  7046.00  7034.72  7046.00  7041.031830\n",
      "2018-09-01 00:40:00  7046.00  7049.00  7036.28  7043.81  7044.063838\n",
      "2018-09-01 00:50:00  7045.42  7046.33  7030.05  7030.05  7038.251102\n",
      "\n",
      "3. test head: \n",
      "                        open     high      low    close          avg\n",
      "time                                                                \n",
      "2018-11-01 00:10:00  6371.93  6376.99  6369.57  6375.15  6374.240114\n",
      "2018-11-01 00:20:00  6375.19  6376.98  6372.19  6374.48  6374.350265\n",
      "2018-11-01 00:30:00  6373.21  6375.00  6360.77  6366.25  6368.364441\n",
      "2018-11-01 00:40:00  6366.56  6366.80  6355.00  6355.17  6361.868075\n",
      "2018-11-01 00:50:00  6360.69  6364.26  6355.37  6363.84  6361.195457\n"
     ]
    }
   ],
   "source": [
    "# Display the number of samples for the datasets.\n",
    "print(\"Number of samples train = {}\".format(data_tr.shape))\n",
    "print(\"Number of samples test = {}\".format(data_te.shape))\n",
    "\n",
    "# Display the head of the dataset.\n",
    "print(\"\\n3. training head: \\n{}\".format(data_tr.head()))\n",
    "print(\"\\n3. test head: \\n{}\".format(data_te.head()))"
   ]
  },
  {
   "cell_type": "markdown",
   "metadata": {},
   "source": [
    "## Batch and data normalisation\n",
    "\n",
    "We now have to build the batch, i.e. a feature array X with its associated targets Y. \n",
    "\n",
    "- The timeseries X are normalise with the pivot method.\n",
    "\n",
    "- The targets are casted:\n",
    "    1. Y > 0 = 1, rise\n",
    "    2. Y < 0 = 0, drop"
   ]
  },
  {
   "cell_type": "code",
   "execution_count": 63,
   "metadata": {
    "scrolled": false
   },
   "outputs": [],
   "source": [
    "# Load the training and test batch.\n",
    "batch_tr = nj.Batch(data_tr, LOOKBACK, LOOKAHEAD)\n",
    "batch_te = nj.Batch(data_te, LOOKBACK, LOOKAHEAD)\n",
    "\n",
    "# Build the training and test batch to get the features and the targets.\n",
    "X_tr, Y_tr = batch_tr.build(target=\"avg\", method=\"pvt\")\n",
    "X_te, Y_te = batch_te.build(target=\"avg\", method=\"pvt\")\n",
    "\n",
    "# Cast the targets.\n",
    "Y_tr = 1.0 * ( Y_tr > 0.0 ).reshape(-1,1)\n",
    "Y_te = 1.0 * ( Y_te > 0.0 ).reshape(-1,1)"
   ]
  },
  {
   "cell_type": "code",
   "execution_count": 64,
   "metadata": {},
   "outputs": [
    {
     "name": "stdout",
     "output_type": "stream",
     "text": [
      "\n",
      "Training Features info:\n",
      "X_tr shape = (8751, 16, 5)\n",
      "X_tr mean  = 0.010660262377854819\n",
      "X_tr std   = 0.5791731304359717\n",
      "\n",
      "Test Features info:\n",
      "X_te shape = (2669, 16, 5)\n",
      "X_te mean  = 0.07223071167349669\n",
      "X_te std   = 0.5865227771674386\n"
     ]
    }
   ],
   "source": [
    "# Display features information.\n",
    "print(\"\\nTraining Features info:\")\n",
    "print(\"X_tr shape = {}\".format(X_tr.shape))\n",
    "print(\"X_tr mean  = {}\".format(X_tr.mean()))\n",
    "print(\"X_tr std   = {}\".format(X_tr.std()))\n",
    "print(\"\\nTest Features info:\")\n",
    "print(\"X_te shape = {}\".format(X_te.shape))\n",
    "print(\"X_te mean  = {}\".format(X_te.mean()))\n",
    "print(\"X_te std   = {}\".format(X_te.std()))"
   ]
  },
  {
   "cell_type": "code",
   "execution_count": 65,
   "metadata": {},
   "outputs": [
    {
     "name": "stdout",
     "output_type": "stream",
     "text": [
      "\n",
      "Training Targets info:\n",
      "Y_tr shape = (8751, 1)\n",
      "Y_tr mean  = 0.5069134956005028\n",
      "Y_tr std   = 0.4999522012938655\n",
      "Y_tr samples = \n",
      "[0. 0. 0. 1. 1. 1. 1. 1. 1. 0.]\n",
      "\n",
      "Test Targets info:\n",
      "Y_te shape = (2669, 1)\n",
      "Y_te mean  = 0.49044585987261147\n",
      "Y_te std   = 0.4999087100725754\n",
      "Y_te samples = \n",
      "[1. 1. 0. 0. 1. 1. 1. 0. 0. 1.]\n"
     ]
    }
   ],
   "source": [
    "# Display targets information.\n",
    "print(\"\\nTraining Targets info:\")\n",
    "print(\"Y_tr shape = {}\".format(Y_tr.shape))\n",
    "print(\"Y_tr mean  = {}\".format(Y_tr.mean()))\n",
    "print(\"Y_tr std   = {}\".format(Y_tr.std()))\n",
    "print(\"Y_tr samples = \\n{}\".format(Y_tr[0:10,0]))\n",
    "print(\"\\nTest Targets info:\")\n",
    "print(\"Y_te shape = {}\".format(Y_te.shape))\n",
    "print(\"Y_te mean  = {}\".format(Y_te.mean()))\n",
    "print(\"Y_te std   = {}\".format(Y_te.std()))\n",
    "print(\"Y_te samples = \\n{}\".format(Y_te[0:10,0]))"
   ]
  },
  {
   "cell_type": "code",
   "execution_count": 66,
   "metadata": {},
   "outputs": [
    {
     "data": {
      "image/png": "[encoded data removed]",
      "text/plain": [
       "<Figure size 432x288 with 1 Axes>"
      ]
     },
     "metadata": {},
     "output_type": "display_data"
    }
   ],
   "source": [
    "# Histogram: Train and test Features.\n",
    "hist_X_tr = plt.hist(X_tr.reshape(-1, 1), 200, density=True, facecolor=\"b\", alpha=0.75, label=\"tr\")\n",
    "hist_X_te = plt.hist(X_te.reshape(-1, 1), 200, density=True, facecolor=\"g\", alpha=0.75, label=\"te\")\n",
    "plt.xlim([-1, 1])\n",
    "plt.legend()\n",
    "plt.show()"
   ]
  },
  {
   "cell_type": "code",
   "execution_count": 67,
   "metadata": {},
   "outputs": [
    {
     "name": "stdout",
     "output_type": "stream",
     "text": [
      "Number of drops tr = 4315\n",
      "Number of rises tr = 4436\n",
      "Number of drops te = 1360\n",
      "Number of rises te = 1309\n"
     ]
    },
    {
     "data": {
      "image/png": "[encoded data removed]",
      "text/plain": [
       "<Figure size 432x288 with 1 Axes>"
      ]
     },
     "metadata": {},
     "output_type": "display_data"
    }
   ],
   "source": [
    "# Histogram: Targets.\n",
    "histY = plt.hist(Y_tr, 5, density=True, facecolor=\"b\", alpha=0.50)\n",
    "histY = plt.hist(Y_te, 5, density=True, facecolor=\"g\", alpha=0.50)\n",
    "\n",
    "# Evalute the number of rise and drops for the training set.\n",
    "print(\"Number of drops tr = {}\".format(np.sum(Y_tr == 0)))\n",
    "print(\"Number of rises tr = {}\".format(np.sum(Y_tr == 1)))\n",
    "\n",
    "# Evaluate the number of rise and drops for the test set.\n",
    "print(\"Number of drops te = {}\".format(np.sum(Y_te == 0)))\n",
    "print(\"Number of rises te = {}\".format(np.sum(Y_te == 1)))"
   ]
  },
  {
   "cell_type": "markdown",
   "metadata": {},
   "source": [
    "## Training\n",
    "\n",
    "Train a model with keras."
   ]
  },
  {
   "cell_type": "code",
   "execution_count": 68,
   "metadata": {},
   "outputs": [],
   "source": [
    "# Import usefull packages.\n",
    "from keras.models import Sequential\n",
    "from keras.layers import Dense\n",
    "from keras.layers import Dropout\n",
    "from keras import optimizers\n",
    "import keras.backend as K"
   ]
  },
  {
   "cell_type": "code",
   "execution_count": 69,
   "metadata": {},
   "outputs": [],
   "source": [
    "# Define the precision.\n",
    "def P(y_true, y_pred):\n",
    "    \"\"\"Function that computes the precision.\n",
    "    \"\"\"\n",
    "    true_positives = K.sum(K.round(K.clip(y_true * y_pred, 0, 1)))\n",
    "    predicted_positives = K.sum(K.round(K.clip(y_pred, 0, 1)))\n",
    "    precision = true_positives / (predicted_positives + K.epsilon())\n",
    "    return precision\n",
    "\n",
    "# Define the recall.\n",
    "def R(y_true, y_pred):\n",
    "    \"\"\"Function that computes the recall.\n",
    "    \"\"\"\n",
    "    true_positives = K.sum(K.round(K.clip(y_true * y_pred, 0, 1)))\n",
    "    possible_positives = K.sum(K.round(K.clip(y_true, 0, 1)))\n",
    "    recall = true_positives / (possible_positives + K.epsilon())\n",
    "    return recall"
   ]
  },
  {
   "cell_type": "code",
   "execution_count": null,
   "metadata": {},
   "outputs": [
    {
     "name": "stdout",
     "output_type": "stream",
     "text": [
      "Train on 8751 samples, validate on 2669 samples\n",
      "Epoch 1/100\n",
      " - 1s - loss: 0.6996 - R: 0.5585 - P: 0.5157 - val_loss: 0.6895 - val_R: 0.6090 - val_P: 0.5621\n",
      "Epoch 2/100\n",
      " - 0s - loss: 0.6977 - R: 0.5597 - P: 0.5335 - val_loss: 0.6852 - val_R: 0.6072 - val_P: 0.6080\n",
      "Epoch 3/100\n",
      " - 0s - loss: 0.6926 - R: 0.5882 - P: 0.5507 - val_loss: 0.6822 - val_R: 0.7063 - val_P: 0.6123\n",
      "Epoch 4/100\n",
      " - 0s - loss: 0.6884 - R: 0.6200 - P: 0.5677 - val_loss: 0.6782 - val_R: 0.6545 - val_P: 0.6273\n",
      "Epoch 5/100\n",
      " - 0s - loss: 0.6831 - R: 0.6250 - P: 0.5810 - val_loss: 0.6730 - val_R: 0.6678 - val_P: 0.6397\n",
      "Epoch 6/100\n",
      " - 0s - loss: 0.6813 - R: 0.6637 - P: 0.6011 - val_loss: 0.6656 - val_R: 0.6775 - val_P: 0.6576\n",
      "Epoch 7/100\n",
      " - 0s - loss: 0.6740 - R: 0.6479 - P: 0.6081 - val_loss: 0.6584 - val_R: 0.6932 - val_P: 0.6566\n",
      "Epoch 8/100\n",
      " - 0s - loss: 0.6682 - R: 0.6775 - P: 0.6248 - val_loss: 0.6504 - val_R: 0.7100 - val_P: 0.6560\n",
      "Epoch 9/100\n",
      " - 0s - loss: 0.6597 - R: 0.6993 - P: 0.6345 - val_loss: 0.6431 - val_R: 0.7349 - val_P: 0.6495\n",
      "Epoch 10/100\n",
      " - 0s - loss: 0.6519 - R: 0.7010 - P: 0.6457 - val_loss: 0.6339 - val_R: 0.7417 - val_P: 0.6540\n",
      "Epoch 11/100\n",
      " - 0s - loss: 0.6449 - R: 0.7045 - P: 0.6517 - val_loss: 0.6250 - val_R: 0.7246 - val_P: 0.6600\n",
      "Epoch 12/100\n",
      " - 0s - loss: 0.6358 - R: 0.6906 - P: 0.6575 - val_loss: 0.6166 - val_R: 0.7128 - val_P: 0.6738\n",
      "Epoch 13/100\n",
      " - 0s - loss: 0.6301 - R: 0.6922 - P: 0.6677 - val_loss: 0.6105 - val_R: 0.7216 - val_P: 0.6738\n",
      "Epoch 14/100\n",
      " - 0s - loss: 0.6257 - R: 0.6861 - P: 0.6773 - val_loss: 0.6039 - val_R: 0.7256 - val_P: 0.6774\n",
      "Epoch 15/100\n",
      " - 0s - loss: 0.6150 - R: 0.6936 - P: 0.6807 - val_loss: 0.5998 - val_R: 0.7402 - val_P: 0.6716\n",
      "Epoch 16/100\n",
      " - 0s - loss: 0.6092 - R: 0.6987 - P: 0.6827 - val_loss: 0.5960 - val_R: 0.7149 - val_P: 0.6769\n",
      "Epoch 17/100\n",
      " - 0s - loss: 0.6051 - R: 0.6981 - P: 0.6952 - val_loss: 0.5907 - val_R: 0.7086 - val_P: 0.6902\n",
      "Epoch 18/100\n",
      " - 0s - loss: 0.6045 - R: 0.6851 - P: 0.6944 - val_loss: 0.5886 - val_R: 0.7365 - val_P: 0.6793\n",
      "Epoch 19/100\n",
      " - 0s - loss: 0.6021 - R: 0.7038 - P: 0.6932 - val_loss: 0.5856 - val_R: 0.7257 - val_P: 0.6847\n",
      "Epoch 20/100\n",
      " - 0s - loss: 0.5940 - R: 0.6988 - P: 0.7010 - val_loss: 0.5819 - val_R: 0.7167 - val_P: 0.6944\n",
      "Epoch 21/100\n",
      " - 0s - loss: 0.5936 - R: 0.6988 - P: 0.7004 - val_loss: 0.5800 - val_R: 0.7211 - val_P: 0.6968\n",
      "Epoch 22/100\n",
      " - 0s - loss: 0.5937 - R: 0.6922 - P: 0.6994 - val_loss: 0.5778 - val_R: 0.6890 - val_P: 0.6945\n",
      "Epoch 23/100\n",
      " - 0s - loss: 0.5874 - R: 0.6968 - P: 0.6995 - val_loss: 0.5765 - val_R: 0.7210 - val_P: 0.6964\n",
      "Epoch 24/100\n",
      " - 0s - loss: 0.5839 - R: 0.7109 - P: 0.7097 - val_loss: 0.5741 - val_R: 0.7132 - val_P: 0.6971\n",
      "Epoch 25/100\n",
      " - 0s - loss: 0.5859 - R: 0.7095 - P: 0.7014 - val_loss: 0.5733 - val_R: 0.7248 - val_P: 0.6917\n",
      "Epoch 26/100\n",
      " - 0s - loss: 0.5821 - R: 0.6980 - P: 0.7051 - val_loss: 0.5712 - val_R: 0.7208 - val_P: 0.6939\n",
      "Epoch 27/100\n",
      " - 0s - loss: 0.5828 - R: 0.7014 - P: 0.7095 - val_loss: 0.5690 - val_R: 0.7139 - val_P: 0.6964\n",
      "Epoch 28/100\n",
      " - 0s - loss: 0.5808 - R: 0.7034 - P: 0.7020 - val_loss: 0.5684 - val_R: 0.7327 - val_P: 0.6916\n",
      "Epoch 29/100\n",
      " - 0s - loss: 0.5774 - R: 0.7079 - P: 0.7096 - val_loss: 0.5685 - val_R: 0.7501 - val_P: 0.6861\n",
      "Epoch 30/100\n",
      " - 0s - loss: 0.5744 - R: 0.7189 - P: 0.7063 - val_loss: 0.5649 - val_R: 0.7223 - val_P: 0.6964\n",
      "Epoch 31/100\n",
      " - 0s - loss: 0.5757 - R: 0.7011 - P: 0.7118 - val_loss: 0.5646 - val_R: 0.7285 - val_P: 0.6915\n",
      "Epoch 32/100\n",
      " - 0s - loss: 0.5718 - R: 0.7109 - P: 0.7092 - val_loss: 0.5638 - val_R: 0.7297 - val_P: 0.6921\n",
      "Epoch 33/100\n",
      " - 0s - loss: 0.5750 - R: 0.7116 - P: 0.7127 - val_loss: 0.5616 - val_R: 0.7232 - val_P: 0.6949\n",
      "Epoch 34/100\n",
      " - 0s - loss: 0.5712 - R: 0.7072 - P: 0.7151 - val_loss: 0.5615 - val_R: 0.7388 - val_P: 0.6877\n",
      "Epoch 35/100\n",
      " - 0s - loss: 0.5708 - R: 0.7173 - P: 0.7128 - val_loss: 0.5597 - val_R: 0.7298 - val_P: 0.6955\n",
      "Epoch 36/100\n",
      " - 0s - loss: 0.5708 - R: 0.7074 - P: 0.7130 - val_loss: 0.5587 - val_R: 0.7311 - val_P: 0.6934\n",
      "Epoch 37/100\n",
      " - 0s - loss: 0.5703 - R: 0.7134 - P: 0.7158 - val_loss: 0.5584 - val_R: 0.7322 - val_P: 0.6910\n",
      "Epoch 38/100\n",
      " - 0s - loss: 0.5682 - R: 0.7237 - P: 0.7136 - val_loss: 0.5570 - val_R: 0.7257 - val_P: 0.6943\n",
      "Epoch 39/100\n",
      " - 0s - loss: 0.5709 - R: 0.7124 - P: 0.7141 - val_loss: 0.5564 - val_R: 0.7294 - val_P: 0.6953\n",
      "Epoch 40/100\n",
      " - 0s - loss: 0.5658 - R: 0.7247 - P: 0.7106 - val_loss: 0.5549 - val_R: 0.7225 - val_P: 0.7017\n",
      "Epoch 41/100\n",
      " - 0s - loss: 0.5645 - R: 0.7158 - P: 0.7189 - val_loss: 0.5550 - val_R: 0.7312 - val_P: 0.6900\n",
      "Epoch 42/100\n",
      " - 0s - loss: 0.5660 - R: 0.7154 - P: 0.7109 - val_loss: 0.5551 - val_R: 0.7385 - val_P: 0.6866\n",
      "Epoch 43/100\n",
      " - 0s - loss: 0.5664 - R: 0.7141 - P: 0.7165 - val_loss: 0.5536 - val_R: 0.7267 - val_P: 0.6938\n",
      "Epoch 44/100\n",
      " - 0s - loss: 0.5653 - R: 0.7234 - P: 0.7125 - val_loss: 0.5524 - val_R: 0.7104 - val_P: 0.7095\n",
      "Epoch 45/100\n",
      " - 0s - loss: 0.5648 - R: 0.7113 - P: 0.7155 - val_loss: 0.5522 - val_R: 0.7279 - val_P: 0.6975\n",
      "Epoch 46/100\n",
      " - 0s - loss: 0.5626 - R: 0.7119 - P: 0.7156 - val_loss: 0.5522 - val_R: 0.7392 - val_P: 0.6893\n",
      "Epoch 47/100\n",
      " - 0s - loss: 0.5606 - R: 0.7176 - P: 0.7130 - val_loss: 0.5521 - val_R: 0.7435 - val_P: 0.6978\n",
      "Epoch 48/100\n",
      " - 0s - loss: 0.5590 - R: 0.7210 - P: 0.7133 - val_loss: 0.5514 - val_R: 0.7405 - val_P: 0.6932\n",
      "Epoch 49/100\n",
      " - 0s - loss: 0.5583 - R: 0.7274 - P: 0.7181 - val_loss: 0.5502 - val_R: 0.7295 - val_P: 0.6948\n",
      "Epoch 50/100\n",
      " - 0s - loss: 0.5627 - R: 0.7271 - P: 0.7222 - val_loss: 0.5494 - val_R: 0.7259 - val_P: 0.7052\n",
      "Epoch 51/100\n",
      " - 0s - loss: 0.5559 - R: 0.7216 - P: 0.7282 - val_loss: 0.5497 - val_R: 0.7298 - val_P: 0.6908\n",
      "Epoch 52/100\n",
      " - 0s - loss: 0.5596 - R: 0.7254 - P: 0.7176 - val_loss: 0.5495 - val_R: 0.7187 - val_P: 0.7006\n",
      "Epoch 53/100\n",
      " - 0s - loss: 0.5586 - R: 0.7219 - P: 0.7176 - val_loss: 0.5488 - val_R: 0.7268 - val_P: 0.6895\n",
      "Epoch 54/100\n",
      " - 0s - loss: 0.5565 - R: 0.7220 - P: 0.7212 - val_loss: 0.5486 - val_R: 0.7365 - val_P: 0.6907\n",
      "Epoch 55/100\n",
      " - 0s - loss: 0.5536 - R: 0.7246 - P: 0.7198 - val_loss: 0.5475 - val_R: 0.7299 - val_P: 0.6931\n",
      "Epoch 56/100\n",
      " - 0s - loss: 0.5559 - R: 0.7238 - P: 0.7187 - val_loss: 0.5477 - val_R: 0.7272 - val_P: 0.6904\n",
      "Epoch 57/100\n",
      " - 0s - loss: 0.5553 - R: 0.7237 - P: 0.7217 - val_loss: 0.5472 - val_R: 0.7371 - val_P: 0.6917\n",
      "Epoch 58/100\n",
      " - 0s - loss: 0.5563 - R: 0.7230 - P: 0.7165 - val_loss: 0.5476 - val_R: 0.7370 - val_P: 0.6871\n",
      "Epoch 59/100\n",
      " - 0s - loss: 0.5554 - R: 0.7267 - P: 0.7154 - val_loss: 0.5466 - val_R: 0.7344 - val_P: 0.7000\n",
      "Epoch 60/100\n",
      " - 0s - loss: 0.5548 - R: 0.7244 - P: 0.7162 - val_loss: 0.5461 - val_R: 0.7232 - val_P: 0.7028\n",
      "Epoch 61/100\n",
      " - 0s - loss: 0.5558 - R: 0.7229 - P: 0.7255 - val_loss: 0.5454 - val_R: 0.7179 - val_P: 0.7087\n",
      "Epoch 62/100\n",
      " - 0s - loss: 0.5547 - R: 0.7247 - P: 0.7206 - val_loss: 0.5453 - val_R: 0.7321 - val_P: 0.6973\n",
      "Epoch 63/100\n",
      " - 0s - loss: 0.5519 - R: 0.7304 - P: 0.7273 - val_loss: 0.5458 - val_R: 0.7304 - val_P: 0.6924\n",
      "Epoch 64/100\n",
      " - 0s - loss: 0.5530 - R: 0.7214 - P: 0.7189 - val_loss: 0.5451 - val_R: 0.7310 - val_P: 0.6942\n",
      "Epoch 65/100\n",
      " - 0s - loss: 0.5511 - R: 0.7297 - P: 0.7281 - val_loss: 0.5446 - val_R: 0.7321 - val_P: 0.6980\n",
      "Epoch 66/100\n",
      " - 0s - loss: 0.5518 - R: 0.7261 - P: 0.7260 - val_loss: 0.5443 - val_R: 0.7298 - val_P: 0.6959\n",
      "Epoch 67/100\n",
      " - 0s - loss: 0.5516 - R: 0.7255 - P: 0.7210 - val_loss: 0.5438 - val_R: 0.7280 - val_P: 0.6983\n",
      "Epoch 68/100\n",
      " - 0s - loss: 0.5520 - R: 0.7243 - P: 0.7244 - val_loss: 0.5437 - val_R: 0.7392 - val_P: 0.6948\n",
      "Epoch 69/100\n",
      " - 0s - loss: 0.5513 - R: 0.7285 - P: 0.7248 - val_loss: 0.5436 - val_R: 0.7420 - val_P: 0.6943\n",
      "Epoch 70/100\n",
      " - 0s - loss: 0.5531 - R: 0.7345 - P: 0.7214 - val_loss: 0.5440 - val_R: 0.7405 - val_P: 0.6934\n",
      "Epoch 71/100\n",
      " - 0s - loss: 0.5471 - R: 0.7331 - P: 0.7200 - val_loss: 0.5427 - val_R: 0.7340 - val_P: 0.6922\n",
      "Epoch 72/100\n",
      " - 0s - loss: 0.5481 - R: 0.7323 - P: 0.7199 - val_loss: 0.5424 - val_R: 0.7309 - val_P: 0.6938\n",
      "Epoch 73/100\n",
      " - 0s - loss: 0.5500 - R: 0.7375 - P: 0.7191 - val_loss: 0.5418 - val_R: 0.7330 - val_P: 0.6977\n",
      "Epoch 74/100\n",
      " - 0s - loss: 0.5510 - R: 0.7282 - P: 0.7224 - val_loss: 0.5417 - val_R: 0.7275 - val_P: 0.6964\n",
      "Epoch 75/100\n",
      " - 0s - loss: 0.5479 - R: 0.7314 - P: 0.7239 - val_loss: 0.5411 - val_R: 0.7325 - val_P: 0.6942\n"
     ]
    },
    {
     "name": "stdout",
     "output_type": "stream",
     "text": [
      "Epoch 76/100\n",
      " - 0s - loss: 0.5506 - R: 0.7293 - P: 0.7253 - val_loss: 0.5418 - val_R: 0.7331 - val_P: 0.6945\n",
      "Epoch 77/100\n",
      " - 0s - loss: 0.5489 - R: 0.7283 - P: 0.7270 - val_loss: 0.5415 - val_R: 0.7371 - val_P: 0.6934\n",
      "Epoch 78/100\n",
      " - 0s - loss: 0.5472 - R: 0.7358 - P: 0.7257 - val_loss: 0.5422 - val_R: 0.7406 - val_P: 0.6947\n",
      "Epoch 79/100\n",
      " - 0s - loss: 0.5458 - R: 0.7299 - P: 0.7266 - val_loss: 0.5420 - val_R: 0.7428 - val_P: 0.6918\n",
      "Epoch 80/100\n",
      " - 0s - loss: 0.5468 - R: 0.7409 - P: 0.7219 - val_loss: 0.5410 - val_R: 0.7342 - val_P: 0.6962\n",
      "Epoch 81/100\n",
      " - 0s - loss: 0.5487 - R: 0.7221 - P: 0.7226 - val_loss: 0.5412 - val_R: 0.7405 - val_P: 0.6942\n",
      "Epoch 82/100\n",
      " - 0s - loss: 0.5496 - R: 0.7359 - P: 0.7256 - val_loss: 0.5405 - val_R: 0.7337 - val_P: 0.6951\n",
      "Epoch 83/100\n",
      " - 0s - loss: 0.5483 - R: 0.7412 - P: 0.7184 - val_loss: 0.5409 - val_R: 0.7365 - val_P: 0.7073\n",
      "Epoch 84/100\n",
      " - 0s - loss: 0.5453 - R: 0.7326 - P: 0.7271 - val_loss: 0.5404 - val_R: 0.7339 - val_P: 0.6937\n"
     ]
    }
   ],
   "source": [
    "# Reshape the training dataset.\n",
    "X_train = X_tr.reshape(X_tr.shape[0], -1)\n",
    "Y_train = Y_tr.reshape(X_tr.shape[0], -1)\n",
    "\n",
    "# Reshape the test dataset.\n",
    "X_test = X_te.reshape(X_te.shape[0], -1)\n",
    "Y_test = Y_te.reshape(X_te.shape[0], -1)\n",
    "\n",
    "# Build the model.\n",
    "model = Sequential()\n",
    "model.add(Dense(units=128, activation=\"relu\", input_dim=X_train.shape[1]))\n",
    "model.add(Dropout(0.3))\n",
    "model.add(Dense(units=128, activation=\"relu\"))\n",
    "model.add(Dropout(0.3))\n",
    "model.add(Dense(units=64, activation=\"relu\"))\n",
    "model.add(Dropout(0.5))\n",
    "model.add(Dense(units=1, activation=\"sigmoid\"))\n",
    "\n",
    "# Set the optimizer.\n",
    "optimizer = optimizers.RMSprop(lr=LR, rho=0.95, epsilon=1.0E-6, decay=0.0)\n",
    "\n",
    "# Compile the model.\n",
    "model.compile(loss=\"binary_crossentropy\", optimizer=optimizer, metrics=[R, P])\n",
    "\n",
    "# Set the training parameters.\n",
    "params = {\n",
    "    \"epochs\": EPOCHS,\n",
    "    \"batch_size\": MINIBATCH_SIZE,\n",
    "    \"validation_data\": (X_test, Y_test),\n",
    "    \"verbose\": 2\n",
    "}\n",
    "\n",
    "# Train the model.\n",
    "history = model.fit(X_train, Y_train, **params)\n",
    "\n",
    "# Training finished.\n",
    "print(\"Training finished\")"
   ]
  },
  {
   "cell_type": "code",
   "execution_count": 59,
   "metadata": {},
   "outputs": [
    {
     "data": {
      "image/png": "[encoded data removed]",
      "text/plain": [
       "<Figure size 432x288 with 1 Axes>"
      ]
     },
     "metadata": {},
     "output_type": "display_data"
    },
    {
     "data": {
      "image/png": "[encoded data removed]",
      "text/plain": [
       "<Figure size 432x288 with 1 Axes>"
      ]
     },
     "metadata": {},
     "output_type": "display_data"
    },
    {
     "data": {
      "image/png": "[encoded data removed]",
      "text/plain": [
       "<Figure size 432x288 with 1 Axes>"
      ]
     },
     "metadata": {},
     "output_type": "display_data"
    }
   ],
   "source": [
    "# Figure: loss vs epochs.\n",
    "plt.figure()\n",
    "plt.plot(history.history[\"loss\"], label=\"tr\", color=\"r\")\n",
    "plt.plot(history.history[\"val_loss\"], label=\"te\", color=\"b\")\n",
    "plt.xlabel(\"epochs\")\n",
    "plt.ylabel(\"loss\")\n",
    "plt.legend()\n",
    "plt.grid()\n",
    "plt.show()\n",
    "\n",
    "# Figure: recall vs. epochs.\n",
    "plt.figure()\n",
    "plt.plot(history.history[\"R\"], label=\"tr\", color=\"r\")\n",
    "plt.plot(history.history[\"val_R\"], label=\"te\", color=\"b\")\n",
    "plt.xlabel(\"epochs\")\n",
    "plt.ylabel(\"recall\")\n",
    "plt.legend()\n",
    "plt.grid()\n",
    "plt.show()\n",
    "\n",
    "# Figure: precision vs. epochs.\n",
    "plt.figure()\n",
    "plt.plot(history.history[\"P\"], label=\"tr\", color=\"r\")\n",
    "plt.plot(history.history[\"val_P\"], label=\"te\", color=\"b\")\n",
    "plt.xlabel(\"epochs\")\n",
    "plt.ylabel(\"precision\")\n",
    "plt.legend()\n",
    "plt.grid()\n",
    "plt.show()"
   ]
  },
  {
   "cell_type": "code",
   "execution_count": 44,
   "metadata": {},
   "outputs": [
    {
     "name": "stdout",
     "output_type": "stream",
     "text": [
      "Evaluate model on the training set: \n",
      " [0.5348431635224442, 0.7704696973593981, 0.7182909884210069]\n",
      "Evaluate model on the test set:     \n",
      " [0.550140203083888, 0.7638393901134976, 0.680267000966592]\n"
     ]
    }
   ],
   "source": [
    "# Evaluate the model on th train set.\n",
    "eval_tr = model.evaluate(X_train, Y_train, verbose=2)\n",
    "\n",
    "# Evaluate the model on th test set.\n",
    "eval_te = model.evaluate(X_test, Y_test, verbose=2)\n",
    "\n",
    "# Display the results.\n",
    "print(\"Evaluate model on the training set: \\n {}\".format(eval_tr))\n",
    "print(\"Evaluate model on the test set:     \\n {}\".format(eval_te))"
   ]
  },
  {
   "cell_type": "code",
   "execution_count": null,
   "metadata": {},
   "outputs": [],
   "source": []
  }
 ],
 "metadata": {
  "kernelspec": {
   "display_name": "Python 3",
   "language": "python",
   "name": "python3"
  },
  "language_info": {
   "codemirror_mode": {
    "name": "ipython",
    "version": 3
   },
   "file_extension": ".py",
   "mimetype": "text/x-python",
   "name": "python",
   "nbconvert_exporter": "python",
   "pygments_lexer": "ipython3",
   "version": "3.6.6"
  }
 },
 "nbformat": 4,
 "nbformat_minor": 2
}
