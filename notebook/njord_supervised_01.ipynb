{
 "cells": [
  {
   "cell_type": "markdown",
   "metadata": {},
   "source": [
    "# Test\n",
    "\n",
    "Import usefull packages + the njord library. For installations details please refer to README file. "
   ]
  },
  {
   "cell_type": "code",
   "execution_count": 16,
   "metadata": {},
   "outputs": [],
   "source": [
    "import ccxt\n",
    "import time\n",
    "import njord as nj\n",
    "import numpy as np\n",
    "import pandas as pd\n",
    "import matplotlib.pyplot as plt"
   ]
  },
  {
   "cell_type": "markdown",
   "metadata": {},
   "source": [
    "## Load data.\n",
    "\n",
    "Here we load all the data that is available for binance."
   ]
  },
  {
   "cell_type": "code",
   "execution_count": 2,
   "metadata": {},
   "outputs": [],
   "source": [
    "# Set the hyper parameter.\n",
    "period = \"1d\"\n",
    "exchange = ccxt.binance()\n",
    "markets = exchange.loadMarkets()"
   ]
  },
  {
   "cell_type": "code",
   "execution_count": 18,
   "metadata": {},
   "outputs": [
    {
     "name": "stdout",
     "output_type": "stream",
     "text": [
      "Load market data ETH/BTC, elapsed time = 329 [ms]\n",
      "Load market data LTC/BTC, elapsed time = 309 [ms]\n",
      "Load market data BNB/BTC, elapsed time = 304 [ms]\n",
      "Load market data NEO/BTC, elapsed time = 306 [ms]\n",
      "Load market data QTUM/ETH, elapsed time = 306 [ms]\n",
      "Load market data EOS/ETH, elapsed time = 307 [ms]\n",
      "Load market data SNT/ETH, elapsed time = 305 [ms]\n",
      "Load market data BNT/ETH, elapsed time = 306 [ms]\n",
      "Load market data BCH/BTC, elapsed time = 409 [ms]\n",
      "Load market data GAS/BTC, elapsed time = 338 [ms]\n",
      "Load market data BNB/ETH, elapsed time = 381 [ms]\n",
      "Load market data BTC/USDT, elapsed time = 320 [ms]\n",
      "Load market data ETH/USDT, elapsed time = 402 [ms]\n",
      "Load market data HSR/BTC, elapsed time = 408 [ms]\n",
      "Load market data OAX/ETH, elapsed time = 403 [ms]\n",
      "Load market data DNT/ETH, elapsed time = 308 [ms]\n",
      "Load market data MCO/ETH, elapsed time = 614 [ms]\n",
      "Load market data ICN/ETH, elapsed time = 408 [ms]\n",
      "Load market data MCO/BTC, elapsed time = 311 [ms]\n",
      "Load market data WTC/BTC, elapsed time = 303 [ms]\n",
      "Load market data WTC/ETH, elapsed time = 308 [ms]\n",
      "Load market data LRC/BTC, elapsed time = 415 [ms]\n",
      "Load market data LRC/ETH, elapsed time = 308 [ms]\n",
      "Load market data QTUM/BTC, elapsed time = 402 [ms]\n",
      "Load market data YOYOW/BTC, elapsed time = 318 [ms]\n",
      "Load market data OMG/BTC, elapsed time = 397 [ms]\n",
      "Load market data OMG/ETH, elapsed time = 308 [ms]\n",
      "Load market data ZRX/BTC, elapsed time = 306 [ms]\n",
      "Load market data ZRX/ETH, elapsed time = 308 [ms]\n",
      "Load market data STRAT/BTC, elapsed time = 305 [ms]\n"
     ]
    }
   ],
   "source": [
    "ohlcv = {}\n",
    "\n",
    "MAX_COUNTER = 30\n",
    "counter = 1\n",
    "\n",
    "for market in markets.keys():\n",
    "    \n",
    "    # Start the timer.\n",
    "    time_start = time.time()\n",
    "    \n",
    "    # Load and process the data.\n",
    "    data = exchange.fetchOhlcv(market, \"1h\")\n",
    "    df = pd.DataFrame(data, columns=[\"time\", \"o\", \"h\", \"l\", \"c\", \"v\"])\n",
    "    df = df.set_index(\"time\")\n",
    "    df.index = pd.to_datetime(df.index, unit=\"ms\")\n",
    "    ohlcv[market] = df\n",
    "    \n",
    "    # End the timer.\n",
    "    elapsed = int( 1000 * ( time.time() - time_start ))\n",
    "    \n",
    "    # Display.\n",
    "    print(\"Load market data {}, elapsed time = {} [ms]\".format(market, elapsed))\n",
    "    \n",
    "    # Check the counter.\n",
    "    counter += 1\n",
    "    if counter > MAX_COUNTER:\n",
    "        break"
   ]
  },
  {
   "cell_type": "markdown",
   "metadata": {},
   "source": [
    "## Build the batch.\n",
    "\n",
    "We now have to build the batch, i.e. a feature array X with its associated targets Y. "
   ]
  },
  {
   "cell_type": "code",
   "execution_count": 40,
   "metadata": {
    "scrolled": false
   },
   "outputs": [],
   "source": [
    "import njord as nj\n",
    "\n",
    "# Set the initial list.\n",
    "X = []\n",
    "Y = []\n",
    "\n",
    "# Loop on the markets.\n",
    "for market, data in ohlcv.items():\n",
    "    batch = nj.Batch(data, 16, 1)\n",
    "    x, y = batch.build(target=\"c\", method=\"pct\")\n",
    "    y = 1.0 * ( y > 0.0 ).reshape(-1,1)\n",
    "    X.append(x)\n",
    "    Y.append(y)"
   ]
  },
  {
   "cell_type": "code",
   "execution_count": 41,
   "metadata": {},
   "outputs": [
    {
     "name": "stdout",
     "output_type": "stream",
     "text": [
      "\n",
      "Training Features info:\n",
      "X_tr shape = (0, 16, 5)\n",
      "X_tr mean  = nan\n",
      "X_tr std   = nan\n"
     ]
    },
    {
     "name": "stderr",
     "output_type": "stream",
     "text": [
      "/Users/mdhoffschmidt/.local/lib/python3.6/site-packages/ipykernel_launcher.py:8: RuntimeWarning: Mean of empty slice.\n",
      "  \n",
      "/Users/mdhoffschmidt/miniconda3/lib/python3.6/site-packages/numpy/core/_methods.py:80: RuntimeWarning: invalid value encountered in double_scalars\n",
      "  ret = ret.dtype.type(ret / rcount)\n",
      "/Users/mdhoffschmidt/miniconda3/lib/python3.6/site-packages/numpy/core/_methods.py:135: RuntimeWarning: Degrees of freedom <= 0 for slice\n",
      "  keepdims=keepdims)\n",
      "/Users/mdhoffschmidt/miniconda3/lib/python3.6/site-packages/numpy/core/_methods.py:105: RuntimeWarning: invalid value encountered in true_divide\n",
      "  arrmean, rcount, out=arrmean, casting='unsafe', subok=False)\n",
      "/Users/mdhoffschmidt/miniconda3/lib/python3.6/site-packages/numpy/core/_methods.py:127: RuntimeWarning: invalid value encountered in double_scalars\n",
      "  ret = ret.dtype.type(ret / rcount)\n"
     ]
    },
    {
     "ename": "ValueError",
     "evalue": "zero-size array to reduction operation maximum which has no identity",
     "output_type": "error",
     "traceback": [
      "\u001b[0;31m---------------------------------------------------------------------------\u001b[0m",
      "\u001b[0;31mValueError\u001b[0m                                Traceback (most recent call last)",
      "\u001b[0;32m<ipython-input-41-125c3b4c2055>\u001b[0m in \u001b[0;36m<module>\u001b[0;34m()\u001b[0m\n\u001b[1;32m      8\u001b[0m \u001b[0mprint\u001b[0m\u001b[0;34m(\u001b[0m\u001b[0;34m\"X_tr mean  = {}\"\u001b[0m\u001b[0;34m.\u001b[0m\u001b[0mformat\u001b[0m\u001b[0;34m(\u001b[0m\u001b[0mX_tr\u001b[0m\u001b[0;34m.\u001b[0m\u001b[0mmean\u001b[0m\u001b[0;34m(\u001b[0m\u001b[0;34m)\u001b[0m\u001b[0;34m)\u001b[0m\u001b[0;34m)\u001b[0m\u001b[0;34m\u001b[0m\u001b[0m\n\u001b[1;32m      9\u001b[0m \u001b[0mprint\u001b[0m\u001b[0;34m(\u001b[0m\u001b[0;34m\"X_tr std   = {}\"\u001b[0m\u001b[0;34m.\u001b[0m\u001b[0mformat\u001b[0m\u001b[0;34m(\u001b[0m\u001b[0mX_tr\u001b[0m\u001b[0;34m.\u001b[0m\u001b[0mstd\u001b[0m\u001b[0;34m(\u001b[0m\u001b[0;34m)\u001b[0m\u001b[0;34m)\u001b[0m\u001b[0;34m)\u001b[0m\u001b[0;34m\u001b[0m\u001b[0m\n\u001b[0;32m---> 10\u001b[0;31m \u001b[0mprint\u001b[0m\u001b[0;34m(\u001b[0m\u001b[0;34m\"X_tr max   = {}\"\u001b[0m\u001b[0;34m.\u001b[0m\u001b[0mformat\u001b[0m\u001b[0;34m(\u001b[0m\u001b[0mX_tr\u001b[0m\u001b[0;34m.\u001b[0m\u001b[0mmax\u001b[0m\u001b[0;34m(\u001b[0m\u001b[0;34m)\u001b[0m\u001b[0;34m)\u001b[0m\u001b[0;34m)\u001b[0m\u001b[0;34m\u001b[0m\u001b[0m\n\u001b[0m\u001b[1;32m     11\u001b[0m \u001b[0mprint\u001b[0m\u001b[0;34m(\u001b[0m\u001b[0;34m\"X_tr min   = {}\"\u001b[0m\u001b[0;34m.\u001b[0m\u001b[0mformat\u001b[0m\u001b[0;34m(\u001b[0m\u001b[0mX_tr\u001b[0m\u001b[0;34m.\u001b[0m\u001b[0mmin\u001b[0m\u001b[0;34m(\u001b[0m\u001b[0;34m)\u001b[0m\u001b[0;34m)\u001b[0m\u001b[0;34m)\u001b[0m\u001b[0;34m\u001b[0m\u001b[0m\n\u001b[1;32m     12\u001b[0m \u001b[0mprint\u001b[0m\u001b[0;34m(\u001b[0m\u001b[0;34m\"\\nTest Features info:\"\u001b[0m\u001b[0;34m)\u001b[0m\u001b[0;34m\u001b[0m\u001b[0m\n",
      "\u001b[0;32m~/miniconda3/lib/python3.6/site-packages/numpy/core/_methods.py\u001b[0m in \u001b[0;36m_amax\u001b[0;34m(a, axis, out, keepdims)\u001b[0m\n\u001b[1;32m     24\u001b[0m \u001b[0;31m# small reductions\u001b[0m\u001b[0;34m\u001b[0m\u001b[0;34m\u001b[0m\u001b[0m\n\u001b[1;32m     25\u001b[0m \u001b[0;32mdef\u001b[0m \u001b[0m_amax\u001b[0m\u001b[0;34m(\u001b[0m\u001b[0ma\u001b[0m\u001b[0;34m,\u001b[0m \u001b[0maxis\u001b[0m\u001b[0;34m=\u001b[0m\u001b[0;32mNone\u001b[0m\u001b[0;34m,\u001b[0m \u001b[0mout\u001b[0m\u001b[0;34m=\u001b[0m\u001b[0;32mNone\u001b[0m\u001b[0;34m,\u001b[0m \u001b[0mkeepdims\u001b[0m\u001b[0;34m=\u001b[0m\u001b[0;32mFalse\u001b[0m\u001b[0;34m)\u001b[0m\u001b[0;34m:\u001b[0m\u001b[0;34m\u001b[0m\u001b[0m\n\u001b[0;32m---> 26\u001b[0;31m     \u001b[0;32mreturn\u001b[0m \u001b[0mumr_maximum\u001b[0m\u001b[0;34m(\u001b[0m\u001b[0ma\u001b[0m\u001b[0;34m,\u001b[0m \u001b[0maxis\u001b[0m\u001b[0;34m,\u001b[0m \u001b[0;32mNone\u001b[0m\u001b[0;34m,\u001b[0m \u001b[0mout\u001b[0m\u001b[0;34m,\u001b[0m \u001b[0mkeepdims\u001b[0m\u001b[0;34m)\u001b[0m\u001b[0;34m\u001b[0m\u001b[0m\n\u001b[0m\u001b[1;32m     27\u001b[0m \u001b[0;34m\u001b[0m\u001b[0m\n\u001b[1;32m     28\u001b[0m \u001b[0;32mdef\u001b[0m \u001b[0m_amin\u001b[0m\u001b[0;34m(\u001b[0m\u001b[0ma\u001b[0m\u001b[0;34m,\u001b[0m \u001b[0maxis\u001b[0m\u001b[0;34m=\u001b[0m\u001b[0;32mNone\u001b[0m\u001b[0;34m,\u001b[0m \u001b[0mout\u001b[0m\u001b[0;34m=\u001b[0m\u001b[0;32mNone\u001b[0m\u001b[0;34m,\u001b[0m \u001b[0mkeepdims\u001b[0m\u001b[0;34m=\u001b[0m\u001b[0;32mFalse\u001b[0m\u001b[0;34m)\u001b[0m\u001b[0;34m:\u001b[0m\u001b[0;34m\u001b[0m\u001b[0m\n",
      "\u001b[0;31mValueError\u001b[0m: zero-size array to reduction operation maximum which has no identity"
     ]
    }
   ],
   "source": [
    "# Build the entire batch.\n",
    "X_tr = np.vstack(X)\n",
    "Y_tr = np.vstack(Y)\n",
    "\n",
    "# Display features information.\n",
    "print(\"\\nTraining Features info:\")\n",
    "print(\"X_tr shape = {}\".format(X_tr.shape))\n",
    "print(\"X_tr mean  = {}\".format(X_tr.mean()))\n",
    "print(\"X_tr std   = {}\".format(X_tr.std()))\n",
    "print(\"X_tr max   = {}\".format(X_tr.max()))\n",
    "print(\"X_tr min   = {}\".format(X_tr.min()))\n",
    "print(\"\\nTest Features info:\")\n",
    "print(\"Y_tr shape = {}\".format(Y_tr.shape))\n",
    "print(\"Y_tr mean  = {}\".format(Y_tr.mean()))\n",
    "print(\"Y_tr std   = {}\".format(Y_tr.std()))"
   ]
  },
  {
   "cell_type": "code",
   "execution_count": 24,
   "metadata": {},
   "outputs": [
    {
     "data": {
      "image/png": "[encoded data removed]",
      "text/plain": [
       "<Figure size 432x288 with 1 Axes>"
      ]
     },
     "metadata": {},
     "output_type": "display_data"
    }
   ],
   "source": [
    "# Histogram: Train and test Features.\n",
    "hist_X_tr = plt.hist(X_tr.reshape(-1, 1), 200, density=True, facecolor=\"b\", alpha=0.75, label=\"tr\")\n",
    "plt.legend()\n",
    "plt.show()"
   ]
  },
  {
   "cell_type": "markdown",
   "metadata": {},
   "source": [
    "## Training\n",
    "\n",
    "Train a model with keras."
   ]
  },
  {
   "cell_type": "code",
   "execution_count": 25,
   "metadata": {},
   "outputs": [],
   "source": [
    "# Import usefull packages.\n",
    "from keras.models import Sequential\n",
    "from keras.layers import Dense\n",
    "from keras.layers import Dropout\n",
    "from keras.layers import GRU\n",
    "from keras import optimizers\n",
    "import keras.backend as K"
   ]
  },
  {
   "cell_type": "code",
   "execution_count": 26,
   "metadata": {},
   "outputs": [],
   "source": [
    "# Define the precision.\n",
    "def P(y_true, y_pred):\n",
    "    \"\"\"Function that computes the precision.\n",
    "    \"\"\"\n",
    "    true_positives = K.sum(K.round(K.clip(y_true * y_pred, 0, 1)))\n",
    "    predicted_positives = K.sum(K.round(K.clip(y_pred, 0, 1)))\n",
    "    precision = true_positives / (predicted_positives + K.epsilon())\n",
    "    return precision\n",
    "\n",
    "# Define the recall.\n",
    "def R(y_true, y_pred):\n",
    "    \"\"\"Function that computes the recall.\n",
    "    \"\"\"\n",
    "    true_positives = K.sum(K.round(K.clip(y_true * y_pred, 0, 1)))\n",
    "    possible_positives = K.sum(K.round(K.clip(y_true, 0, 1)))\n",
    "    recall = true_positives / (possible_positives + K.epsilon())\n",
    "    return recall"
   ]
  },
  {
   "cell_type": "code",
   "execution_count": 36,
   "metadata": {},
   "outputs": [
    {
     "name": "stdout",
     "output_type": "stream",
     "text": [
      "Train on 7225 samples, validate on 7226 samples\n",
      "Epoch 1/100\n",
      "7225/7225 [==============================] - 3s 420us/step - loss: 0.6931 - R: 0.4061 - P: 0.4844 - val_loss: 0.6919 - val_R: 0.0138 - val_P: 0.5394\n",
      "Epoch 2/100\n",
      "7225/7225 [==============================] - 1s 194us/step - loss: 0.6926 - R: 0.0877 - P: 0.4364 - val_loss: 0.6908 - val_R: 0.0000e+00 - val_P: 0.0000e+00\n",
      "Epoch 3/100\n",
      "7225/7225 [==============================] - 1s 199us/step - loss: 0.6924 - R: 0.0135 - P: 0.1776 - val_loss: 0.6907 - val_R: 0.0012 - val_P: 0.1063\n",
      "Epoch 4/100\n",
      "7225/7225 [==============================] - 1s 196us/step - loss: 0.6926 - R: 0.1014 - P: 0.3907 - val_loss: 0.6909 - val_R: 0.0058 - val_P: 0.3921\n",
      "Epoch 5/100\n",
      "7225/7225 [==============================] - 1s 196us/step - loss: 0.6922 - R: 0.0213 - P: 0.2707 - val_loss: 0.6918 - val_R: 0.1973 - val_P: 0.4772\n",
      "Epoch 6/100\n",
      "7225/7225 [==============================] - 1s 193us/step - loss: 0.6924 - R: 0.1004 - P: 0.4323 - val_loss: 0.6902 - val_R: 0.0028 - val_P: 0.2126\n",
      "Epoch 7/100\n",
      "7225/7225 [==============================] - 1s 199us/step - loss: 0.6920 - R: 0.0033 - P: 0.2126 - val_loss: 0.6905 - val_R: 0.0433 - val_P: 0.4392\n",
      "Epoch 8/100\n",
      "7225/7225 [==============================] - 2s 212us/step - loss: 0.6917 - R: 0.0268 - P: 0.5541 - val_loss: 0.6903 - val_R: 0.0413 - val_P: 0.4964\n",
      "Epoch 9/100\n",
      "7225/7225 [==============================] - 1s 197us/step - loss: 0.6916 - R: 0.0537 - P: 0.4912 - val_loss: 0.6899 - val_R: 0.0181 - val_P: 0.6081\n",
      "Epoch 10/100\n",
      "7225/7225 [==============================] - 1s 198us/step - loss: 0.6915 - R: 0.0126 - P: 0.5344 - val_loss: 0.6900 - val_R: 0.0958 - val_P: 0.5060\n",
      "Epoch 11/100\n",
      "7225/7225 [==============================] - 2s 208us/step - loss: 0.6914 - R: 0.0516 - P: 0.5726 - val_loss: 0.6897 - val_R: 0.0715 - val_P: 0.5317\n",
      "Epoch 12/100\n",
      "7225/7225 [==============================] - 1s 205us/step - loss: 0.6912 - R: 0.1407 - P: 0.5515 - val_loss: 0.6893 - val_R: 0.0497 - val_P: 0.6063\n",
      "Epoch 13/100\n",
      "7225/7225 [==============================] - 2s 208us/step - loss: 0.6919 - R: 0.1019 - P: 0.5144 - val_loss: 0.6902 - val_R: 0.2371 - val_P: 0.5164\n",
      "Epoch 14/100\n",
      "7225/7225 [==============================] - 1s 206us/step - loss: 0.6908 - R: 0.0651 - P: 0.5545 - val_loss: 0.6892 - val_R: 0.1502 - val_P: 0.5238\n",
      "Epoch 15/100\n",
      "7225/7225 [==============================] - 1s 207us/step - loss: 0.6908 - R: 0.0858 - P: 0.5441 - val_loss: 0.6891 - val_R: 0.1937 - val_P: 0.5204\n",
      "Epoch 16/100\n",
      "7225/7225 [==============================] - 2s 222us/step - loss: 0.6903 - R: 0.1177 - P: 0.5295 - val_loss: 0.6887 - val_R: 0.1838 - val_P: 0.5135\n",
      "Epoch 17/100\n",
      "7225/7225 [==============================] - 2s 217us/step - loss: 0.6901 - R: 0.1369 - P: 0.5411 - val_loss: 0.6885 - val_R: 0.2268 - val_P: 0.5114\n",
      "Epoch 18/100\n",
      "7225/7225 [==============================] - 2s 235us/step - loss: 0.6899 - R: 0.1527 - P: 0.5360 - val_loss: 0.6888 - val_R: 0.3202 - val_P: 0.5075\n",
      "Epoch 19/100\n",
      "7225/7225 [==============================] - 2s 222us/step - loss: 0.6900 - R: 0.2162 - P: 0.5406 - val_loss: 0.6886 - val_R: 0.3433 - val_P: 0.5100\n",
      "Epoch 20/100\n",
      "7225/7225 [==============================] - 1s 194us/step - loss: 0.6898 - R: 0.2265 - P: 0.5360 - val_loss: 0.6875 - val_R: 0.2428 - val_P: 0.5227\n",
      "Epoch 21/100\n",
      "7225/7225 [==============================] - 1s 196us/step - loss: 0.6896 - R: 0.1768 - P: 0.5492 - val_loss: 0.6872 - val_R: 0.2085 - val_P: 0.5276\n",
      "Epoch 22/100\n",
      "7225/7225 [==============================] - 1s 203us/step - loss: 0.6888 - R: 0.2963 - P: 0.5381 - val_loss: 0.6883 - val_R: 0.2101 - val_P: 0.5299\n",
      "Epoch 23/100\n",
      "7225/7225 [==============================] - 2s 217us/step - loss: 0.6903 - R: 0.2532 - P: 0.5276 - val_loss: 0.6874 - val_R: 0.2120 - val_P: 0.5297\n",
      "Epoch 24/100\n",
      "7225/7225 [==============================] - 1s 198us/step - loss: 0.6891 - R: 0.2217 - P: 0.5568 - val_loss: 0.6875 - val_R: 0.2879 - val_P: 0.5121\n",
      "Epoch 25/100\n",
      "7225/7225 [==============================] - 1s 208us/step - loss: 0.6889 - R: 0.2173 - P: 0.5512 - val_loss: 0.6878 - val_R: 0.3091 - val_P: 0.5095\n",
      "Epoch 26/100\n",
      "7225/7225 [==============================] - 1s 200us/step - loss: 0.6890 - R: 0.2409 - P: 0.5418 - val_loss: 0.6878 - val_R: 0.3246 - val_P: 0.5130\n",
      "Epoch 27/100\n",
      "7225/7225 [==============================] - 2s 213us/step - loss: 0.6892 - R: 0.2702 - P: 0.5275 - val_loss: 0.6877 - val_R: 0.3178 - val_P: 0.5122\n",
      "Epoch 28/100\n",
      "7225/7225 [==============================] - 1s 206us/step - loss: 0.6898 - R: 0.2450 - P: 0.5439 - val_loss: 0.6873 - val_R: 0.2440 - val_P: 0.5197\n",
      "Epoch 29/100\n",
      "7225/7225 [==============================] - 2s 211us/step - loss: 0.6887 - R: 0.1742 - P: 0.5532 - val_loss: 0.6873 - val_R: 0.2614 - val_P: 0.5269\n",
      "Epoch 30/100\n",
      "7225/7225 [==============================] - 1s 198us/step - loss: 0.6884 - R: 0.2541 - P: 0.5452 - val_loss: 0.6873 - val_R: 0.2291 - val_P: 0.5286\n",
      "Epoch 31/100\n",
      "7225/7225 [==============================] - 1s 192us/step - loss: 0.6890 - R: 0.2348 - P: 0.5364 - val_loss: 0.6898 - val_R: 0.4512 - val_P: 0.5038\n",
      "Epoch 32/100\n",
      "7225/7225 [==============================] - 2s 211us/step - loss: 0.6889 - R: 0.2546 - P: 0.5416 - val_loss: 0.6888 - val_R: 0.4033 - val_P: 0.5056\n",
      "Epoch 33/100\n",
      "7225/7225 [==============================] - 2s 208us/step - loss: 0.6886 - R: 0.2512 - P: 0.5461 - val_loss: 0.6892 - val_R: 0.4038 - val_P: 0.5110\n",
      "Epoch 34/100\n",
      "7225/7225 [==============================] - 1s 206us/step - loss: 0.6884 - R: 0.2778 - P: 0.5361 - val_loss: 0.6880 - val_R: 0.3445 - val_P: 0.5094\n",
      "Epoch 35/100\n",
      "7225/7225 [==============================] - 2s 211us/step - loss: 0.6883 - R: 0.2182 - P: 0.5522 - val_loss: 0.6878 - val_R: 0.3167 - val_P: 0.5141\n",
      "Epoch 36/100\n",
      "7225/7225 [==============================] - 2s 219us/step - loss: 0.6881 - R: 0.2894 - P: 0.5309 - val_loss: 0.6877 - val_R: 0.2885 - val_P: 0.5128\n",
      "Epoch 37/100\n",
      "7225/7225 [==============================] - 2s 266us/step - loss: 0.6880 - R: 0.3303 - P: 0.5438 - val_loss: 0.6876 - val_R: 0.2819 - val_P: 0.5219\n",
      "Epoch 38/100\n",
      "7225/7225 [==============================] - 2s 245us/step - loss: 0.6878 - R: 0.2292 - P: 0.5632 - val_loss: 0.6881 - val_R: 0.3287 - val_P: 0.5114\n",
      "Epoch 39/100\n",
      "7225/7225 [==============================] - 2s 213us/step - loss: 0.6878 - R: 0.3149 - P: 0.5447 - val_loss: 0.6880 - val_R: 0.3315 - val_P: 0.5141\n",
      "Epoch 40/100\n",
      "7225/7225 [==============================] - 2s 219us/step - loss: 0.6873 - R: 0.2797 - P: 0.5414 - val_loss: 0.6882 - val_R: 0.3405 - val_P: 0.5100\n",
      "Epoch 41/100\n",
      "7225/7225 [==============================] - 2s 248us/step - loss: 0.6873 - R: 0.3355 - P: 0.5541 - val_loss: 0.6892 - val_R: 0.4293 - val_P: 0.5041\n",
      "Epoch 42/100\n",
      "7225/7225 [==============================] - 2s 249us/step - loss: 0.6876 - R: 0.2747 - P: 0.5504 - val_loss: 0.6877 - val_R: 0.2811 - val_P: 0.5301\n",
      "Epoch 43/100\n",
      "7225/7225 [==============================] - 2s 269us/step - loss: 0.6872 - R: 0.2182 - P: 0.5719 - val_loss: 0.6882 - val_R: 0.3349 - val_P: 0.5153\n",
      "Epoch 44/100\n",
      "7225/7225 [==============================] - 2s 265us/step - loss: 0.6872 - R: 0.3130 - P: 0.5462 - val_loss: 0.6885 - val_R: 0.3555 - val_P: 0.5084\n",
      "Epoch 45/100\n",
      "7225/7225 [==============================] - 2s 274us/step - loss: 0.6871 - R: 0.2854 - P: 0.5537 - val_loss: 0.6906 - val_R: 0.4275 - val_P: 0.5031\n",
      "Epoch 46/100\n",
      "7225/7225 [==============================] - 2s 285us/step - loss: 0.6874 - R: 0.3440 - P: 0.5513 - val_loss: 0.6882 - val_R: 0.3194 - val_P: 0.5132\n",
      "Epoch 47/100\n",
      "7225/7225 [==============================] - 2s 330us/step - loss: 0.6864 - R: 0.3036 - P: 0.5483 - val_loss: 0.6883 - val_R: 0.3089 - val_P: 0.5185\n",
      "Epoch 48/100\n",
      "7225/7225 [==============================] - 2s 246us/step - loss: 0.6868 - R: 0.3086 - P: 0.5465 - val_loss: 0.6892 - val_R: 0.3829 - val_P: 0.5099\n",
      "Epoch 49/100\n",
      "7225/7225 [==============================] - 2s 222us/step - loss: 0.6870 - R: 0.2591 - P: 0.5568 - val_loss: 0.6895 - val_R: 0.4055 - val_P: 0.5064\n",
      "Epoch 50/100\n",
      "7225/7225 [==============================] - 2s 256us/step - loss: 0.6864 - R: 0.2831 - P: 0.5484 - val_loss: 0.6892 - val_R: 0.3629 - val_P: 0.5058\n",
      "Epoch 51/100\n"
     ]
    },
    {
     "name": "stdout",
     "output_type": "stream",
     "text": [
      "7225/7225 [==============================] - 2s 249us/step - loss: 0.6859 - R: 0.3125 - P: 0.5527 - val_loss: 0.6889 - val_R: 0.2872 - val_P: 0.5154\n",
      "Epoch 52/100\n",
      "7225/7225 [==============================] - 2s 235us/step - loss: 0.6860 - R: 0.3245 - P: 0.5533 - val_loss: 0.6888 - val_R: 0.3124 - val_P: 0.5192\n",
      "Epoch 53/100\n",
      "7225/7225 [==============================] - 2s 208us/step - loss: 0.6862 - R: 0.2501 - P: 0.5648 - val_loss: 0.6889 - val_R: 0.2939 - val_P: 0.5174\n",
      "Epoch 54/100\n",
      "7225/7225 [==============================] - 2s 213us/step - loss: 0.6860 - R: 0.2973 - P: 0.5575 - val_loss: 0.6890 - val_R: 0.3218 - val_P: 0.5154\n",
      "Epoch 55/100\n",
      "7225/7225 [==============================] - 2s 209us/step - loss: 0.6863 - R: 0.3381 - P: 0.5415 - val_loss: 0.6892 - val_R: 0.2773 - val_P: 0.5172\n",
      "Epoch 56/100\n",
      "7225/7225 [==============================] - 2s 220us/step - loss: 0.6860 - R: 0.3279 - P: 0.5484 - val_loss: 0.6887 - val_R: 0.2936 - val_P: 0.5197\n",
      "Epoch 57/100\n",
      "7225/7225 [==============================] - 2s 220us/step - loss: 0.6856 - R: 0.3022 - P: 0.5547 - val_loss: 0.6901 - val_R: 0.3999 - val_P: 0.5085\n",
      "Epoch 58/100\n",
      "7225/7225 [==============================] - 1s 199us/step - loss: 0.6852 - R: 0.2750 - P: 0.5682 - val_loss: 0.6903 - val_R: 0.3994 - val_P: 0.5088\n",
      "Epoch 59/100\n",
      "7225/7225 [==============================] - 1s 208us/step - loss: 0.6859 - R: 0.3471 - P: 0.5447 - val_loss: 0.6925 - val_R: 0.2357 - val_P: 0.5166\n",
      "Epoch 60/100\n",
      "7225/7225 [==============================] - 1s 203us/step - loss: 0.6869 - R: 0.3064 - P: 0.5573 - val_loss: 0.6892 - val_R: 0.3112 - val_P: 0.5162\n",
      "Epoch 61/100\n",
      "7225/7225 [==============================] - 1s 191us/step - loss: 0.6851 - R: 0.3341 - P: 0.5470 - val_loss: 0.6894 - val_R: 0.3446 - val_P: 0.5128\n",
      "Epoch 62/100\n",
      "7225/7225 [==============================] - 1s 195us/step - loss: 0.6855 - R: 0.2988 - P: 0.5633 - val_loss: 0.6899 - val_R: 0.3955 - val_P: 0.5123\n",
      "Epoch 63/100\n",
      "7225/7225 [==============================] - 1s 195us/step - loss: 0.6851 - R: 0.3253 - P: 0.5512 - val_loss: 0.6898 - val_R: 0.3653 - val_P: 0.5130\n",
      "Epoch 64/100\n",
      "7225/7225 [==============================] - 2s 216us/step - loss: 0.6845 - R: 0.3553 - P: 0.5520 - val_loss: 0.6897 - val_R: 0.3119 - val_P: 0.5196\n",
      "Epoch 65/100\n",
      "7225/7225 [==============================] - 2s 233us/step - loss: 0.6853 - R: 0.2717 - P: 0.5604 - val_loss: 0.6897 - val_R: 0.3113 - val_P: 0.5164\n",
      "Epoch 66/100\n",
      "7225/7225 [==============================] - 2s 211us/step - loss: 0.6843 - R: 0.3202 - P: 0.5544 - val_loss: 0.6906 - val_R: 0.4223 - val_P: 0.5059\n",
      "Epoch 67/100\n",
      "7225/7225 [==============================] - 2s 210us/step - loss: 0.6837 - R: 0.3524 - P: 0.5527 - val_loss: 0.6928 - val_R: 0.2709 - val_P: 0.5144\n",
      "Epoch 68/100\n",
      "7225/7225 [==============================] - 2s 212us/step - loss: 0.6850 - R: 0.3433 - P: 0.5627 - val_loss: 0.6904 - val_R: 0.3436 - val_P: 0.5163\n",
      "Epoch 69/100\n",
      "7225/7225 [==============================] - 2s 215us/step - loss: 0.6848 - R: 0.3226 - P: 0.5711 - val_loss: 0.6928 - val_R: 0.4819 - val_P: 0.5035\n",
      "Epoch 70/100\n",
      "7225/7225 [==============================] - 1s 207us/step - loss: 0.6843 - R: 0.3243 - P: 0.5619 - val_loss: 0.6903 - val_R: 0.3440 - val_P: 0.5132\n",
      "Epoch 71/100\n",
      "7225/7225 [==============================] - 2s 219us/step - loss: 0.6836 - R: 0.3615 - P: 0.5531 - val_loss: 0.6906 - val_R: 0.2936 - val_P: 0.5206\n",
      "Epoch 72/100\n",
      "7225/7225 [==============================] - 2s 222us/step - loss: 0.6835 - R: 0.3251 - P: 0.5628 - val_loss: 0.6903 - val_R: 0.3304 - val_P: 0.5164\n",
      "Epoch 73/100\n",
      "7225/7225 [==============================] - 2s 214us/step - loss: 0.6838 - R: 0.3427 - P: 0.5604 - val_loss: 0.6924 - val_R: 0.4284 - val_P: 0.5067\n",
      "Epoch 74/100\n",
      "7225/7225 [==============================] - 2s 209us/step - loss: 0.6835 - R: 0.3311 - P: 0.5572 - val_loss: 0.6928 - val_R: 0.4571 - val_P: 0.5056\n",
      "Epoch 75/100\n",
      "7225/7225 [==============================] - 1s 194us/step - loss: 0.6841 - R: 0.3707 - P: 0.5508 - val_loss: 0.6905 - val_R: 0.3862 - val_P: 0.5098\n",
      "Epoch 76/100\n",
      "7225/7225 [==============================] - 1s 190us/step - loss: 0.6836 - R: 0.3029 - P: 0.5656 - val_loss: 0.6902 - val_R: 0.3210 - val_P: 0.5209\n",
      "Epoch 77/100\n",
      "7225/7225 [==============================] - 2s 247us/step - loss: 0.6828 - R: 0.3571 - P: 0.5559 - val_loss: 0.6933 - val_R: 0.4629 - val_P: 0.5090\n",
      "Epoch 78/100\n",
      "7225/7225 [==============================] - 2s 246us/step - loss: 0.6840 - R: 0.3461 - P: 0.5541 - val_loss: 0.6913 - val_R: 0.3901 - val_P: 0.5114\n",
      "Epoch 79/100\n",
      "7225/7225 [==============================] - 1s 199us/step - loss: 0.6833 - R: 0.3094 - P: 0.5740 - val_loss: 0.6904 - val_R: 0.3296 - val_P: 0.5132\n",
      "Epoch 80/100\n",
      "7225/7225 [==============================] - 1s 202us/step - loss: 0.6836 - R: 0.2843 - P: 0.5758 - val_loss: 0.6927 - val_R: 0.4709 - val_P: 0.5009\n",
      "Epoch 81/100\n",
      "7225/7225 [==============================] - 2s 212us/step - loss: 0.6843 - R: 0.3760 - P: 0.5581 - val_loss: 0.6943 - val_R: 0.4922 - val_P: 0.5000\n",
      "Epoch 82/100\n",
      "7225/7225 [==============================] - 1s 197us/step - loss: 0.6842 - R: 0.4134 - P: 0.5458 - val_loss: 0.6909 - val_R: 0.4391 - val_P: 0.5065\n",
      "Epoch 83/100\n",
      "7225/7225 [==============================] - 1s 187us/step - loss: 0.6826 - R: 0.3011 - P: 0.5770 - val_loss: 0.6907 - val_R: 0.4094 - val_P: 0.5088\n",
      "Epoch 84/100\n",
      "7225/7225 [==============================] - 2s 212us/step - loss: 0.6822 - R: 0.3754 - P: 0.5506 - val_loss: 0.6912 - val_R: 0.2834 - val_P: 0.5214\n",
      "Epoch 85/100\n",
      "7225/7225 [==============================] - 2s 215us/step - loss: 0.6828 - R: 0.3318 - P: 0.5620 - val_loss: 0.6920 - val_R: 0.3016 - val_P: 0.5218\n",
      "Epoch 86/100\n",
      "7225/7225 [==============================] - 1s 190us/step - loss: 0.6820 - R: 0.3702 - P: 0.5609 - val_loss: 0.6908 - val_R: 0.3716 - val_P: 0.5177\n",
      "Epoch 87/100\n",
      "7225/7225 [==============================] - 1s 189us/step - loss: 0.6821 - R: 0.3474 - P: 0.5581 - val_loss: 0.6908 - val_R: 0.2959 - val_P: 0.5210\n",
      "Epoch 88/100\n",
      "7225/7225 [==============================] - 2s 236us/step - loss: 0.6832 - R: 0.3290 - P: 0.5632 - val_loss: 0.6911 - val_R: 0.3847 - val_P: 0.5144\n",
      "Epoch 89/100\n",
      "7225/7225 [==============================] - 1s 207us/step - loss: 0.6826 - R: 0.3595 - P: 0.5628 - val_loss: 0.6950 - val_R: 0.5087 - val_P: 0.4997\n",
      "Epoch 90/100\n",
      "7225/7225 [==============================] - 1s 201us/step - loss: 0.6828 - R: 0.3585 - P: 0.5621 - val_loss: 0.6911 - val_R: 0.3052 - val_P: 0.5231\n",
      "Epoch 91/100\n",
      "7225/7225 [==============================] - 1s 196us/step - loss: 0.6815 - R: 0.3568 - P: 0.5706 - val_loss: 0.6907 - val_R: 0.3394 - val_P: 0.5237\n",
      "Epoch 92/100\n",
      "7225/7225 [==============================] - 2s 264us/step - loss: 0.6820 - R: 0.3634 - P: 0.5558 - val_loss: 0.6913 - val_R: 0.3876 - val_P: 0.5184\n",
      "Epoch 93/100\n",
      "7225/7225 [==============================] - 2s 241us/step - loss: 0.6820 - R: 0.3406 - P: 0.5739 - val_loss: 0.6914 - val_R: 0.2971 - val_P: 0.5216\n",
      "Epoch 94/100\n",
      "7225/7225 [==============================] - 1s 203us/step - loss: 0.6820 - R: 0.3416 - P: 0.5640 - val_loss: 0.6921 - val_R: 0.2984 - val_P: 0.5178\n",
      "Epoch 95/100\n",
      "7225/7225 [==============================] - 1s 204us/step - loss: 0.6818 - R: 0.3835 - P: 0.5643 - val_loss: 0.6912 - val_R: 0.3492 - val_P: 0.5173\n",
      "Epoch 96/100\n",
      "7225/7225 [==============================] - 1s 196us/step - loss: 0.6816 - R: 0.3489 - P: 0.5639 - val_loss: 0.6925 - val_R: 0.4515 - val_P: 0.5083\n",
      "Epoch 97/100\n",
      "7225/7225 [==============================] - 1s 187us/step - loss: 0.6809 - R: 0.4028 - P: 0.5637 - val_loss: 0.6920 - val_R: 0.3266 - val_P: 0.5198\n",
      "Epoch 98/100\n",
      "7225/7225 [==============================] - 1s 187us/step - loss: 0.6812 - R: 0.3258 - P: 0.5668 - val_loss: 0.6918 - val_R: 0.3879 - val_P: 0.5138\n",
      "Epoch 99/100\n",
      "7225/7225 [==============================] - 1s 188us/step - loss: 0.6804 - R: 0.4044 - P: 0.5560 - val_loss: 0.6923 - val_R: 0.3717 - val_P: 0.5166\n",
      "Epoch 100/100\n",
      "7225/7225 [==============================] - 2s 230us/step - loss: 0.6804 - R: 0.3570 - P: 0.5672 - val_loss: 0.6920 - val_R: 0.3871 - val_P: 0.5165\n",
      "Training finished\n"
     ]
    }
   ],
   "source": [
    "# Reshape the training dataset.\n",
    "X_train = X_tr #.reshape(X_tr.shape[0], -1)\n",
    "Y_train = Y_tr #.reshape(X_tr.shape[0], -1)\n",
    "\n",
    "# Build the model.\n",
    "model = Sequential()\n",
    "model.add(GRU(64, return_sequences=True, input_shape=(X_train.shape[1], X_train.shape[2])))\n",
    "model.add(GRU(64, return_sequences=False, input_shape=(X_train.shape[1], X_train.shape[2])))\n",
    "model.add(Dense(units=1, activation=\"sigmoid\"))\n",
    "\n",
    "# Set the optimizer.\n",
    "optimizer = optimizers.Adam(lr=0.00025) #, rho=0.95, epsilon=1.0E-6, decay=0.0)\n",
    "\n",
    "# Compile the model.\n",
    "model.compile(loss=\"binary_crossentropy\", optimizer=optimizer, metrics=[R, P])\n",
    "\n",
    "# Set the training parameters.\n",
    "params = {\n",
    "    \"epochs\": 100,\n",
    "    \"batch_size\": 256,\n",
    "    \"verbose\": 1,\n",
    "    \"shuffle\": True,\n",
    "    \"validation_split\": 0.5\n",
    "}\n",
    "\n",
    "# Train the model.\n",
    "history = model.fit(X_train, Y_train, **params)\n",
    "\n",
    "# Training finished.\n",
    "print(\"Training finished\")"
   ]
  },
  {
   "cell_type": "code",
   "execution_count": 37,
   "metadata": {},
   "outputs": [
    {
     "data": {
      "image/png": "[encoded data removed]",
      "text/plain": [
       "<Figure size 432x288 with 1 Axes>"
      ]
     },
     "metadata": {},
     "output_type": "display_data"
    },
    {
     "data": {
      "image/png": "[encoded data removed]",
      "text/plain": [
       "<Figure size 432x288 with 1 Axes>"
      ]
     },
     "metadata": {},
     "output_type": "display_data"
    },
    {
     "data": {
      "image/png": "[encoded data removed]",
      "text/plain": [
       "<Figure size 432x288 with 1 Axes>"
      ]
     },
     "metadata": {},
     "output_type": "display_data"
    }
   ],
   "source": [
    "# Figure: loss vs epochs.\n",
    "plt.figure()\n",
    "plt.plot(history.history[\"loss\"], label=\"tr\", color=\"r\")\n",
    "plt.plot(history.history[\"val_loss\"], label=\"te\", color=\"b\")\n",
    "plt.xlabel(\"epochs\")\n",
    "plt.ylabel(\"loss\")\n",
    "plt.legend()\n",
    "plt.grid()\n",
    "plt.show()\n",
    "\n",
    "# Figure: recall vs. epochs.\n",
    "plt.figure()\n",
    "plt.plot(history.history[\"R\"], label=\"tr\", color=\"r\")\n",
    "plt.plot(history.history[\"val_R\"], label=\"te\", color=\"b\")\n",
    "plt.xlabel(\"epochs\")\n",
    "plt.ylabel(\"recall\")\n",
    "plt.legend()\n",
    "plt.grid()\n",
    "plt.show()\n",
    "\n",
    "# Figure: precision vs. epochs.\n",
    "plt.figure()\n",
    "plt.plot(history.history[\"P\"], label=\"tr\", color=\"r\")\n",
    "plt.plot(history.history[\"val_P\"], label=\"te\", color=\"b\")\n",
    "plt.xlabel(\"epochs\")\n",
    "plt.ylabel(\"precision\")\n",
    "plt.legend()\n",
    "plt.grid()\n",
    "plt.show()"
   ]
  },
  {
   "cell_type": "code",
   "execution_count": 43,
   "metadata": {},
   "outputs": [
    {
     "name": "stdout",
     "output_type": "stream",
     "text": [
      "Evaluate model on the training set: \n",
      " [0.6857581778171854, 0.38345177561657195, 0.5567286345638806]\n"
     ]
    }
   ],
   "source": [
    "# Evaluate the model on th train set.\n",
    "eval_tr = model.evaluate(X_train, Y_train, verbose=2)\n",
    "\n",
    "# Display the results.\n",
    "print(\"Evaluate model on the training set: \\n {}\".format(eval_tr))"
   ]
  },
  {
   "cell_type": "code",
   "execution_count": null,
   "metadata": {},
   "outputs": [],
   "source": []
  }
 ],
 "metadata": {
  "kernelspec": {
   "display_name": "Python 3",
   "language": "python",
   "name": "python3"
  },
  "language_info": {
   "codemirror_mode": {
    "name": "ipython",
    "version": 3
   },
   "file_extension": ".py",
   "mimetype": "text/x-python",
   "name": "python",
   "nbconvert_exporter": "python",
   "pygments_lexer": "ipython3",
   "version": "3.6.6"
  }
 },
 "nbformat": 4,
 "nbformat_minor": 2
}
