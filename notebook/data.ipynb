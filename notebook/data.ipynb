{
 "cells": [
  {
   "cell_type": "markdown",
   "metadata": {},
   "source": [
    "# Test\n",
    "\n",
    "Import usefull packages + the njord library. For installations details please refer to README file. "
   ]
  },
  {
   "cell_type": "code",
   "execution_count": 1,
   "metadata": {},
   "outputs": [
    {
     "ename": "ModuleNotFoundError",
     "evalue": "No module named 'njord'",
     "output_type": "error",
     "traceback": [
      "\u001b[0;31m---------------------------------------------------------------------------\u001b[0m",
      "\u001b[0;31mModuleNotFoundError\u001b[0m                       Traceback (most recent call last)",
      "\u001b[0;32m<ipython-input-1-583430a6febb>\u001b[0m in \u001b[0;36m<module>\u001b[0;34m()\u001b[0m\n\u001b[0;32m----> 1\u001b[0;31m \u001b[0;32mimport\u001b[0m \u001b[0mnjord\u001b[0m \u001b[0;32mas\u001b[0m \u001b[0mnj\u001b[0m\u001b[0;34m\u001b[0m\u001b[0m\n\u001b[0m\u001b[1;32m      2\u001b[0m \u001b[0;32mimport\u001b[0m \u001b[0mnumpy\u001b[0m \u001b[0;32mas\u001b[0m \u001b[0mnp\u001b[0m\u001b[0;34m\u001b[0m\u001b[0m\n\u001b[1;32m      3\u001b[0m \u001b[0;32mimport\u001b[0m \u001b[0mpandas\u001b[0m \u001b[0;32mas\u001b[0m \u001b[0mpd\u001b[0m\u001b[0;34m\u001b[0m\u001b[0m\n\u001b[1;32m      4\u001b[0m \u001b[0;32mimport\u001b[0m \u001b[0mmatplotlib\u001b[0m\u001b[0;34m.\u001b[0m\u001b[0mpyplot\u001b[0m \u001b[0;32mas\u001b[0m \u001b[0mplt\u001b[0m\u001b[0;34m\u001b[0m\u001b[0m\n",
      "\u001b[0;31mModuleNotFoundError\u001b[0m: No module named 'njord'"
     ]
    }
   ],
   "source": [
    "import njord as nj\n",
    "import numpy as np\n",
    "import pandas as pd\n",
    "import matplotlib.pyplot as plt"
   ]
  },
  {
   "cell_type": "markdown",
   "metadata": {},
   "source": [
    "## Hyper parameters"
   ]
  },
  {
   "cell_type": "code",
   "execution_count": null,
   "metadata": {},
   "outputs": [],
   "source": [
    "PATH = \"../dataset\"\n",
    "SYMBOL = \"btcusdt\"\n",
    "FILENAME = \"dataset_binance_{}_period_600.csv\".format(SYMBOL)\n",
    "LOOKBACK = 8\n",
    "LOOKUP = 1"
   ]
  },
  {
   "cell_type": "markdown",
   "metadata": {},
   "source": [
    "## Dataset\n",
    "\n",
    "Load the dataset from .csv file to a pandas dataframe."
   ]
  },
  {
   "cell_type": "code",
   "execution_count": null,
   "metadata": {},
   "outputs": [],
   "source": [
    "dataset = pd.read_csv(PATH + \"/\" + FILENAME)\n",
    "dataset = dataset.set_index(\"time\")\n",
    "dataset.index = pd.to_datetime(dataset.index)"
   ]
  },
  {
   "cell_type": "code",
   "execution_count": null,
   "metadata": {},
   "outputs": [],
   "source": [
    "print(\"Dataset size = \\n{}\".format(dataset.size))\n",
    "print(\"Dataset head = \\n{}\".format(dataset.head()))"
   ]
  },
  {
   "cell_type": "markdown",
   "metadata": {},
   "source": [
    "## Batch\n",
    "\n",
    "We now have to build the batch, i.e. a feature array X with its associated targets Y. "
   ]
  },
  {
   "cell_type": "code",
   "execution_count": null,
   "metadata": {},
   "outputs": [],
   "source": [
    "batch = nj.Batch(dataset, 8, 1)"
   ]
  },
  {
   "cell_type": "code",
   "execution_count": null,
   "metadata": {
    "scrolled": false
   },
   "outputs": [],
   "source": [
    "X, Y = batch.build(center=False)\n",
    "print(\"X shape = {}\".format(X.shape))\n",
    "print(\"Y shape = {}\".format(Y.shape))"
   ]
  },
  {
   "cell_type": "code",
   "execution_count": null,
   "metadata": {},
   "outputs": [],
   "source": [
    "fig = plt.figure()\n",
    "plt.plot(X[0,:,1], color=\"b\")\n",
    "plt.plot(X[0,:,1], color=\"r\")\n",
    "plt.plot(X[0,:,2], color=\"g\")\n",
    "plt.plot(X[0,:,3], color=\"c\")\n",
    "plt.plot(X[0,:,4], color=\"k\")\n",
    "plt.xlabel(\"time\")\n",
    "plt.ylabel(\"price {}\".format(SYMBOL))\n",
    "plt.show()"
   ]
  },
  {
   "cell_type": "markdown",
   "metadata": {},
   "source": [
    "## Normalise the data\n",
    "\n",
    "We now have the normalise the timeseries data before enterrring the training loop."
   ]
  },
  {
   "cell_type": "markdown",
   "metadata": {},
   "source": [
    "### 1. Mean and Std normalisation\n",
    "\n",
    "Compute the mean $\\mu$ and standard deviation $\\sigma$ of the batch.\n",
    "\n",
    "Rescale the dataset as:\n",
    "\n",
    "$$ X_{norm} = \\frac{X - \\mu}{\\sigma} $$"
   ]
  },
  {
   "cell_type": "code",
   "execution_count": null,
   "metadata": {},
   "outputs": [],
   "source": [
    "# Compute the mean.\n",
    "mean = X.mean(axis=0)\n",
    "# Compute the standard deviation.\n",
    "std = X.mean(axis=0)\n",
    "# Normalise the data.\n",
    "X_norm = ( X - mean ) / ( std + 1.0E-8 )"
   ]
  },
  {
   "cell_type": "code",
   "execution_count": null,
   "metadata": {},
   "outputs": [],
   "source": [
    "# Histogram.\n",
    "hist1 = plt.hist(X_norm[:,:,0].reshape(-1, 1), 50, density=True, facecolor=\"b\", alpha=0.75)"
   ]
  },
  {
   "cell_type": "markdown",
   "metadata": {},
   "source": [
    "### 2. Uniform normalisation\n",
    "\n",
    "Compute the minimum and maximum for each timeseries sample.\n",
    "\n",
    "Rescale the dataset as:\n",
    "\n",
    "$$ X_{norm} = \\frac{ (X - \\max(X) + X - \\min(X)}{\\max(X) - \\min(X)} $$"
   ]
  },
  {
   "cell_type": "code",
   "execution_count": null,
   "metadata": {},
   "outputs": [],
   "source": [
    "# Compute the maximum and minimum.\n",
    "X_max = np.max(X, axis=1, keepdims=True)\n",
    "X_min = np.min(X, axis=1, keepdims=True)\n",
    "\n",
    "# Normalise the data.\n",
    "X_norm = ( X - X_min ) / ( X_max - X_min )\n",
    "\n",
    "# Display shapes.\n",
    "print(\"X_norm shape = {}\".format(X_norm.shape))\n",
    "print(\"X_max shape  = {}\".format(X_max.shape))\n",
    "print(\"X_min shape  = {}\".format(X_min.shape))\n",
    "\n",
    "# Display the max and mins.\n",
    "print(\"X_max = {}\".format(X_max[0]))\n",
    "print(\"X_min = {}\".format(X_min[0]))"
   ]
  },
  {
   "cell_type": "code",
   "execution_count": null,
   "metadata": {},
   "outputs": [],
   "source": [
    "# Histogram.\n",
    "hist1 = plt.hist(X_norm[:,:,0].reshape(-1, 1), 10, density=True, facecolor=\"b\", alpha=0.75)"
   ]
  },
  {
   "cell_type": "code",
   "execution_count": null,
   "metadata": {},
   "outputs": [],
   "source": [
    "print(X_norm[0])\n"
   ]
  },
  {
   "cell_type": "code",
   "execution_count": null,
   "metadata": {},
   "outputs": [],
   "source": []
  }
 ],
 "metadata": {
  "kernelspec": {
   "display_name": "Python 3",
   "language": "python",
   "name": "python3"
  },
  "language_info": {
   "codemirror_mode": {
    "name": "ipython",
    "version": 3
   },
   "file_extension": ".py",
   "mimetype": "text/x-python",
   "name": "python",
   "nbconvert_exporter": "python",
   "pygments_lexer": "ipython3",
   "version": "3.6.6"
  }
 },
 "nbformat": 4,
 "nbformat_minor": 2
}
