{
 "cells": [
  {
   "cell_type": "markdown",
   "metadata": {},
   "source": [
    "# Test\n",
    "\n",
    "Import usefull packages + the njord library. For installations details please refer to README file. "
   ]
  },
  {
   "cell_type": "code",
   "execution_count": 1,
   "metadata": {},
   "outputs": [],
   "source": [
    "import njord as nj\n",
    "import numpy as np\n",
    "import pandas as pd\n",
    "import matplotlib.pyplot as plt"
   ]
  },
  {
   "cell_type": "markdown",
   "metadata": {},
   "source": [
    "## Hyper parameters"
   ]
  },
  {
   "cell_type": "code",
   "execution_count": 2,
   "metadata": {},
   "outputs": [],
   "source": [
    "PATH = \"../dataset\"\n",
    "SYMBOL = \"btcusdt\"\n",
    "FILENAME = \"dataset_binance_{}_period_600.csv\".format(SYMBOL)\n",
    "LOOKBACK = 8\n",
    "LOOKUP = 1"
   ]
  },
  {
   "cell_type": "markdown",
   "metadata": {},
   "source": [
    "## Dataset\n",
    "\n",
    "Load the dataset from .csv file to a pandas dataframe."
   ]
  },
  {
   "cell_type": "code",
   "execution_count": 3,
   "metadata": {},
   "outputs": [],
   "source": [
    "dataset = pd.read_csv(PATH + \"/\" + FILENAME)\n",
    "dataset = dataset.set_index(\"time\")\n",
    "dataset.index = pd.to_datetime(dataset.index)"
   ]
  },
  {
   "cell_type": "code",
   "execution_count": 4,
   "metadata": {},
   "outputs": [
    {
     "name": "stdout",
     "output_type": "stream",
     "text": [
      "Dataset size = \n",
      "11748\n",
      "Dataset head = \n",
      "                     open_price_#t  high_price_#t  low_price_#t  \\\n",
      "time                                                              \n",
      "2018-10-01 00:10:00        6626.57        6649.00       6622.13   \n",
      "2018-10-01 00:20:00        6645.21        6648.00       6632.59   \n",
      "2018-10-01 00:30:00        6640.03        6655.00       6638.98   \n",
      "2018-10-01 00:40:00        6643.43        6653.33       6638.78   \n",
      "2018-10-01 00:50:00        6650.00        6653.70       6641.30   \n",
      "\n",
      "                     close_price_#t  avg_price_#t  sum_qty_diff_norm_#n  \n",
      "time                                                                     \n",
      "2018-10-01 00:10:00         6645.20   6639.074520              0.270180  \n",
      "2018-10-01 00:20:00         6640.03   6639.989762              0.216486  \n",
      "2018-10-01 00:30:00         6643.41   6648.777817              0.536584  \n",
      "2018-10-01 00:40:00         6648.80   6644.145194             -0.020611  \n",
      "2018-10-01 00:50:00         6645.02   6646.068371              0.174034  \n"
     ]
    }
   ],
   "source": [
    "print(\"Dataset size = \\n{}\".format(dataset.size))\n",
    "print(\"Dataset head = \\n{}\".format(dataset.head()))"
   ]
  },
  {
   "cell_type": "markdown",
   "metadata": {},
   "source": [
    "## Batch\n",
    "\n",
    "We now have to build the batch, i.e. a feature array X with its associated targets Y. "
   ]
  },
  {
   "cell_type": "code",
   "execution_count": 5,
   "metadata": {},
   "outputs": [],
   "source": [
    "batch = nj.Batch(dataset, 8, 1)"
   ]
  },
  {
   "cell_type": "code",
   "execution_count": 42,
   "metadata": {
    "scrolled": false
   },
   "outputs": [
    {
     "name": "stdout",
     "output_type": "stream",
     "text": [
      "X shape = (1950, 8, 6)\n",
      "Y shape = (1950, 1, 6)\n"
     ]
    }
   ],
   "source": [
    "X, Y = batch.build(center=False)\n",
    "print(\"X shape = {}\".format(X.shape))\n",
    "print(\"Y shape = {}\".format(Y.shape))"
   ]
  },
  {
   "cell_type": "code",
   "execution_count": 43,
   "metadata": {},
   "outputs": [
    {
     "data": {
      "image/png": "[encoded data removed]",
      "text/plain": [
       "<Figure size 432x288 with 1 Axes>"
      ]
     },
     "metadata": {},
     "output_type": "display_data"
    }
   ],
   "source": [
    "fig = plt.figure()\n",
    "plt.plot(X[0,:,1], color=\"b\")\n",
    "plt.plot(X[0,:,1], color=\"r\")\n",
    "plt.plot(X[0,:,2], color=\"g\")\n",
    "plt.plot(X[0,:,3], color=\"c\")\n",
    "plt.plot(X[0,:,4], color=\"k\")\n",
    "plt.xlabel(\"time\")\n",
    "plt.ylabel(\"price {}\".format(SYMBOL))\n",
    "plt.show()"
   ]
  },
  {
   "cell_type": "markdown",
   "metadata": {},
   "source": [
    "## Normalise the data\n",
    "\n",
    "We now have the normalise the timeseries data before enterrring the training loop."
   ]
  },
  {
   "cell_type": "markdown",
   "metadata": {},
   "source": [
    "### 1. Mean and Std normalisation\n",
    "\n",
    "Compute the mean $\\mu$ and standard deviation $\\sigma$ of the batch.\n",
    "\n",
    "Rescale the dataset as:\n",
    "\n",
    "$$ X_{norm} = \\frac{X - \\mu}{\\sigma} $$"
   ]
  },
  {
   "cell_type": "code",
   "execution_count": 44,
   "metadata": {},
   "outputs": [],
   "source": [
    "# Compute the mean.\n",
    "mean = X.mean(axis=0)\n",
    "# Compute the standard deviation.\n",
    "std = X.mean(axis=0)\n",
    "# Normalise the data.\n",
    "X_norm = ( X - mean ) / ( std + 1.0E-8 )"
   ]
  },
  {
   "cell_type": "code",
   "execution_count": 45,
   "metadata": {},
   "outputs": [
    {
     "data": {
      "image/png": "[encoded data removed]",
      "text/plain": [
       "<Figure size 432x288 with 1 Axes>"
      ]
     },
     "metadata": {},
     "output_type": "display_data"
    }
   ],
   "source": [
    "# Histogram.\n",
    "hist1 = plt.hist(X_norm[:,:,0].reshape(-1, 1), 50, density=True, facecolor=\"b\", alpha=0.75)"
   ]
  },
  {
   "cell_type": "markdown",
   "metadata": {},
   "source": [
    "### 2. Uniform normalisation\n",
    "\n",
    "Compute the minimum and maximum for each timeseries sample.\n",
    "\n",
    "Rescale the dataset as:\n",
    "\n",
    "$$ X_{norm} = \\frac{ (X - \\max(X) + X - \\min(X)}{\\max(X) - \\min(X)} $$"
   ]
  },
  {
   "cell_type": "code",
   "execution_count": 46,
   "metadata": {},
   "outputs": [
    {
     "name": "stdout",
     "output_type": "stream",
     "text": [
      "X_norm shape = (1950, 8, 6)\n",
      "X_max shape  = (1950, 1, 6)\n",
      "X_min shape  = (1950, 1, 6)\n",
      "X_max = [[6.65197000e+03 6.66405000e+03 6.65002000e+03 6.65767000e+03\n",
      "  6.65599581e+03 5.36584443e-01]]\n",
      "X_min = [[ 6.62657000e+03  6.64800000e+03  6.62213000e+03  6.64003000e+03\n",
      "   6.63907452e+03 -7.18652981e-02]]\n"
     ]
    }
   ],
   "source": [
    "# Compute the maximum and minimum.\n",
    "X_max = np.max(X, axis=1, keepdims=True)\n",
    "X_min = np.min(X, axis=1, keepdims=True)\n",
    "\n",
    "# Normalise the data.\n",
    "X_norm = ( X - X_min ) / ( X_max - X_min )\n",
    "\n",
    "# Display shapes.\n",
    "print(\"X_norm shape = {}\".format(X_norm.shape))\n",
    "print(\"X_max shape  = {}\".format(X_max.shape))\n",
    "print(\"X_min shape  = {}\".format(X_min.shape))\n",
    "\n",
    "# Display the max and mins.\n",
    "print(\"X_max = {}\".format(X_max[0]))\n",
    "print(\"X_min = {}\".format(X_min[0]))"
   ]
  },
  {
   "cell_type": "code",
   "execution_count": 51,
   "metadata": {},
   "outputs": [
    {
     "data": {
      "image/png": "[encoded data removed]",
      "text/plain": [
       "<Figure size 432x288 with 1 Axes>"
      ]
     },
     "metadata": {},
     "output_type": "display_data"
    }
   ],
   "source": [
    "# Histogram.\n",
    "hist1 = plt.hist(X_norm[:,:,0].reshape(-1, 1), 10, density=True, facecolor=\"b\", alpha=0.75)"
   ]
  },
  {
   "cell_type": "code",
   "execution_count": 48,
   "metadata": {},
   "outputs": [
    {
     "name": "stdout",
     "output_type": "stream",
     "text": [
      "[[0.         0.0623053  0.         0.2930839  0.         0.56215912]\n",
      " [0.73385827 0.         0.37504482 0.         0.05408823 0.47391224]\n",
      " [0.52992126 0.43613707 0.6041592  0.19160998 0.57343731 1.        ]\n",
      " [0.66377953 0.33208723 0.59698817 0.49716553 0.29966241 0.08423808]\n",
      " [0.92244094 0.35514019 0.68734313 0.28287982 0.41331672 0.4041402 ]\n",
      " [0.72637795 0.35514019 0.70885622 0.56349206 0.49068147 0.93734034]\n",
      " [0.83897638 0.66417445 0.89171746 0.67687075 0.81534091 0.        ]\n",
      " [1.         1.         1.         1.         1.         0.63161672]]\n"
     ]
    }
   ],
   "source": [
    "print(X_norm[0])\n"
   ]
  },
  {
   "cell_type": "code",
   "execution_count": null,
   "metadata": {},
   "outputs": [],
   "source": []
  }
 ],
 "metadata": {
  "kernelspec": {
   "display_name": "Python 3",
   "language": "python",
   "name": "python3"
  },
  "language_info": {
   "codemirror_mode": {
    "name": "ipython",
    "version": 3
   },
   "file_extension": ".py",
   "mimetype": "text/x-python",
   "name": "python",
   "nbconvert_exporter": "python",
   "pygments_lexer": "ipython3",
   "version": "3.6.6"
  }
 },
 "nbformat": 4,
 "nbformat_minor": 2
}
